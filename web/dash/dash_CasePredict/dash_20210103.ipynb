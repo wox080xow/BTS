{
 "cells": [
  {
   "cell_type": "markdown",
   "metadata": {},
   "source": [
    "### 安裝Dash相關套件"
   ]
  },
  {
   "cell_type": "code",
   "execution_count": null,
   "metadata": {
    "jupyter": {
     "source_hidden": true
    }
   },
   "outputs": [],
   "source": [
    "# pip install dash"
   ]
  },
  {
   "cell_type": "code",
   "execution_count": null,
   "metadata": {
    "jupyter": {
     "source_hidden": true
    }
   },
   "outputs": [],
   "source": [
    "# pip install dash-html-components"
   ]
  },
  {
   "cell_type": "code",
   "execution_count": null,
   "metadata": {
    "jupyter": {
     "source_hidden": true
    }
   },
   "outputs": [],
   "source": [
    "# pip install dash-core-components"
   ]
  },
  {
   "cell_type": "code",
   "execution_count": null,
   "metadata": {
    "jupyter": {
     "source_hidden": true
    }
   },
   "outputs": [],
   "source": [
    "# pip install jupyter-dash"
   ]
  },
  {
   "cell_type": "markdown",
   "metadata": {},
   "source": [
    "### 重要機構地圖資料準備"
   ]
  },
  {
   "cell_type": "markdown",
   "metadata": {},
   "source": [
    "https://plotly.com/python/mapbox-layers/"
   ]
  },
  {
   "cell_type": "code",
   "execution_count": 1,
   "metadata": {},
   "outputs": [],
   "source": [
    "# 準備捷運站相關資料\n",
    "import pandas as pd\n",
    "df = pd.read_csv(\"./done_data/subway_result.csv\")\n",
    "df_lng = df['經度'].astype('str').tolist()\n",
    "df_lat = df['緯度'].astype('str').tolist()\n",
    "df_name = df['出入口名稱'].astype('str').tolist()"
   ]
  },
  {
   "cell_type": "code",
   "execution_count": 2,
   "metadata": {},
   "outputs": [
    {
     "name": "stdout",
     "output_type": "stream",
     "text": [
      "(3187,) (3187,) (3187,)\n"
     ]
    }
   ],
   "source": [
    "# 準備公車站相關資料\n",
    "df2 = pd.read_csv(\"./done_data/bus_result.csv\")\n",
    "# df2 = df2.head(100)\n",
    "print(df2['經度'].shape, df2['緯度'].shape, df2['properties.bsm_chines'].shape)\n",
    "df2_lng = df2['經度'].astype('str').tolist()\n",
    "df2_lat = df2['緯度'].astype('str').tolist()\n",
    "df2_name = df2['properties.bsm_chines'].astype('str').tolist()"
   ]
  },
  {
   "cell_type": "code",
   "execution_count": 3,
   "metadata": {},
   "outputs": [
    {
     "data": {
      "text/html": [
       "<div>\n",
       "<style scoped>\n",
       "    .dataframe tbody tr th:only-of-type {\n",
       "        vertical-align: middle;\n",
       "    }\n",
       "\n",
       "    .dataframe tbody tr th {\n",
       "        vertical-align: top;\n",
       "    }\n",
       "\n",
       "    .dataframe thead th {\n",
       "        text-align: right;\n",
       "    }\n",
       "</style>\n",
       "<table border=\"1\" class=\"dataframe\">\n",
       "  <thead>\n",
       "    <tr style=\"text-align: right;\">\n",
       "      <th></th>\n",
       "      <th>機構名稱</th>\n",
       "      <th>Longitude</th>\n",
       "      <th>Latitude</th>\n",
       "    </tr>\n",
       "  </thead>\n",
       "  <tbody>\n",
       "    <tr>\n",
       "      <th>0</th>\n",
       "      <td>佳譽堂中醫診所</td>\n",
       "      <td>121.516999</td>\n",
       "      <td>25.030481</td>\n",
       "    </tr>\n",
       "    <tr>\n",
       "      <th>1</th>\n",
       "      <td>仲景中醫診所</td>\n",
       "      <td>121.527329</td>\n",
       "      <td>25.043628</td>\n",
       "    </tr>\n",
       "    <tr>\n",
       "      <th>2</th>\n",
       "      <td>華御中醫診所</td>\n",
       "      <td>121.531051</td>\n",
       "      <td>25.040480</td>\n",
       "    </tr>\n",
       "    <tr>\n",
       "      <th>3</th>\n",
       "      <td>日明耀中醫診所</td>\n",
       "      <td>121.513098</td>\n",
       "      <td>25.043609</td>\n",
       "    </tr>\n",
       "    <tr>\n",
       "      <th>4</th>\n",
       "      <td>華陽中醫診所</td>\n",
       "      <td>121.532434</td>\n",
       "      <td>25.043213</td>\n",
       "    </tr>\n",
       "  </tbody>\n",
       "</table>\n",
       "</div>"
      ],
      "text/plain": [
       "      機構名稱   Longitude   Latitude\n",
       "0  佳譽堂中醫診所  121.516999  25.030481\n",
       "1   仲景中醫診所  121.527329  25.043628\n",
       "2   華御中醫診所  121.531051  25.040480\n",
       "3  日明耀中醫診所  121.513098  25.043609\n",
       "4   華陽中醫診所  121.532434  25.043213"
      ]
     },
     "execution_count": 3,
     "metadata": {},
     "output_type": "execute_result"
    }
   ],
   "source": [
    "# 準備醫療機構資料\n",
    "\n",
    "def hospital(file_addr):\n",
    "    result = pd.read_csv(file_addr, encoding = 'big5')\n",
    "    return result.iloc[:,0:3]\n",
    "\n",
    "hospital_df = pd.concat([hospital(\"./data/台北市診所清冊1090926(含經緯度).csv\"), hospital(\"./data/台北市醫院清冊1090926(含經緯度).csv\")], axis = 0)\n",
    "hospital_df = pd.concat([hospital_df, hospital(\"./data/臺北市藥局清冊.csv\")], axis = 0)\n",
    "hospital_df.head()"
   ]
  },
  {
   "cell_type": "code",
   "execution_count": 4,
   "metadata": {},
   "outputs": [
    {
     "data": {
      "text/html": [
       "<div>\n",
       "<style scoped>\n",
       "    .dataframe tbody tr th:only-of-type {\n",
       "        vertical-align: middle;\n",
       "    }\n",
       "\n",
       "    .dataframe tbody tr th {\n",
       "        vertical-align: top;\n",
       "    }\n",
       "\n",
       "    .dataframe thead th {\n",
       "        text-align: right;\n",
       "    }\n",
       "</style>\n",
       "<table border=\"1\" class=\"dataframe\">\n",
       "  <thead>\n",
       "    <tr style=\"text-align: right;\">\n",
       "      <th></th>\n",
       "      <th>Name</th>\n",
       "      <th>Longtitude</th>\n",
       "      <th>Latitude</th>\n",
       "    </tr>\n",
       "  </thead>\n",
       "  <tbody>\n",
       "    <tr>\n",
       "      <th>0</th>\n",
       "      <td>臺北市松山區三民國民小學附設幼兒園</td>\n",
       "      <td>121.564280</td>\n",
       "      <td>25.063210</td>\n",
       "    </tr>\n",
       "    <tr>\n",
       "      <th>1</th>\n",
       "      <td>臺北市松山區民權國民小學附設幼兒園</td>\n",
       "      <td>121.562304</td>\n",
       "      <td>25.062387</td>\n",
       "    </tr>\n",
       "    <tr>\n",
       "      <th>2</th>\n",
       "      <td>臺北市松山區民族國民小學附設幼兒園</td>\n",
       "      <td>121.551798</td>\n",
       "      <td>25.059495</td>\n",
       "    </tr>\n",
       "    <tr>\n",
       "      <th>3</th>\n",
       "      <td>臺北市立松山幼兒園</td>\n",
       "      <td>121.551471</td>\n",
       "      <td>25.056748</td>\n",
       "    </tr>\n",
       "    <tr>\n",
       "      <th>4</th>\n",
       "      <td>臺北市松山區西松國民小學附設幼兒園</td>\n",
       "      <td>121.563488</td>\n",
       "      <td>25.052302</td>\n",
       "    </tr>\n",
       "  </tbody>\n",
       "</table>\n",
       "</div>"
      ],
      "text/plain": [
       "                Name  Longtitude   Latitude\n",
       "0  臺北市松山區三民國民小學附設幼兒園  121.564280  25.063210\n",
       "1  臺北市松山區民權國民小學附設幼兒園  121.562304  25.062387\n",
       "2  臺北市松山區民族國民小學附設幼兒園  121.551798  25.059495\n",
       "3          臺北市立松山幼兒園  121.551471  25.056748\n",
       "4  臺北市松山區西松國民小學附設幼兒園  121.563488  25.052302"
      ]
     },
     "execution_count": 4,
     "metadata": {},
     "output_type": "execute_result"
    }
   ],
   "source": [
    "# 準備教育機構\n",
    "education_1 = pd.read_csv(\"./data/taipeiPrivateSchool00.csv\")\n",
    "education_1 = education_1.iloc[:,1:4]\n",
    "education_2 = pd.read_csv(\"./data/taipeiPublicKindergarten00.csv\")\n",
    "education_2 = education_2.iloc[:,0:3]\n",
    "education_df = pd.concat([education_2,education_1], axis = 0)\n",
    "education_df.head()"
   ]
  },
  {
   "cell_type": "code",
   "execution_count": 5,
   "metadata": {},
   "outputs": [
    {
     "data": {
      "text/html": [
       "<div>\n",
       "<style scoped>\n",
       "    .dataframe tbody tr th:only-of-type {\n",
       "        vertical-align: middle;\n",
       "    }\n",
       "\n",
       "    .dataframe tbody tr th {\n",
       "        vertical-align: top;\n",
       "    }\n",
       "\n",
       "    .dataframe thead th {\n",
       "        text-align: right;\n",
       "    }\n",
       "</style>\n",
       "<table border=\"1\" class=\"dataframe\">\n",
       "  <thead>\n",
       "    <tr style=\"text-align: right;\">\n",
       "      <th></th>\n",
       "      <th>Name</th>\n",
       "      <th>Longtitude</th>\n",
       "      <th>Latitude</th>\n",
       "    </tr>\n",
       "  </thead>\n",
       "  <tbody>\n",
       "    <tr>\n",
       "      <th>0</th>\n",
       "      <td>臺北市政府</td>\n",
       "      <td>121.563997</td>\n",
       "      <td>25.037531</td>\n",
       "    </tr>\n",
       "    <tr>\n",
       "      <th>1</th>\n",
       "      <td>臺北市政府秘書處</td>\n",
       "      <td>121.563997</td>\n",
       "      <td>25.037531</td>\n",
       "    </tr>\n",
       "    <tr>\n",
       "      <th>2</th>\n",
       "      <td>臺北市市政大樓公共事務管理中心</td>\n",
       "      <td>121.563997</td>\n",
       "      <td>25.037531</td>\n",
       "    </tr>\n",
       "    <tr>\n",
       "      <th>3</th>\n",
       "      <td>臺北市政府民政局</td>\n",
       "      <td>121.564433</td>\n",
       "      <td>25.037542</td>\n",
       "    </tr>\n",
       "    <tr>\n",
       "      <th>4</th>\n",
       "      <td>臺北市孔廟管理委員會</td>\n",
       "      <td>121.516179</td>\n",
       "      <td>25.072762</td>\n",
       "    </tr>\n",
       "  </tbody>\n",
       "</table>\n",
       "</div>"
      ],
      "text/plain": [
       "              Name  Longtitude   Latitude\n",
       "0            臺北市政府  121.563997  25.037531\n",
       "1         臺北市政府秘書處  121.563997  25.037531\n",
       "2  臺北市市政大樓公共事務管理中心  121.563997  25.037531\n",
       "3         臺北市政府民政局  121.564433  25.037542\n",
       "4       臺北市孔廟管理委員會  121.516179  25.072762"
      ]
     },
     "execution_count": 5,
     "metadata": {},
     "output_type": "execute_result"
    }
   ],
   "source": [
    "# 準備政府機構\n",
    "gov_df = pd.read_csv(\"./data/taipeiGovernmentAgency01.csv\")\n",
    "gov_df = gov_df.iloc[:,0:3]\n",
    "gov_df.head()"
   ]
  },
  {
   "cell_type": "code",
   "execution_count": 6,
   "metadata": {},
   "outputs": [
    {
     "data": {
      "text/html": [
       "<div>\n",
       "<style scoped>\n",
       "    .dataframe tbody tr th:only-of-type {\n",
       "        vertical-align: middle;\n",
       "    }\n",
       "\n",
       "    .dataframe tbody tr th {\n",
       "        vertical-align: top;\n",
       "    }\n",
       "\n",
       "    .dataframe thead th {\n",
       "        text-align: right;\n",
       "    }\n",
       "</style>\n",
       "<table border=\"1\" class=\"dataframe\">\n",
       "  <thead>\n",
       "    <tr style=\"text-align: right;\">\n",
       "      <th></th>\n",
       "      <th>Longtitude</th>\n",
       "      <th>Latitude</th>\n",
       "      <th>Name</th>\n",
       "    </tr>\n",
       "  </thead>\n",
       "  <tbody>\n",
       "    <tr>\n",
       "      <th>0</th>\n",
       "      <td>121.565344</td>\n",
       "      <td>24.989453</td>\n",
       "      <td>臺北市文山區久康街91~120號</td>\n",
       "    </tr>\n",
       "    <tr>\n",
       "      <th>1</th>\n",
       "      <td>121.586374</td>\n",
       "      <td>24.989449</td>\n",
       "      <td>臺北市文山區政大二街171巷31~60號</td>\n",
       "    </tr>\n",
       "    <tr>\n",
       "      <th>2</th>\n",
       "      <td>121.5479611</td>\n",
       "      <td>25.0010014</td>\n",
       "      <td>臺北市文山區興隆路二段153巷5弄1~30號</td>\n",
       "    </tr>\n",
       "    <tr>\n",
       "      <th>3</th>\n",
       "      <td>121.5479611</td>\n",
       "      <td>25.0010014</td>\n",
       "      <td>臺北市文山區興隆路二段153巷5弄1~30號</td>\n",
       "    </tr>\n",
       "    <tr>\n",
       "      <th>4</th>\n",
       "      <td>121.5479611</td>\n",
       "      <td>25.0010014</td>\n",
       "      <td>臺北市文山區興隆路二段153巷5弄1~30號</td>\n",
       "    </tr>\n",
       "  </tbody>\n",
       "</table>\n",
       "</div>"
      ],
      "text/plain": [
       "    Longtitude    Latitude                    Name\n",
       "0   121.565344   24.989453        臺北市文山區久康街91~120號\n",
       "1   121.586374   24.989449    臺北市文山區政大二街171巷31~60號\n",
       "2  121.5479611  25.0010014  臺北市文山區興隆路二段153巷5弄1~30號\n",
       "3  121.5479611  25.0010014  臺北市文山區興隆路二段153巷5弄1~30號\n",
       "4  121.5479611  25.0010014  臺北市文山區興隆路二段153巷5弄1~30號"
      ]
     },
     "execution_count": 6,
     "metadata": {},
     "output_type": "execute_result"
    }
   ],
   "source": [
    "# 準備2020的中古屋資料\n",
    "house2020_df = pd.read_csv('./done_data/coord_house2020.csv', header = None)\n",
    "house2020_df.columns = ['Longtitude','Latitude','Name']\n",
    "house2020_df.head()"
   ]
  },
  {
   "cell_type": "markdown",
   "metadata": {},
   "source": [
    "### 各行政區資料準備"
   ]
  },
  {
   "cell_type": "code",
   "execution_count": 7,
   "metadata": {},
   "outputs": [
    {
     "data": {
      "text/plain": [
       "Index(['EightCount', 'ParkCount', 'FuneralCount', 'GasCount', 'CrimeCount',\n",
       "       'PoliceCount', 'busCount', 'subwayCount', 'govCount', 'clinicCount',\n",
       "       'hospitalCount', 'pharmacyCount', 'fireareaCount', 'firewayCount',\n",
       "       '土地面積', '總人口數', '男性人數', '女性人數', '人口密度', '每戶人數', '每戶成年人數', '所得收入總計',\n",
       "       '可支配所得', '消費支出', '儲蓄', '所得總額'],\n",
       "      dtype='object')"
      ]
     },
     "execution_count": 7,
     "metadata": {},
     "output_type": "execute_result"
    }
   ],
   "source": [
    "area_df = pd.read_csv(\"merge_df.csv\")\n",
    "area_df = area_df.set_index('Area')\n",
    "area_df.columns"
   ]
  },
  {
   "cell_type": "markdown",
   "metadata": {},
   "source": [
    "Main app"
   ]
  },
  {
   "cell_type": "code",
   "execution_count": 8,
   "metadata": {},
   "outputs": [
    {
     "name": "stdout",
     "output_type": "stream",
     "text": [
      "Dash app running on http://127.0.0.1:8050/\n"
     ]
    }
   ],
   "source": [
    "import dash\n",
    "from jupyter_dash import JupyterDash\n",
    "import dash_core_components as dcc\n",
    "import dash_html_components as html\n",
    "import pandas as pd\n",
    "import plotly.graph_objs as go\n",
    "import plotly.express as px\n",
    "import re\n",
    "\n",
    "app = JupyterDash(__name__)\n",
    "\n",
    "df = pd.DataFrame({\n",
    "    \"Category\": [\"Population\", \"Denm\", \"Bananas\", \"Apples\", \"Oranges\", \"Capital\"],\n",
    "    \"Amount\": [40000, 10000, 20000, 20000, 40000, 50000]\n",
    "})\n",
    "\n",
    "fig = px.bar(df, x=\"Category\", y=\"Amount\", barmode=\"group\")\n",
    "\n",
    "\n",
    "app.layout = html.Div([\n",
    "    html.Div([\n",
    "        html.H1(children='Housing Information in Taipei City', style = {\n",
    "        }),\n",
    "        html.P(children='Please click the symbol in the rigth side to select the facility you want', style = {\n",
    "            'font-size':'16px'\n",
    "        }),\n",
    "        html.P(children='Taipei officially Taipei City, is the capital and a special municipality of Taiwan. Located in Northern Taiwan, Taipei City is an enclave of the municipality of New Taipei City that sits about 25 km southwest of the northern port city of Keelung. Most of the city rests on the Taipei Basin, an ancient lakebed. The basin is bounded by the relatively narrow valleys of the Keelung and Xindian rivers, which join to form the Tamsui River', style = {\n",
    "            'font-size':'12px'\n",
    "        }),\n",
    "        dcc.Graph(\n",
    "            id='gapminder',\n",
    "            figure={\n",
    "                'data': [\n",
    "                    go.Scattermapbox(\n",
    "                        lat=df_lat,\n",
    "                        lon=df_lng,\n",
    "                        mode='markers',\n",
    "                        name=\"Metro Station\",\n",
    "                        marker=go.scattermapbox.Marker(\n",
    "                size = 10, color='orange', symbol='rail-metro'\n",
    "            ),\n",
    "            text = df_name,\n",
    "            ),\n",
    "                    go.Scattermapbox(\n",
    "                        lat = df2_lat,\n",
    "                        lon = df2_lng,\n",
    "                        mode = 'markers',\n",
    "                        name=\"Bus Station\",\n",
    "                        marker = go.scattermapbox.Marker(\n",
    "                size = 7, color='red',symbol='bus'\n",
    "            ),\n",
    "            text = df2_name,\n",
    "            ),\n",
    "            go.Scattermapbox(\n",
    "                        lat=hospital_df['Latitude'],\n",
    "                        lon=hospital_df['Longitude'],\n",
    "                        mode='markers',\n",
    "                        name=\"Health Facility\",\n",
    "                        marker=go.scattermapbox.Marker(\n",
    "                size = 7, color='blue', symbol='hospital'\n",
    "            ),\n",
    "            text = hospital_df['機構名稱'],\n",
    "            ),\n",
    "            go.Scattermapbox(\n",
    "                        lat=education_df['Latitude'],\n",
    "                        lon=education_df['Longtitude'],\n",
    "                        mode='markers',\n",
    "                        name=\"Private Institutions and Schools\",\n",
    "                        marker=go.scattermapbox.Marker(\n",
    "                size = 10, color='green', symbol='school'\n",
    "            ),\n",
    "            text = education_df['Name'],\n",
    "            ),\n",
    "            go.Scattermapbox(\n",
    "                        lat=gov_df['Latitude'],\n",
    "                        lon=gov_df['Longtitude'],\n",
    "                        mode='markers',\n",
    "                        name=\"Public Institutions and Schools\",\n",
    "                        marker=go.scattermapbox.Marker(\n",
    "                size = 10, color='purple', symbol='police'\n",
    "            ),\n",
    "            text = gov_df['Name'],\n",
    "            ),\n",
    "            # 加入中古屋的資料\n",
    "            go.Scattermapbox(\n",
    "                        lat=house2020_df['Latitude'],\n",
    "                        lon=house2020_df['Longtitude'],\n",
    "                        mode='markers',\n",
    "                        name=\"House Information\",\n",
    "                        marker=go.scattermapbox.Marker(\n",
    "                size = 10, color='orange'\n",
    "            ),\n",
    "            text = house2020_df['Name'],\n",
    "            )\n",
    "                ],\n",
    "            'layout': go.Layout(\n",
    "                autosize=True,\n",
    "                hovermode='closest',\n",
    "                margin=dict(\n",
    "                    l=20,\n",
    "                    r=20,\n",
    "                    b=20,\n",
    "                    t=20\n",
    "                ),\n",
    "                mapbox=dict(\n",
    "                    accesstoken='pk.eyJ1IjoiZXJpa3NvbjA2MTEiLCJhIjoiY2tpeTRib3RnMTd6dTJ5c2Joa3diZXVqcyJ9.2Qtsf3xtMppGs5lwXvDvyw',\n",
    "                    bearing = 0,\n",
    "                    center = dict(lat=25.03374536000858,lon=121.54328512547893),\n",
    "                    pitch = 0,\n",
    "                    zoom = 15\n",
    "                    )) #layoutend\n",
    "                }) # figure end\n",
    "            ]), #div end\n",
    "    html.Div([ #information div\n",
    "        html.Div([\n",
    "            html.H2(\"Districts Information\"),\n",
    "            html.Table([\n",
    "                html.Tr([html.Td(['Population']), html.Td(id='output1')]),\n",
    "                html.Tr([html.Td(['Population Density']), html.Td(id='output2')]),\n",
    "                html.Tr([html.Td(['Number of Bus Stops']), html.Td(id='output3')]),\n",
    "                html.Tr([html.Td(['Number of MRT Stations']), html.Td(id='output4')]),\n",
    "                html.Tr([html.Td(['Number of Hospitals']), html.Td(id='output5')]), #hospitalCount\n",
    "                html.Tr([html.Td(['Number of Gov Agencies']), html.Td(id='output6')]),# govCount\n",
    "                html.Tr([html.Td(['Income per Capital']), html.Td(id='output7')])\n",
    "                        ])\n",
    "                    ],style={'width':'50%','display': 'inline-block'}),\n",
    "        html.Div([\n",
    "            html.H2(\"House Information\"),\n",
    "            html.P(id='hover-data'),\n",
    "            ],style={'width':'50%', 'display': 'inline-block'})\n",
    "    ]),\n",
    "\n",
    "    dcc.Graph(\n",
    "    id='example-graph',\n",
    "    figure=fig\n",
    "    )\n",
    "\n",
    "], style={'marginLeft': 150, 'marginRight': 150, 'font-family':'微軟正黑體'})\n",
    "\n",
    "\n",
    "@app.callback(\n",
    "    dash.dependencies.Output('output1', 'children'),\n",
    "    dash.dependencies.Output('output2', 'children'),\n",
    "    dash.dependencies.Output('output3', 'children'),\n",
    "    dash.dependencies.Output('output4', 'children'),\n",
    "    dash.dependencies.Output('output5', 'children'),\n",
    "    dash.dependencies.Output('output6', 'children'),\n",
    "    dash.dependencies.Output('output7', 'children'),\n",
    "    dash.dependencies.Input('gapminder', 'hoverData'))\n",
    "def update_output(hoverData):\n",
    "    if hoverData is None:\n",
    "        return 'None','None','None','None','None','None','None'\n",
    "    else:\n",
    "        address = hoverData['points'][0]['text']\n",
    "        try:\n",
    "            result_match = re.search(r'(.{2}\\u5340)', address)\n",
    "            value = result_match[0]\n",
    "            output1 = area_df['總人口數'][value]\n",
    "            output2 = area_df['人口密度'][value]\n",
    "            output3 = area_df['busCount'][value]\n",
    "            output4 = area_df['subwayCount'][value]\n",
    "            output5 = area_df['hospitalCount'][value]\n",
    "            output6 = area_df['govCount'][value]\n",
    "            output7 = area_df['所得總額'][value]\n",
    "            return output1, output2, output3, output4, output5, output6, output7\n",
    "        except:\n",
    "            return 'None','None','None','None','None','None','None'\n",
    "\n",
    "@app.callback(\n",
    "    dash.dependencies.Output('hover-data', 'children'),\n",
    "    dash.dependencies.Input('gapminder', 'hoverData'))\n",
    "def display_hover_data(hover_data):\n",
    "    if hover_data is None:\n",
    "        return 'Please select a location'\n",
    "    else:\n",
    "        loaction = 'Loaction: {}'.format(hover_data['points'][0]['text'])\n",
    "        return loaction\n",
    "\n",
    "if __name__ == '__main__':\n",
    "#     app.run_server(debug = True, mode = 'inline')\n",
    "    app.run_server(debug = True)"
   ]
  },
  {
   "cell_type": "markdown",
   "metadata": {},
   "source": [
    "\n",
    "### https://dash-gallery.plotly.host/dash-spatial-clustering/"
   ]
  },
  {
   "cell_type": "code",
   "execution_count": null,
   "metadata": {},
   "outputs": [],
   "source": [
    "# 預計利用2020的資料，2020資料對應到資料表，房數、廳數、車位、建設材料、\n",
    "# 下方條狀圖比較跟該區域的轉移坪數、單價、總價比較，統計平均數、中位數"
   ]
  }
 ],
 "metadata": {
  "kernelspec": {
   "display_name": "Python 3",
   "language": "python",
   "name": "python3"
  },
  "language_info": {
   "codemirror_mode": {
    "name": "ipython",
    "version": 3
   },
   "file_extension": ".py",
   "mimetype": "text/x-python",
   "name": "python",
   "nbconvert_exporter": "python",
   "pygments_lexer": "ipython3",
   "version": "3.8.5"
  }
 },
 "nbformat": 4,
 "nbformat_minor": 4
}
