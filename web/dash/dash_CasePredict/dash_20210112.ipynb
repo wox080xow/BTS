{
 "cells": [
  {
   "cell_type": "markdown",
   "metadata": {},
   "source": [
    "### 安裝Dash相關套件"
   ]
  },
  {
   "cell_type": "code",
   "execution_count": 17,
   "metadata": {
    "jupyter": {
     "source_hidden": true
    }
   },
   "outputs": [],
   "source": [
    "# pip install dash"
   ]
  },
  {
   "cell_type": "code",
   "execution_count": 18,
   "metadata": {
    "jupyter": {
     "source_hidden": true
    }
   },
   "outputs": [],
   "source": [
    "# pip install dash-html-components"
   ]
  },
  {
   "cell_type": "code",
   "execution_count": 19,
   "metadata": {
    "jupyter": {
     "source_hidden": true
    }
   },
   "outputs": [],
   "source": [
    "# pip install dash-core-components"
   ]
  },
  {
   "cell_type": "code",
   "execution_count": 20,
   "metadata": {
    "jupyter": {
     "source_hidden": true
    }
   },
   "outputs": [],
   "source": [
    "# pip install jupyter-dash"
   ]
  },
  {
   "cell_type": "markdown",
   "metadata": {},
   "source": [
    "### 重要機構地圖資料準備"
   ]
  },
  {
   "cell_type": "markdown",
   "metadata": {},
   "source": [
    "https://plotly.com/python/mapbox-layers/"
   ]
  },
  {
   "cell_type": "code",
   "execution_count": 21,
   "metadata": {},
   "outputs": [],
   "source": [
    "# 準備捷運站相關資料\n",
    "import pandas as pd\n",
    "df = pd.read_csv(\"./done_data/subway_result.csv\")\n",
    "df_lng = df['經度'].astype('str').tolist()\n",
    "df_lat = df['緯度'].astype('str').tolist()\n",
    "df_name = df['出入口名稱'].astype('str').tolist()"
   ]
  },
  {
   "cell_type": "code",
   "execution_count": 22,
   "metadata": {},
   "outputs": [
    {
     "name": "stdout",
     "output_type": "stream",
     "text": [
      "(3187,) (3187,) (3187,)\n"
     ]
    }
   ],
   "source": [
    "# 準備公車站相關資料\n",
    "df2 = pd.read_csv(\"./done_data/bus_result.csv\")\n",
    "# df2 = df2.head(100)\n",
    "print(df2['經度'].shape, df2['緯度'].shape, df2['properties.bsm_chines'].shape)\n",
    "df2_lng = df2['經度'].astype('str').tolist()\n",
    "df2_lat = df2['緯度'].astype('str').tolist()\n",
    "df2_name = df2['properties.bsm_chines'].astype('str').tolist()"
   ]
  },
  {
   "cell_type": "code",
   "execution_count": 23,
   "metadata": {},
   "outputs": [
    {
     "data": {
      "text/html": [
       "<div>\n",
       "<style scoped>\n",
       "    .dataframe tbody tr th:only-of-type {\n",
       "        vertical-align: middle;\n",
       "    }\n",
       "\n",
       "    .dataframe tbody tr th {\n",
       "        vertical-align: top;\n",
       "    }\n",
       "\n",
       "    .dataframe thead th {\n",
       "        text-align: right;\n",
       "    }\n",
       "</style>\n",
       "<table border=\"1\" class=\"dataframe\">\n",
       "  <thead>\n",
       "    <tr style=\"text-align: right;\">\n",
       "      <th></th>\n",
       "      <th>機構名稱</th>\n",
       "      <th>Longitude</th>\n",
       "      <th>Latitude</th>\n",
       "    </tr>\n",
       "  </thead>\n",
       "  <tbody>\n",
       "    <tr>\n",
       "      <th>0</th>\n",
       "      <td>佳譽堂中醫診所</td>\n",
       "      <td>121.516999</td>\n",
       "      <td>25.030481</td>\n",
       "    </tr>\n",
       "    <tr>\n",
       "      <th>1</th>\n",
       "      <td>仲景中醫診所</td>\n",
       "      <td>121.527329</td>\n",
       "      <td>25.043628</td>\n",
       "    </tr>\n",
       "    <tr>\n",
       "      <th>2</th>\n",
       "      <td>華御中醫診所</td>\n",
       "      <td>121.531051</td>\n",
       "      <td>25.040480</td>\n",
       "    </tr>\n",
       "    <tr>\n",
       "      <th>3</th>\n",
       "      <td>日明耀中醫診所</td>\n",
       "      <td>121.513098</td>\n",
       "      <td>25.043609</td>\n",
       "    </tr>\n",
       "    <tr>\n",
       "      <th>4</th>\n",
       "      <td>華陽中醫診所</td>\n",
       "      <td>121.532434</td>\n",
       "      <td>25.043213</td>\n",
       "    </tr>\n",
       "  </tbody>\n",
       "</table>\n",
       "</div>"
      ],
      "text/plain": [
       "      機構名稱   Longitude   Latitude\n",
       "0  佳譽堂中醫診所  121.516999  25.030481\n",
       "1   仲景中醫診所  121.527329  25.043628\n",
       "2   華御中醫診所  121.531051  25.040480\n",
       "3  日明耀中醫診所  121.513098  25.043609\n",
       "4   華陽中醫診所  121.532434  25.043213"
      ]
     },
     "execution_count": 23,
     "metadata": {},
     "output_type": "execute_result"
    }
   ],
   "source": [
    "# 準備醫療機構資料\n",
    "\n",
    "def hospital(file_addr):\n",
    "    result = pd.read_csv(file_addr, encoding = 'big5')\n",
    "    return result.iloc[:,0:3]\n",
    "\n",
    "hospital_df = pd.concat([hospital(\"./data/台北市診所清冊1090926(含經緯度).csv\"), hospital(\"./data/台北市醫院清冊1090926(含經緯度).csv\")], axis = 0)\n",
    "hospital_df = pd.concat([hospital_df, hospital(\"./data/臺北市藥局清冊.csv\")], axis = 0)\n",
    "hospital_df.head()"
   ]
  },
  {
   "cell_type": "code",
   "execution_count": 24,
   "metadata": {},
   "outputs": [
    {
     "data": {
      "text/html": [
       "<div>\n",
       "<style scoped>\n",
       "    .dataframe tbody tr th:only-of-type {\n",
       "        vertical-align: middle;\n",
       "    }\n",
       "\n",
       "    .dataframe tbody tr th {\n",
       "        vertical-align: top;\n",
       "    }\n",
       "\n",
       "    .dataframe thead th {\n",
       "        text-align: right;\n",
       "    }\n",
       "</style>\n",
       "<table border=\"1\" class=\"dataframe\">\n",
       "  <thead>\n",
       "    <tr style=\"text-align: right;\">\n",
       "      <th></th>\n",
       "      <th>Name</th>\n",
       "      <th>Longtitude</th>\n",
       "      <th>Latitude</th>\n",
       "    </tr>\n",
       "  </thead>\n",
       "  <tbody>\n",
       "    <tr>\n",
       "      <th>0</th>\n",
       "      <td>臺北市松山區三民國民小學附設幼兒園</td>\n",
       "      <td>121.564280</td>\n",
       "      <td>25.063210</td>\n",
       "    </tr>\n",
       "    <tr>\n",
       "      <th>1</th>\n",
       "      <td>臺北市松山區民權國民小學附設幼兒園</td>\n",
       "      <td>121.562304</td>\n",
       "      <td>25.062387</td>\n",
       "    </tr>\n",
       "    <tr>\n",
       "      <th>2</th>\n",
       "      <td>臺北市松山區民族國民小學附設幼兒園</td>\n",
       "      <td>121.551798</td>\n",
       "      <td>25.059495</td>\n",
       "    </tr>\n",
       "    <tr>\n",
       "      <th>3</th>\n",
       "      <td>臺北市立松山幼兒園</td>\n",
       "      <td>121.551471</td>\n",
       "      <td>25.056748</td>\n",
       "    </tr>\n",
       "    <tr>\n",
       "      <th>4</th>\n",
       "      <td>臺北市松山區西松國民小學附設幼兒園</td>\n",
       "      <td>121.563488</td>\n",
       "      <td>25.052302</td>\n",
       "    </tr>\n",
       "  </tbody>\n",
       "</table>\n",
       "</div>"
      ],
      "text/plain": [
       "                Name  Longtitude   Latitude\n",
       "0  臺北市松山區三民國民小學附設幼兒園  121.564280  25.063210\n",
       "1  臺北市松山區民權國民小學附設幼兒園  121.562304  25.062387\n",
       "2  臺北市松山區民族國民小學附設幼兒園  121.551798  25.059495\n",
       "3          臺北市立松山幼兒園  121.551471  25.056748\n",
       "4  臺北市松山區西松國民小學附設幼兒園  121.563488  25.052302"
      ]
     },
     "execution_count": 24,
     "metadata": {},
     "output_type": "execute_result"
    }
   ],
   "source": [
    "# 準備教育機構\n",
    "education_1 = pd.read_csv(\"./data/taipeiPrivateSchool00.csv\")\n",
    "education_1 = education_1.iloc[:,1:4]\n",
    "education_2 = pd.read_csv(\"./data/taipeiPublicKindergarten00.csv\")\n",
    "education_2 = education_2.iloc[:,0:3]\n",
    "education_df = pd.concat([education_2,education_1], axis = 0)\n",
    "education_df.head()"
   ]
  },
  {
   "cell_type": "code",
   "execution_count": 25,
   "metadata": {},
   "outputs": [
    {
     "data": {
      "text/html": [
       "<div>\n",
       "<style scoped>\n",
       "    .dataframe tbody tr th:only-of-type {\n",
       "        vertical-align: middle;\n",
       "    }\n",
       "\n",
       "    .dataframe tbody tr th {\n",
       "        vertical-align: top;\n",
       "    }\n",
       "\n",
       "    .dataframe thead th {\n",
       "        text-align: right;\n",
       "    }\n",
       "</style>\n",
       "<table border=\"1\" class=\"dataframe\">\n",
       "  <thead>\n",
       "    <tr style=\"text-align: right;\">\n",
       "      <th></th>\n",
       "      <th>Name</th>\n",
       "      <th>Longtitude</th>\n",
       "      <th>Latitude</th>\n",
       "    </tr>\n",
       "  </thead>\n",
       "  <tbody>\n",
       "    <tr>\n",
       "      <th>0</th>\n",
       "      <td>臺北市政府</td>\n",
       "      <td>121.563997</td>\n",
       "      <td>25.037531</td>\n",
       "    </tr>\n",
       "    <tr>\n",
       "      <th>1</th>\n",
       "      <td>臺北市政府秘書處</td>\n",
       "      <td>121.563997</td>\n",
       "      <td>25.037531</td>\n",
       "    </tr>\n",
       "    <tr>\n",
       "      <th>2</th>\n",
       "      <td>臺北市市政大樓公共事務管理中心</td>\n",
       "      <td>121.563997</td>\n",
       "      <td>25.037531</td>\n",
       "    </tr>\n",
       "    <tr>\n",
       "      <th>3</th>\n",
       "      <td>臺北市政府民政局</td>\n",
       "      <td>121.564433</td>\n",
       "      <td>25.037542</td>\n",
       "    </tr>\n",
       "    <tr>\n",
       "      <th>4</th>\n",
       "      <td>臺北市孔廟管理委員會</td>\n",
       "      <td>121.516179</td>\n",
       "      <td>25.072762</td>\n",
       "    </tr>\n",
       "  </tbody>\n",
       "</table>\n",
       "</div>"
      ],
      "text/plain": [
       "              Name  Longtitude   Latitude\n",
       "0            臺北市政府  121.563997  25.037531\n",
       "1         臺北市政府秘書處  121.563997  25.037531\n",
       "2  臺北市市政大樓公共事務管理中心  121.563997  25.037531\n",
       "3         臺北市政府民政局  121.564433  25.037542\n",
       "4       臺北市孔廟管理委員會  121.516179  25.072762"
      ]
     },
     "execution_count": 25,
     "metadata": {},
     "output_type": "execute_result"
    }
   ],
   "source": [
    "# 準備政府機構\n",
    "gov_df = pd.read_csv(\"./data/taipeiGovernmentAgency01.csv\")\n",
    "gov_df = gov_df.iloc[:,0:3]\n",
    "gov_df.head()"
   ]
  },
  {
   "cell_type": "code",
   "execution_count": 26,
   "metadata": {},
   "outputs": [
    {
     "data": {
      "text/plain": [
       "(4144, 52)"
      ]
     },
     "execution_count": 26,
     "metadata": {},
     "output_type": "execute_result"
    }
   ],
   "source": [
    "house_df = pd.read_csv('./done_data/predOutcome.csv', index_col=None)\n",
    "house_df = house_df[house_df['year']==2020]\n",
    "house_df.shape"
   ]
  },
  {
   "cell_type": "code",
   "execution_count": 27,
   "metadata": {},
   "outputs": [
    {
     "data": {
      "text/plain": [
       "Index(['Unnamed: 0', '交易年月日', 'year', '廳數', '房間數', '衛浴數', '總價元', '總坪數', '單價元坪',\n",
       "       '車位數', 'floor', 'EightCount', 'ParkCount', 'FuneralCount', 'GasCount',\n",
       "       'CrimeCount', 'PoliceCount', 'busCount', 'subwayCount', 'govCount',\n",
       "       'clinicCount', 'hospitalCount', 'pharmacyCount', 'fireareaCount',\n",
       "       'firewayCount', 'martCount', 'mallCount', 'cinemaCount', '土地面積', '總人口數',\n",
       "       '男性人數', '女性人數', '人口密度', '每戶人數', '每戶成年人數', '所得收入總計', '可支配所得', '消費支出',\n",
       "       '儲蓄', '所得總額', 'pred', '漲跌', 'Lontitude', 'Latitude'],\n",
       "      dtype='object')"
      ]
     },
     "execution_count": 27,
     "metadata": {},
     "output_type": "execute_result"
    }
   ],
   "source": [
    "house_area_mean = house_df.groupby('Area').mean()\n",
    "house_area_mean.columns"
   ]
  },
  {
   "cell_type": "markdown",
   "metadata": {},
   "source": [
    "### 各行政區資料準備"
   ]
  },
  {
   "cell_type": "code",
   "execution_count": 28,
   "metadata": {},
   "outputs": [
    {
     "data": {
      "text/plain": [
       "Index(['EightCount', 'ParkCount', 'FuneralCount', 'GasCount', 'CrimeCount',\n",
       "       'PoliceCount', 'busCount', 'subwayCount', 'govCount', 'clinicCount',\n",
       "       'hospitalCount', 'pharmacyCount', 'fireareaCount', 'firewayCount',\n",
       "       '土地面積', '總人口數', '男性人數', '女性人數', '人口密度', '每戶人數', '每戶成年人數', '所得收入總計',\n",
       "       '可支配所得', '消費支出', '儲蓄', '所得總額'],\n",
       "      dtype='object')"
      ]
     },
     "execution_count": 28,
     "metadata": {},
     "output_type": "execute_result"
    }
   ],
   "source": [
    "area_df = pd.read_csv(\"./done_data/merge_df.csv\")\n",
    "area_df = area_df.set_index('Area')\n",
    "area_df.columns"
   ]
  },
  {
   "cell_type": "markdown",
   "metadata": {},
   "source": [
    "Main app"
   ]
  },
  {
   "cell_type": "code",
   "execution_count": 29,
   "metadata": {},
   "outputs": [
    {
     "name": "stdout",
     "output_type": "stream",
     "text": [
      "Dash app running on http://127.0.0.1:8050/\n"
     ]
    }
   ],
   "source": [
    "import dash\n",
    "from jupyter_dash import JupyterDash\n",
    "import dash_core_components as dcc\n",
    "import dash_html_components as html\n",
    "import pandas as pd\n",
    "import plotly.graph_objs as go\n",
    "import plotly.express as px\n",
    "import re\n",
    "\n",
    "app = JupyterDash(__name__)\n",
    "\n",
    "table_head = '150px' #設定表格的縮排\n",
    "\n",
    "app.layout = html.Div([\n",
    "    html.Div([\n",
    "    html.Div([\n",
    "        html.H1(children='台北市房屋行情快快搜'),\n",
    "        html.P(children='請選擇右邊的圖示，篩選您想要了解的物件周邊設施', style = {\n",
    "            'font-size':'16px'\n",
    "        }),\n",
    "        html.P(children='台北市為台灣最具代表性的房價分析區域，根據本組的巨量資料建模，選擇您想要了解的台北市中古物件，即可查看該物件的房間格局與所在區域的環境機能，更可以算出該物件的合理價格，幫助用戶評估是否高估或者低估', style = {\n",
    "            'font-size':'14px',\n",
    "            'line-height': '150%'\n",
    "        }),\n",
    "        dcc.Graph(\n",
    "            id='gapminder',\n",
    "            figure={\n",
    "                'data': [\n",
    "                    go.Scattermapbox(\n",
    "                        lat=df_lat,\n",
    "                        lon=df_lng,\n",
    "                        mode='markers',\n",
    "                        name=\"捷運站\",\n",
    "                        marker=go.scattermapbox.Marker(\n",
    "                size = 5, color='orange', symbol='rail-metro'\n",
    "            ),\n",
    "            text = df_name,\n",
    "            ),\n",
    "                    go.Scattermapbox(\n",
    "                        lat = df2_lat,\n",
    "                        lon = df2_lng,\n",
    "                        mode = 'markers',\n",
    "                        name=\"公車站\",\n",
    "                        marker = go.scattermapbox.Marker(\n",
    "                size = 5, color='red',symbol='bus'\n",
    "            ),\n",
    "            text = df2_name,\n",
    "            ),\n",
    "            go.Scattermapbox(\n",
    "                        lat=hospital_df['Latitude'],\n",
    "                        lon=hospital_df['Longitude'],\n",
    "                        mode='markers',\n",
    "                        name=\"醫療設施\",\n",
    "                        marker=go.scattermapbox.Marker(\n",
    "                size = 5, color='blue', symbol='hospital'\n",
    "            ),\n",
    "            text = hospital_df['機構名稱'],\n",
    "            ),\n",
    "            go.Scattermapbox(\n",
    "                        lat=education_df['Latitude'],\n",
    "                        lon=education_df['Longtitude'],\n",
    "                        mode='markers',\n",
    "                        name=\"私立機構與學校\",\n",
    "                        marker=go.scattermapbox.Marker(\n",
    "                size = 5, color='green', symbol='school'\n",
    "            ),\n",
    "            text = education_df['Name'],\n",
    "            ),\n",
    "            go.Scattermapbox(\n",
    "                        lat=gov_df['Latitude'],\n",
    "                        lon=gov_df['Longtitude'],\n",
    "                        mode='markers',\n",
    "                        name=\"公立機構與學校\",\n",
    "                        marker=go.scattermapbox.Marker(\n",
    "                size = 5, color='purple', symbol='police'\n",
    "            ),\n",
    "            text = gov_df['Name'],\n",
    "            ),\n",
    "            # 加入中古屋的資料\n",
    "            go.Scattermapbox(\n",
    "                        lat=house_df['Latitude'],\n",
    "                        lon=house_df['Lontitude'],\n",
    "                        mode='markers',\n",
    "                        name=\"中古屋位置\",\n",
    "                        marker=go.scattermapbox.Marker(\n",
    "                size = 15, color='orange'\n",
    "            ),\n",
    "            text = house_df['Address'],\n",
    "            )\n",
    "                ],\n",
    "            'layout': go.Layout(\n",
    "                autosize=True,\n",
    "                hovermode='closest',\n",
    "                margin=dict(\n",
    "                    l=20,\n",
    "                    r=20,\n",
    "                    b=20,\n",
    "                    t=20\n",
    "                ),\n",
    "                mapbox=dict(\n",
    "                    accesstoken='pk.eyJ1IjoiZXJpa3NvbjA2MTEiLCJhIjoiY2tpeTRib3RnMTd6dTJ5c2Joa3diZXVqcyJ9.2Qtsf3xtMppGs5lwXvDvyw',\n",
    "                    bearing = 0,\n",
    "                    center = dict(lat=25.03374536000858,lon=121.54328512547893),\n",
    "                    pitch = 0,\n",
    "                    zoom = 15\n",
    "                    )) #layoutend\n",
    "                }) # figure end\n",
    "            ]), #div end\n",
    "    html.Div([ #information div\n",
    "        html.Div([\n",
    "            html.H2(\"行政區基本資料\"),\n",
    "            html.P(id='area_out'),\n",
    "            html.Table([\n",
    "                html.Tr([html.Td(['區域人口'],style={'width':table_head}), html.Td(id='output1')]),\n",
    "                html.Tr([html.Td(['人口密度'],style={'width':table_head}), html.Td(id='output2')]),\n",
    "                html.Tr([html.Td(['公車站牌數'],style={'width':table_head}), html.Td(id='output3')]),\n",
    "                html.Tr([html.Td(['捷運站數'],style={'width':table_head}), html.Td(id='output4')]),\n",
    "                html.Tr([html.Td(['區內醫院數'],style={'width':table_head}), html.Td(id='output5')]), #hospitalCount\n",
    "                html.Tr([html.Td(['政府機關數'],style={'width':table_head}), html.Td(id='output6')]),# govCount\n",
    "                html.Tr([html.Td(['人均年所得'],style={'width':table_head}), html.Td(id='output7')])\n",
    "                        ])\n",
    "                    ],style={'width':'50%','display': 'inline-block', 'vertical-align': 'top'}),\n",
    "        html.Div([\n",
    "            html.H2(\"房屋基本資料\"),\n",
    "            html.P(id='hover-data'),\n",
    "            html.Table([\n",
    "                html.Tr([html.Td(['建物型態'],style={'width':table_head}), html.Td(id='house_out1')]),\n",
    "                html.Tr([html.Td(['廳數'],style={'width':table_head}), html.Td(id='house_out2')]),\n",
    "                html.Tr([html.Td(['房間數'],style={'width':table_head}), html.Td(id='house_out3')]),\n",
    "                html.Tr([html.Td(['衛浴數'],style={'width':table_head}), html.Td(id='house_out4')]),\n",
    "                html.Tr([html.Td(['隔間'],style={'width':table_head}), html.Td(id='house_out5')]), \n",
    "                html.Tr([html.Td(['管理組織'],style={'width':table_head}), html.Td(id='house_out6')])\n",
    "                        ]),\n",
    "            ],style={'width':'50%', 'display': 'inline-block', 'vertical-align': 'top'})\n",
    "    ]),\n",
    "\n",
    "    dcc.Graph(\n",
    "        id='example-graph'\n",
    "        )\n",
    "\n",
    "], style={'padding': '10%', 'font-family':'微軟正黑體','backgroundColor':'white'})\n",
    "], style={'padding':'10%','background-image':\n",
    "                    'url(\"https://pixy.org/src/394/thumbs350/3948974.jpg\")'})\n",
    "\n",
    "\n",
    "\n",
    "@app.callback(\n",
    "    dash.dependencies.Output('area_out', 'children'),\n",
    "    dash.dependencies.Output('output1', 'children'),\n",
    "    dash.dependencies.Output('output2', 'children'),\n",
    "    dash.dependencies.Output('output3', 'children'),\n",
    "    dash.dependencies.Output('output4', 'children'),\n",
    "    dash.dependencies.Output('output5', 'children'),\n",
    "    dash.dependencies.Output('output6', 'children'),\n",
    "    dash.dependencies.Output('output7', 'children'),\n",
    "    dash.dependencies.Input('gapminder', 'clickData'))\n",
    "def update_output(hoverData):\n",
    "    if hoverData is None:\n",
    "        return '請選擇中古屋圖示','None','None','None','None','None','None', 'None'\n",
    "    else:\n",
    "        address = hoverData['points'][0]['text']\n",
    "        try:\n",
    "            result_match = re.search(r'(.{2}\\u5340)', address)\n",
    "            value = result_match[0]\n",
    "            output1 = '{} 人'.format(area_df['總人口數'][value])\n",
    "            output2 = '{} 人/平方公里'.format(area_df['人口密度'][value])\n",
    "            output3 = area_df['busCount'][value]\n",
    "            output4 = area_df['subwayCount'][value]\n",
    "            output5 = area_df['hospitalCount'][value]\n",
    "            output6 = area_df['govCount'][value]\n",
    "            output7 = '{} 元'.format(area_df['所得總額'][value])\n",
    "            return \"你的行政區為：{}\".format(value), output1, output2, output3, output4, output5, output6, output7\n",
    "        except:\n",
    "            return '請選擇中古屋圖示','None','None','None','None','None','None', 'None'\n",
    "\n",
    "@app.callback(\n",
    "    dash.dependencies.Output('hover-data', 'children'),\n",
    "    dash.dependencies.Output('house_out1', 'children'),\n",
    "    dash.dependencies.Output('house_out2', 'children'),\n",
    "    dash.dependencies.Output('house_out3', 'children'),\n",
    "    dash.dependencies.Output('house_out4', 'children'),\n",
    "    dash.dependencies.Output('house_out5', 'children'),\n",
    "    dash.dependencies.Output('house_out6', 'children'),\n",
    "    dash.dependencies.Input('gapminder', 'clickData'))\n",
    "def display_hover_data(hover_data):\n",
    "    if hover_data is None:\n",
    "        return '請選擇一個中古屋地址', None, None, None, None, None, None\n",
    "    else:\n",
    "        location = hover_data['points'][0]['text']\n",
    "        house_row = house_df[house_df['Address'] == location]\n",
    "        try:\n",
    "            house_out1 = house_row['建物型態'].tolist()[0]\n",
    "            house_out2 = '{} 廳'.format(house_row['廳數'].tolist()[0])\n",
    "            house_out3 = '{} 房'.format(house_row['房間數'].tolist()[0])\n",
    "            house_out4 = '{} 衛'.format(house_row['衛浴數'].tolist()[0])\n",
    "            house_out5 = '{} 隔間'.format(house_row['隔間'].tolist()[0])\n",
    "            house_out6 = '{} 管理組織'.format(house_row['管理組織'].tolist()[0])\n",
    "            return \"你目前位於：{}\".format(location), house_out1, house_out2, house_out3, house_out4, house_out5, house_out6\n",
    "        except:\n",
    "            return \"你目前位於：{}\".format(location), 'None', 'None', 'None', 'None', 'None', 'None'\n",
    "\n",
    "\n",
    "@app.callback(\n",
    "    dash.dependencies.Output(\"example-graph\", \"figure\"), \n",
    "    dash.dependencies.Input('gapminder', 'clickData'))\n",
    "\n",
    "def update_bar_chart(hover_data):\n",
    "    if hover_data is None:\n",
    "        df = pd.DataFrame({\n",
    "              \"Area\": [\"地區\", \"地區\", \"地區\", \"物件\", \"物件\", \"物件\"],\n",
    "              \"Catgory\": [\"單價元坪\", \"總價元\", \"總坪數\", \"單價元坪\", \"總價元\", \"總坪數\"],\n",
    "              \"Number\": [0,0,0,0,0,0]\n",
    "        })\n",
    "        fig = px.bar(df,x=\"Catgory\", y=\"Number\", color=\"Area\", barmode=\"group\")\n",
    "        return fig\n",
    "    else:\n",
    "        location = hover_data['points'][0]['text']\n",
    "        try:\n",
    "            house_row = house_df[house_df['Address'] == location]\n",
    "            result_match = re.search(r'(.{2}\\u5340)', location)\n",
    "            area = result_match[0]\n",
    "            area_row = house_area_mean[house_area_mean.index == area]\n",
    "            # set 價格變數\n",
    "            area_perprice = area_row['單價元坪'][0]\n",
    "            area_totalprice = area_row['總價元'][0]\n",
    "            area_totalsize = area_row['總坪數'][0]\n",
    "            house_perprice = house_row['單價元坪'].tolist()[0]\n",
    "            house_totalprice = house_row['總價元'].tolist()[0]\n",
    "            house_totalsize = house_row['總坪數'].tolist()[0]\n",
    "            pred_perprice = house_row['pred'].tolist()[0]\n",
    "            df = pd.DataFrame({\n",
    "                  \"分類\": [\"地區平均\", \"地區平均\", \"地區平均\", \"實際成交\", \"實際成交\", \"實際成交\",\"模型預測\"],\n",
    "                  \"交易資訊\": [\"每坪單價\", \"總價元\", \"總坪數\", \"每坪單價\", \"總價元\", \"總坪數\",\"每坪單價\"],\n",
    "                  \"金額\": [area_perprice,area_totalprice/20,area_totalsize*30000,house_perprice,house_totalprice/20,house_totalsize*30000,pred_perprice]\n",
    "            })\n",
    "            fig = px.bar(df,x=\"交易資訊\", y=\"金額\", color=\"分類\", barmode=\"group\", \n",
    "                         text = ['{} 萬元'.format(round(area_perprice/10000,1)),\n",
    "                                 '{} 萬元'.format(round(area_totalprice/10000,1)),\n",
    "                                 '{} 坪'.format(round(area_totalsize,1)),\n",
    "                                 '{} 萬元'.format(round(house_perprice/10000,1)),\n",
    "                                 '{} 萬元'.format(round(house_totalprice/10000,1)),\n",
    "                                 '{} 坪'.format(round(house_totalsize,1)),\n",
    "                                 '{} 萬元'.format(round(pred_perprice/10000,1))] )\n",
    "            return fig\n",
    "        except:\n",
    "            df = pd.DataFrame({\n",
    "                  \"Area\": [\"地區平均\", \"地區平均\", \"地區平均\", \"物件\", \"物件\", \"物件\"],\n",
    "                  \"Catgory\": [\"單價元坪\", \"總價元\", \"總坪數\", \"單價元坪\", \"總價元\", \"總坪數\"],\n",
    "                  \"Number\": [0,0,0,0,0,0]\n",
    "            })\n",
    "            fig = px.bar(df,x=\"Catgory\", y=\"Number\", color=\"Area\", barmode=\"group\")\n",
    "            return fig\n",
    "\n",
    "\n",
    "if __name__ == '__main__':\n",
    "#     app.run_server(debug = True, mode = 'inline')\n",
    "    app.run_server(debug = True)"
   ]
  },
  {
   "cell_type": "code",
   "execution_count": null,
   "metadata": {},
   "outputs": [],
   "source": []
  }
 ],
 "metadata": {
  "kernelspec": {
   "display_name": "Python 3",
   "language": "python",
   "name": "python3"
  },
  "language_info": {
   "codemirror_mode": {
    "name": "ipython",
    "version": 3
   },
   "file_extension": ".py",
   "mimetype": "text/x-python",
   "name": "python",
   "nbconvert_exporter": "python",
   "pygments_lexer": "ipython3",
   "version": "3.8.3"
  }
 },
 "nbformat": 4,
 "nbformat_minor": 4
}
