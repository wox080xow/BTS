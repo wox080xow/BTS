{
 "cells": [
  {
   "cell_type": "code",
   "execution_count": 1,
   "metadata": {},
   "outputs": [],
   "source": [
    "import pyspark\n",
    "import sys\n",
    "\n",
    "import pyspark.sql.functions as fn\n",
    "\n",
    "from pyspark.sql import SparkSession\n",
    "\n",
    "from pyspark.ml.classification import LogisticRegression\n",
    "from pyspark.ml.evaluation import MulticlassClassificationEvaluator\n",
    "from pyspark.ml.feature import VectorAssembler, StringIndexer"
   ]
  },
  {
   "cell_type": "code",
   "execution_count": 157,
   "metadata": {},
   "outputs": [],
   "source": [
    "spark.stop()"
   ]
  },
  {
   "cell_type": "code",
   "execution_count": 2,
   "metadata": {},
   "outputs": [
    {
     "data": {
      "text/plain": [
       "'PySparkShell'"
      ]
     },
     "execution_count": 2,
     "metadata": {},
     "output_type": "execute_result"
    }
   ],
   "source": [
    "spark.sparkContext.appName"
   ]
  },
  {
   "cell_type": "code",
   "execution_count": 2,
   "metadata": {},
   "outputs": [],
   "source": [
    "spark.conf.set(\"spark.sql.execution.arrow.pyspark.enabled\", True)"
   ]
  },
  {
   "cell_type": "code",
   "execution_count": 4,
   "metadata": {},
   "outputs": [
    {
     "data": {
      "text/plain": [
       "'3.8.5 (default, Jul 28 2020, 12:59:40) \\n[GCC 9.3.0]'"
      ]
     },
     "execution_count": 4,
     "metadata": {},
     "output_type": "execute_result"
    }
   ],
   "source": [
    "sys.version"
   ]
  },
  {
   "cell_type": "code",
   "execution_count": 5,
   "metadata": {},
   "outputs": [
    {
     "data": {
      "text/plain": [
       "'3.0.1'"
      ]
     },
     "execution_count": 5,
     "metadata": {},
     "output_type": "execute_result"
    }
   ],
   "source": [
    "spark.version"
   ]
  },
  {
   "cell_type": "markdown",
   "metadata": {
    "id": "ymcVQjYShXyA"
   },
   "source": [
    "# Load Data"
   ]
  },
  {
   "cell_type": "code",
   "execution_count": 3,
   "metadata": {},
   "outputs": [
    {
     "name": "stdout",
     "output_type": "stream",
     "text": [
      "CPU times: user 0 ns, sys: 3.75 ms, total: 3.75 ms\n",
      "Wall time: 8.85 s\n"
     ]
    },
    {
     "data": {
      "text/plain": [
       "DataFrame[Address: string, Area: string, St: string, 交易年月日: int, year: int, 交易標的: string, 交易筆棟數: string, 建物型態: string, 建物現況格局.廳: int, 建物現況格局.房: int, 建物現況格局.衛: int, 建物現況格局.隔間: string, 有無管理組織: string, 總價元: double, 總坪數: double, 單價元坪: double, 車位數: int, floor: int, EightCount: int, ParkCount: int, FuneralCount: int, GasCount: int, CrimeCount: int, PoliceCount: int, busCount: int, subwayCount: int, govCount: int, clinicCount: int, hospitalCount: int, pharmacyCount: int, fireareaCount: int, firewayCount: int, martCount: int, mallCount: int, cinemaCount: int, 土地面積: double, 總人口數: int, 男性人數: int, 女性人數: int, 人口密度: int, 每戶人數: double, 每戶成年人數: double, 所得收入總計: int, 可支配所得: int, 消費支出: int, 儲蓄: int, 所得總額: int, Lontitude: double, Latitude: double]"
      ]
     },
     "execution_count": 3,
     "metadata": {},
     "output_type": "execute_result"
    }
   ],
   "source": [
    "%%time\n",
    "# Standalone Mode讀取HDFS檔案\n",
    "df = spark.read.csv('hdfs://bdse120.example.org/dataset/HouseVarCoFinal.csv', header=True, inferSchema=True)\n",
    "df"
   ]
  },
  {
   "cell_type": "code",
   "execution_count": 11,
   "metadata": {
    "id": "ZbIppwDChXyC",
    "outputId": "472885be-43e2-4244-bf75-e29d6f5e6bea",
    "scrolled": true
   },
   "outputs": [
    {
     "name": "stdout",
     "output_type": "stream",
     "text": [
      "+-------+-----------------------------+------+------+-----------------+------------------+--------------------+---------------+--------+------------------+------------------+------------------+-----------------+------------+--------------------+------------------+------------------+------------------+-----------------+------------------+------------------+------------------+------------------+------------------+------------------+------------------+-----------------+-----------------+------------------+------------------+-----------------+-----------------+------------------+------------------+------------------+------------------+------------------+-----------------+------------------+------------------+------------------+-------------------+------------------+------------------+------------------+------------------+------------------+------------------+-------------------+--------------------+\n",
      "|summary|                      Address|  Area|    St|       交易年月日|              year|            交易標的|     交易筆棟數|建物型態|   建物現況格局.廳|   建物現況格局.房|   建物現況格局.衛|建物現況格局.隔間|有無管理組織|              總價元|            總坪數|          單價元坪|            車位數|            floor|        EightCount|         ParkCount|      FuneralCount|          GasCount|        CrimeCount|       PoliceCount|          busCount|      subwayCount|         govCount|       clinicCount|     hospitalCount|    pharmacyCount|    fireareaCount|      firewayCount|         martCount|         mallCount|       cinemaCount|          土地面積|         總人口數|          男性人數|          女性人數|          人口密度|           每戶人數|      每戶成年人數|      所得收入總計|        可支配所得|          消費支出|              儲蓄|          所得總額|          Lontitude|            Latitude|\n",
      "+-------+-----------------------------+------+------+-----------------+------------------+--------------------+---------------+--------+------------------+------------------+------------------+-----------------+------------+--------------------+------------------+------------------+------------------+-----------------+------------------+------------------+------------------+------------------+------------------+------------------+------------------+-----------------+-----------------+------------------+------------------+-----------------+-----------------+------------------+------------------+------------------+------------------+------------------+-----------------+------------------+------------------+------------------+-------------------+------------------+------------------+------------------+------------------+------------------+------------------+-------------------+--------------------+\n",
      "|  count|                       121820|121820|121820|           121820|            121820|              121820|         121820|  121820|            121820|            121820|            121820|           121820|      121820|              121820|            121820|            121820|            121820|           121820|            121820|            121820|            121820|            121820|            121820|            121820|            121820|           121820|           121820|            121820|            121820|           121820|           121820|            121820|            121820|            121820|            121820|            121820|           121820|            121820|            121820|            121820|             121820|            121820|            121820|            121820|            121820|            121820|            121820|             121820|              121820|\n",
      "|   mean|                         null|  null|  null|1052471.433065178|2016.1769578065998|                null|           null|    null|1.4949351502216386|2.3638975537678544|1.4978164505007387|             null|        null| 2.631220807222952E7|42.398729268592966| 605283.7952334868|0.4800361188638976|  9.2995895583648|17.424248891807586| 5.116360203579051| 37.61614677392875| 6.831078640617304|471.18329502544736|10.784747988835987|283.15049252996226|5.509013298308981|33.05342308323756| 332.7773846659005|3.3032835330815957|73.05510589394189|36.50896404531276| 22.32641602364144| 7.302569364636349|3.0527007059596127|2.6871285503201445|24.179244435234555|232142.1230914464|110182.67657199147|121959.44651945493|14519.220062387129| 3.0894455754390124|2.6496629453291893|1710187.6155967822|1411904.0812428172|1145929.8599244787|265973.98073386966|1825575.4051797735| 121.54360217236766|  25.055839344835018|\n",
      "| stddev|                         null|  null|  null|22645.08825108954| 2.271997455794399|                null|           null|    null|0.8196334176380496|1.6655095743365282|1.1481311053799257|             null|        null|1.0636614562607569E8| 129.3228797702198| 665428.3879489556| 2.662412093750064|5.188211933982408|25.684921969547858|2.3478859850111045|47.503100866035545|3.9716133921811365|213.75155174565722|3.1203693630688196|122.92593479061401|2.313648014464371|8.779474784367409|202.67407687509245|1.8555147264384872|17.58600143789007|25.82413815511354|11.918720813814033|2.8612596214268016|2.5761530597697617| 2.397795885965628|18.391385749599813| 52951.8891938929| 24791.49024216833|28272.962531669324| 7479.249368064959|0.14977096796798758|0.1176678234795544|131161.26758573434|102316.01916998252| 86002.18826328883| 51400.39133187612|150926.45135918615|0.03139399556319317|0.036468778555038425|\n",
      "|    min|     臺北市中山區一江街1~30號|中山區|一壽街|                1|              1911|                建物|土地0建物0車位0|住宅大樓|                 0|                 0|                 0|               有|          有|                 0.0|          0.003025|               0.0|                 0|                0|                 0|                 1|                 0|                 1|               240|                 4|               118|                1|               18|                83|                 0|               35|                3|                 2|                 0|                 0|                 0|            5.6815|           119036|             58064|             60972|              4410|               2.83|              2.39|           1492804|           1234736|           1010475|            165349|           1572599|         121.464129|          24.9588245|\n",
      "|    max|臺北市萬華區齊東街82巷31~60號|萬華區|龍泉街|          1090716|              2020|房地(土地+建物)+車位|土地9建物2車位1|  透天厝|                80|               168|               174|               無|          無|     2.7033999999E10|      20910.472825|2.07225807428571E8|               439|               42|                77|                 9|               132|                16|               904|                17|               578|                9|               58|               862|                 6|               98|               80|                42|                11|                 8|                 9|           62.3682|           303209|            141137|            162072|             26688|                3.3|              2.82|           1961348|           1590202|           1299939|            338391|           2109095|        121.6242235|          25.1707585|\n",
      "+-------+-----------------------------+------+------+-----------------+------------------+--------------------+---------------+--------+------------------+------------------+------------------+-----------------+------------+--------------------+------------------+------------------+------------------+-----------------+------------------+------------------+------------------+------------------+------------------+------------------+------------------+-----------------+-----------------+------------------+------------------+-----------------+-----------------+------------------+------------------+------------------+------------------+------------------+-----------------+------------------+------------------+------------------+-------------------+------------------+------------------+------------------+------------------+------------------+------------------+-------------------+--------------------+\n",
      "\n",
      "CPU times: user 2.95 ms, sys: 547 µs, total: 3.5 ms\n",
      "Wall time: 6.72 s\n"
     ]
    }
   ],
   "source": [
    "%%time\n",
    "# Standalone Mode\n",
    "df.describe().show()"
   ]
  },
  {
   "cell_type": "code",
   "execution_count": 12,
   "metadata": {},
   "outputs": [
    {
     "name": "stdout",
     "output_type": "stream",
     "text": [
      "root\n",
      " |-- Address: string (nullable = true)\n",
      " |-- Area: string (nullable = true)\n",
      " |-- St: string (nullable = true)\n",
      " |-- 交易年月日: integer (nullable = true)\n",
      " |-- year: integer (nullable = true)\n",
      " |-- 交易標的: string (nullable = true)\n",
      " |-- 交易筆棟數: string (nullable = true)\n",
      " |-- 建物型態: string (nullable = true)\n",
      " |-- 建物現況格局.廳: integer (nullable = true)\n",
      " |-- 建物現況格局.房: integer (nullable = true)\n",
      " |-- 建物現況格局.衛: integer (nullable = true)\n",
      " |-- 建物現況格局.隔間: string (nullable = true)\n",
      " |-- 有無管理組織: string (nullable = true)\n",
      " |-- 總價元: double (nullable = true)\n",
      " |-- 總坪數: double (nullable = true)\n",
      " |-- 單價元坪: double (nullable = true)\n",
      " |-- 車位數: integer (nullable = true)\n",
      " |-- floor: integer (nullable = true)\n",
      " |-- EightCount: integer (nullable = true)\n",
      " |-- ParkCount: integer (nullable = true)\n",
      " |-- FuneralCount: integer (nullable = true)\n",
      " |-- GasCount: integer (nullable = true)\n",
      " |-- CrimeCount: integer (nullable = true)\n",
      " |-- PoliceCount: integer (nullable = true)\n",
      " |-- busCount: integer (nullable = true)\n",
      " |-- subwayCount: integer (nullable = true)\n",
      " |-- govCount: integer (nullable = true)\n",
      " |-- clinicCount: integer (nullable = true)\n",
      " |-- hospitalCount: integer (nullable = true)\n",
      " |-- pharmacyCount: integer (nullable = true)\n",
      " |-- fireareaCount: integer (nullable = true)\n",
      " |-- firewayCount: integer (nullable = true)\n",
      " |-- martCount: integer (nullable = true)\n",
      " |-- mallCount: integer (nullable = true)\n",
      " |-- cinemaCount: integer (nullable = true)\n",
      " |-- 土地面積: double (nullable = true)\n",
      " |-- 總人口數: integer (nullable = true)\n",
      " |-- 男性人數: integer (nullable = true)\n",
      " |-- 女性人數: integer (nullable = true)\n",
      " |-- 人口密度: integer (nullable = true)\n",
      " |-- 每戶人數: double (nullable = true)\n",
      " |-- 每戶成年人數: double (nullable = true)\n",
      " |-- 所得收入總計: integer (nullable = true)\n",
      " |-- 可支配所得: integer (nullable = true)\n",
      " |-- 消費支出: integer (nullable = true)\n",
      " |-- 儲蓄: integer (nullable = true)\n",
      " |-- 所得總額: integer (nullable = true)\n",
      " |-- Lontitude: double (nullable = true)\n",
      " |-- Latitude: double (nullable = true)\n",
      "\n",
      "CPU times: user 1.05 ms, sys: 195 µs, total: 1.25 ms\n",
      "Wall time: 2.7 ms\n"
     ]
    }
   ],
   "source": [
    "%%time\n",
    "df.printSchema()"
   ]
  },
  {
   "cell_type": "code",
   "execution_count": 13,
   "metadata": {},
   "outputs": [
    {
     "data": {
      "text/plain": [
       "DataFrame[Address: string, Area: string, St: string, 交易年月日: int, year: int, 交易標的: string, 交易筆棟數: string, 建物型態: string, 廳數: int, 房數: int, 衛數: int, 隔間數: string, 有無管理組織: string, 總價元: double, 總坪數: double, unitPrice: double, 車位數: int, floor: int, EightCount: int, ParkCount: int, FuneralCount: int, GasCount: int, CrimeCount: int, PoliceCount: int, busCount: int, subwayCount: int, govCount: int, clinicCount: int, hospitalCount: int, pharmacyCount: int, fireareaCount: int, firewayCount: int, martCount: int, mallCount: int, cinemaCount: int, 土地面積: double, 總人口數: int, 男性人數: int, 女性人數: int, 人口密度: int, 每戶人數: double, 每戶成年人數: double, 所得收入總計: int, 可支配所得: int, 消費支出: int, 儲蓄: int, 所得總額: int, Lontitude: double, Latitude: double]"
      ]
     },
     "execution_count": 13,
     "metadata": {},
     "output_type": "execute_result"
    }
   ],
   "source": [
    "# 句點會造成AnalysisException，所以要修改欄位名稱\n",
    "# table.columns，如果欄位名稱是中文也會導致AnalysisException\n",
    "dfDrop = df\n",
    "dfDrop = dfDrop.withColumnRenamed(\"建物現況格局.廳\",\"廳數\")\n",
    "dfDrop = dfDrop.withColumnRenamed(\"建物現況格局.房\",\"房數\")\n",
    "dfDrop = dfDrop.withColumnRenamed(\"建物現況格局.衛\",\"衛數\")\n",
    "dfDrop = dfDrop.withColumnRenamed(\"建物現況格局.隔間\",\"隔間數\")\n",
    "dfDrop = dfDrop.withColumnRenamed(\"單價元坪\",\"unitPrice\")\n",
    "\n",
    "dfDrop"
   ]
  },
  {
   "cell_type": "code",
   "execution_count": 14,
   "metadata": {
    "id": "_HP6X1iBhXyC",
    "outputId": "4e5c5cdc-3524-4482-a370-9572d4cb7c44"
   },
   "outputs": [
    {
     "name": "stdout",
     "output_type": "stream",
     "text": [
      "+----+----+----+----------------+-----+---------+--------+--------+-------------+------------+---------+--------+--------+\n",
      "|廳數|房數|衛數|       unitPrice|floor|ParkCount|GasCount|govCount|hospitalCount|firewayCount|martCount|每戶人數|所得總額|\n",
      "+----+----+----+----------------+-----+---------+--------+--------+-------------+------------+---------+--------+--------+\n",
      "|   2|   5|   3|246580.260178484|    7|        8|       7|      33|            4|          18|       11|    2.89| 1720988|\n",
      "|   2|   2|   2|713658.438145298|    7|        8|       7|      33|            4|          18|       11|    2.89| 1720988|\n",
      "|   0|   0|   0|262043.416225031|    7|        8|       7|      33|            4|          18|       11|    2.89| 1720988|\n",
      "|   1|   1|   1|743902.890773758|    7|        8|       7|      33|            4|          18|       11|    2.89| 1720988|\n",
      "|   0|   0|   0| 1343112.5819135|    5|        8|       7|      33|            4|          18|       11|    2.89| 1720988|\n",
      "|   1|   1|   1|709845.785774059|    7|        8|       7|      33|            4|          18|       11|    2.89| 1720988|\n",
      "|   2|   4|   2|849122.942206655|   11|        8|       7|      33|            4|          18|       11|    2.89| 1720988|\n",
      "|   2|   4|   2|190912.323582579|   11|        8|       7|      33|            4|          18|       11|    2.89| 1720988|\n",
      "|   2|   3|   2|636806.518723994|    7|        8|       7|      33|            4|          18|       11|    2.89| 1720988|\n",
      "|   0|   0|   0|1843904.60526316|    7|        8|       7|      33|            4|          18|       11|    2.89| 1720988|\n",
      "|   2|   4|   2|782834.297812279|   11|        8|       7|      33|            4|          18|       11|    2.89| 1720988|\n",
      "|   2|   3|   1|700241.231527094|    7|        8|       7|      33|            4|          18|       11|    2.89| 1720988|\n",
      "|   0|   0|   0|490958.910891089|    7|        8|       7|      33|            4|          18|       11|    2.89| 1720988|\n",
      "|   1|   1|   1|437336.138084633|    7|        8|       7|      33|            4|          18|       11|    2.89| 1720988|\n",
      "|   2|   2|   2|1599057.38940204|    5|        8|       7|      33|            4|          18|       11|    2.89| 1720988|\n",
      "|   1|   1|   1|483610.646002317|    7|        8|       7|      33|            4|          18|       11|    2.89| 1720988|\n",
      "|   1|   1|   1|479778.371681416|    7|        8|       7|      33|            4|          18|       11|    2.89| 1720988|\n",
      "|   2|   4|   3| 573314.55026455|    7|        8|       7|      33|            4|          18|       11|    2.89| 1720988|\n",
      "|   1|   1|   1|557896.440625959|    7|        8|       7|      33|            4|          18|       11|    2.89| 1720988|\n",
      "|   1|   1|   1|407746.557437408|    7|        8|       7|      33|            4|          18|       11|    2.89| 1720988|\n",
      "+----+----+----+----------------+-----+---------+--------+--------+-------------+------------+---------+--------+--------+\n",
      "only showing top 20 rows\n",
      "\n"
     ]
    }
   ],
   "source": [
    "dfDrop2 = dfDrop.select(\"廳數\",\"房數\",\"衛數\",\"unitPrice\",\"floor\",\"ParkCount\",\"GasCount\",\"govCount\",\"hospitalCount\",\"firewayCount\",\"martCount\",\"每戶人數\",\"所得總額\")\n",
    "dfDrop2.show()"
   ]
  },
  {
   "cell_type": "code",
   "execution_count": 15,
   "metadata": {},
   "outputs": [],
   "source": [
    "yDf = dfDrop2.select(\"unitPrice\")\n",
    "xDf = dfDrop2.select(\"廳數\",\"房數\",\"衛數\",\"floor\",\"ParkCount\",\"GasCount\",\"govCount\",\"hospitalCount\",\"firewayCount\",\"martCount\",\"每戶人數\",\"所得總額\")"
   ]
  },
  {
   "cell_type": "markdown",
   "metadata": {
    "id": "flpmUFbuhXyD"
   },
   "source": [
    "# Train and Test Data"
   ]
  },
  {
   "cell_type": "code",
   "execution_count": 16,
   "metadata": {},
   "outputs": [
    {
     "data": {
      "text/plain": [
       "['廳數',\n",
       " '房數',\n",
       " '衛數',\n",
       " 'floor',\n",
       " 'ParkCount',\n",
       " 'GasCount',\n",
       " 'govCount',\n",
       " 'hospitalCount',\n",
       " 'firewayCount',\n",
       " 'martCount',\n",
       " '每戶人數',\n",
       " '所得總額']"
      ]
     },
     "execution_count": 16,
     "metadata": {},
     "output_type": "execute_result"
    }
   ],
   "source": [
    "dfDrop2.columns\n",
    "xDf.columns"
   ]
  },
  {
   "cell_type": "code",
   "execution_count": 17,
   "metadata": {},
   "outputs": [],
   "source": [
    "# vectorize all numerical columns into a single feature column\n",
    "feature_cols = xDf.columns\n",
    "assembler = VectorAssembler(inputCols=feature_cols, outputCol='features')\n",
    "dfDrop2 = assembler.transform(dfDrop2)"
   ]
  },
  {
   "cell_type": "code",
   "execution_count": 18,
   "metadata": {},
   "outputs": [
    {
     "name": "stdout",
     "output_type": "stream",
     "text": [
      "root\n",
      " |-- 廳數: integer (nullable = true)\n",
      " |-- 房數: integer (nullable = true)\n",
      " |-- 衛數: integer (nullable = true)\n",
      " |-- unitPrice: double (nullable = true)\n",
      " |-- floor: integer (nullable = true)\n",
      " |-- ParkCount: integer (nullable = true)\n",
      " |-- GasCount: integer (nullable = true)\n",
      " |-- govCount: integer (nullable = true)\n",
      " |-- hospitalCount: integer (nullable = true)\n",
      " |-- firewayCount: integer (nullable = true)\n",
      " |-- martCount: integer (nullable = true)\n",
      " |-- 每戶人數: double (nullable = true)\n",
      " |-- 所得總額: integer (nullable = true)\n",
      " |-- features: vector (nullable = true)\n",
      "\n"
     ]
    }
   ],
   "source": [
    "# validate the presence of dense vectors \n",
    "dfDrop2.printSchema()"
   ]
  },
  {
   "cell_type": "code",
   "execution_count": 19,
   "metadata": {},
   "outputs": [
    {
     "name": "stdout",
     "output_type": "stream",
     "text": [
      "+-----------------------------------------------------------+\n",
      "|features                                                   |\n",
      "+-----------------------------------------------------------+\n",
      "|[2.0,5.0,3.0,7.0,8.0,7.0,33.0,4.0,18.0,11.0,2.89,1720988.0]|\n",
      "|[2.0,2.0,2.0,7.0,8.0,7.0,33.0,4.0,18.0,11.0,2.89,1720988.0]|\n",
      "|[0.0,0.0,0.0,7.0,8.0,7.0,33.0,4.0,18.0,11.0,2.89,1720988.0]|\n",
      "|[1.0,1.0,1.0,7.0,8.0,7.0,33.0,4.0,18.0,11.0,2.89,1720988.0]|\n",
      "|[0.0,0.0,0.0,5.0,8.0,7.0,33.0,4.0,18.0,11.0,2.89,1720988.0]|\n",
      "+-----------------------------------------------------------+\n",
      "only showing top 5 rows\n",
      "\n"
     ]
    }
   ],
   "source": [
    "# view the details of dense vector\n",
    "dfDrop2.select('features').show(5,False)"
   ]
  },
  {
   "cell_type": "code",
   "execution_count": 20,
   "metadata": {},
   "outputs": [
    {
     "name": "stdout",
     "output_type": "stream",
     "text": [
      "+--------------------+----------------+\n",
      "|            features|       unitPrice|\n",
      "+--------------------+----------------+\n",
      "|[2.0,5.0,3.0,7.0,...|246580.260178484|\n",
      "|[2.0,2.0,2.0,7.0,...|713658.438145298|\n",
      "|[0.0,0.0,0.0,7.0,...|262043.416225031|\n",
      "|[1.0,1.0,1.0,7.0,...|743902.890773758|\n",
      "|[0.0,0.0,0.0,5.0,...| 1343112.5819135|\n",
      "|[1.0,1.0,1.0,7.0,...|709845.785774059|\n",
      "|[2.0,4.0,2.0,11.0...|849122.942206655|\n",
      "|[2.0,4.0,2.0,11.0...|190912.323582579|\n",
      "|[2.0,3.0,2.0,7.0,...|636806.518723994|\n",
      "|[0.0,0.0,0.0,7.0,...|1843904.60526316|\n",
      "+--------------------+----------------+\n",
      "only showing top 10 rows\n",
      "\n"
     ]
    }
   ],
   "source": [
    "# only select the features and label column\n",
    "data = dfDrop2.select(['features', 'unitPrice'])\n",
    "data.show(10)"
   ]
  },
  {
   "cell_type": "code",
   "execution_count": 21,
   "metadata": {},
   "outputs": [
    {
     "data": {
      "text/plain": [
       "(121820, 2)"
      ]
     },
     "execution_count": 21,
     "metadata": {},
     "output_type": "execute_result"
    }
   ],
   "source": [
    "# size of model df\n",
    "data.count(), len(data.columns)"
   ]
  },
  {
   "cell_type": "code",
   "execution_count": 22,
   "metadata": {},
   "outputs": [],
   "source": [
    "# use Logistic Regression to train on the training set\n",
    "train, test = data.randomSplit([0.80, 0.20], seed=40)"
   ]
  },
  {
   "cell_type": "code",
   "execution_count": 23,
   "metadata": {},
   "outputs": [
    {
     "data": {
      "text/plain": [
       "(97718, 2)"
      ]
     },
     "execution_count": 23,
     "metadata": {},
     "output_type": "execute_result"
    }
   ],
   "source": [
    "train.count(), len(train.columns)"
   ]
  },
  {
   "cell_type": "code",
   "execution_count": 24,
   "metadata": {},
   "outputs": [
    {
     "data": {
      "text/plain": [
       "(24102, 2)"
      ]
     },
     "execution_count": 24,
     "metadata": {},
     "output_type": "execute_result"
    }
   ],
   "source": [
    "test.count(), len(test.columns)"
   ]
  },
  {
   "cell_type": "markdown",
   "metadata": {
    "id": "1mfyUUHihXyE"
   },
   "source": [
    "# Regression Model"
   ]
  },
  {
   "cell_type": "markdown",
   "metadata": {
    "id": "VADwIoebhXyE"
   },
   "source": [
    "## Linear Regression"
   ]
  },
  {
   "cell_type": "code",
   "execution_count": 25,
   "metadata": {},
   "outputs": [],
   "source": [
    "# Build Linear Regression model \n",
    "from pyspark.ml.regression import LinearRegression\n",
    "lin_Reg=LinearRegression(labelCol='unitPrice')"
   ]
  },
  {
   "cell_type": "code",
   "execution_count": 26,
   "metadata": {},
   "outputs": [
    {
     "name": "stdout",
     "output_type": "stream",
     "text": [
      "CPU times: user 10.1 ms, sys: 5.55 ms, total: 15.6 ms\n",
      "Wall time: 3.67 s\n"
     ]
    },
    {
     "data": {
      "text/plain": [
       "LinearRegressionModel: uid=LinearRegression_774379a6c53f, numFeatures=12"
      ]
     },
     "execution_count": 26,
     "metadata": {},
     "output_type": "execute_result"
    }
   ],
   "source": [
    "%%time\n",
    "# Standalone Mode\n",
    "lr_model=lin_Reg.fit(train)\n",
    "lr_model"
   ]
  },
  {
   "cell_type": "code",
   "execution_count": 27,
   "metadata": {},
   "outputs": [
    {
     "data": {
      "text/plain": [
       "622074.8009364132"
      ]
     },
     "execution_count": 27,
     "metadata": {},
     "output_type": "execute_result"
    }
   ],
   "source": [
    "lr_model.intercept"
   ]
  },
  {
   "cell_type": "code",
   "execution_count": 28,
   "metadata": {},
   "outputs": [
    {
     "data": {
      "text/plain": [
       "DenseVector([-19958.9919, -27961.301, 26508.1375, 5413.3379, 5259.2734, -4193.8159, -1443.7211, 3050.033, -71.1805, 972.7294, -400019.0525, 0.6897])"
      ]
     },
     "execution_count": 28,
     "metadata": {},
     "output_type": "execute_result"
    }
   ],
   "source": [
    "lr_model.coefficients"
   ]
  },
  {
   "cell_type": "code",
   "execution_count": 29,
   "metadata": {},
   "outputs": [
    {
     "data": {
      "text/plain": [
       "<pyspark.ml.regression.LinearRegressionSummary at 0x7f79e3d519a0>"
      ]
     },
     "execution_count": 29,
     "metadata": {},
     "output_type": "execute_result"
    }
   ],
   "source": [
    "training_predictions=lr_model.evaluate(train)\n",
    "training_predictions"
   ]
  },
  {
   "cell_type": "code",
   "execution_count": 30,
   "metadata": {},
   "outputs": [
    {
     "name": "stdout",
     "output_type": "stream",
     "text": [
      "MSE:\t 512690035661.02606\n",
      "RMSE:\t 716023.767525231\n",
      "R2:\t 0.03168337623295303\n"
     ]
    }
   ],
   "source": [
    "print('MSE:\\t',training_predictions.meanSquaredError)\n",
    "print('RMSE:\\t',training_predictions.meanSquaredError ** 0.5)\n",
    "print('R2:\\t',training_predictions.r2)"
   ]
  },
  {
   "cell_type": "code",
   "execution_count": 31,
   "metadata": {},
   "outputs": [
    {
     "data": {
      "text/plain": [
       "DataFrame[features: vector]"
      ]
     },
     "execution_count": 31,
     "metadata": {},
     "output_type": "execute_result"
    }
   ],
   "source": [
    "data.select('features')"
   ]
  },
  {
   "cell_type": "code",
   "execution_count": 35,
   "metadata": {},
   "outputs": [],
   "source": [
    "lr_predictions = lr_model.transform(test)"
   ]
  },
  {
   "cell_type": "code",
   "execution_count": 36,
   "metadata": {},
   "outputs": [
    {
     "name": "stdout",
     "output_type": "stream",
     "text": [
      "+-----------------+----------------+--------------------+\n",
      "|       prediction|       unitPrice|            features|\n",
      "+-----------------+----------------+--------------------+\n",
      "|650484.2144113148|2002797.98937629|[0.0,0.0,0.0,2.0,...|\n",
      "|655897.5523528673|        451791.3|[0.0,0.0,0.0,3.0,...|\n",
      "|655897.5523528673|806123.148659851|[0.0,0.0,0.0,3.0,...|\n",
      "|655897.5523528673|888002.197802198|[0.0,0.0,0.0,3.0,...|\n",
      "|655897.5523528673|970350.475519549|[0.0,0.0,0.0,3.0,...|\n",
      "|655897.5523528673|1118634.94856524|[0.0,0.0,0.0,3.0,...|\n",
      "|661310.8902944196|54913.4551495017|[0.0,0.0,0.0,4.0,...|\n",
      "|661310.8902944196|367514.174541412|[0.0,0.0,0.0,4.0,...|\n",
      "|661310.8902944196|400012.200903161|[0.0,0.0,0.0,4.0,...|\n",
      "|661310.8902944196|570666.584463625|[0.0,0.0,0.0,4.0,...|\n",
      "|661310.8902944196|570877.462838822|[0.0,0.0,0.0,4.0,...|\n",
      "|661310.8902944196|655910.714285714|[0.0,0.0,0.0,4.0,...|\n",
      "|661310.8902944196|662759.047136341|[0.0,0.0,0.0,4.0,...|\n",
      "|661310.8902944196|711210.668631424|[0.0,0.0,0.0,4.0,...|\n",
      "|661310.8902944196|925214.105793451|[0.0,0.0,0.0,4.0,...|\n",
      "|661310.8902944196|1085128.01778907|[0.0,0.0,0.0,4.0,...|\n",
      "|661310.8902944196|1104384.18708241|[0.0,0.0,0.0,4.0,...|\n",
      "|661310.8902944196|1239539.94280267|[0.0,0.0,0.0,4.0,...|\n",
      "|661310.8902944196|      1315704.42|[0.0,0.0,0.0,4.0,...|\n",
      "|661310.8902944196|1409224.09885603|[0.0,0.0,0.0,4.0,...|\n",
      "+-----------------+----------------+--------------------+\n",
      "only showing top 20 rows\n",
      "\n"
     ]
    },
    {
     "data": {
      "text/plain": [
       "24102"
      ]
     },
     "execution_count": 36,
     "metadata": {},
     "output_type": "execute_result"
    }
   ],
   "source": [
    "lr_predictions.select(\"prediction\", \"unitPrice\", \"features\").show()\n",
    "lr_predictions.select(\"prediction\", \"unitPrice\", \"features\").count()"
   ]
  },
  {
   "cell_type": "markdown",
   "metadata": {
    "id": "n3gJhMvahXyL"
   },
   "source": [
    "# Predict"
   ]
  },
  {
   "cell_type": "code",
   "execution_count": 37,
   "metadata": {
    "id": "v4xut24vhXyM"
   },
   "outputs": [
    {
     "name": "stdout",
     "output_type": "stream",
     "text": [
      "+--------------------+----------------+-----------------+\n",
      "|            features|       unitPrice|       prediction|\n",
      "+--------------------+----------------+-----------------+\n",
      "|[2.0,5.0,3.0,7.0,...|246580.260178484|577350.8278474931|\n",
      "|[2.0,2.0,2.0,7.0,...|713658.438145298|634726.5933615589|\n",
      "|[0.0,0.0,0.0,7.0,...|262043.416225031|677550.9041190771|\n",
      "|[1.0,1.0,1.0,7.0,...|743902.890773758| 656138.748740318|\n",
      "|[0.0,0.0,0.0,5.0,...| 1343112.5819135|666724.2282359721|\n",
      "|[1.0,1.0,1.0,7.0,...|709845.785774059| 656138.748740318|\n",
      "|[2.0,4.0,2.0,11.0...|849122.942206655|600457.3431009385|\n",
      "|[2.0,4.0,2.0,11.0...|190912.323582579|600457.3431009385|\n",
      "|[2.0,3.0,2.0,7.0,...|636806.518723994|606765.2923481439|\n",
      "|[0.0,0.0,0.0,7.0,...|1843904.60526316|677550.9041190771|\n",
      "|[2.0,4.0,2.0,11.0...|782834.297812279|600457.3431009385|\n",
      "|[2.0,3.0,1.0,7.0,...|700241.231527094|580257.1548219644|\n",
      "|[0.0,0.0,0.0,7.0,...|490958.910891089|677550.9041190771|\n",
      "|[1.0,1.0,1.0,7.0,...|437336.138084633| 656138.748740318|\n",
      "|[2.0,2.0,2.0,5.0,...|1599057.38940204|623899.9174784541|\n",
      "|[1.0,1.0,1.0,7.0,...|483610.646002317| 656138.748740318|\n",
      "|[1.0,1.0,1.0,7.0,...|479778.371681416| 656138.748740318|\n",
      "|[2.0,4.0,3.0,7.0,...| 573314.55026455|605312.1288609081|\n",
      "|[1.0,1.0,1.0,7.0,...|557896.440625959| 656138.748740318|\n",
      "|[1.0,1.0,1.0,7.0,...|407746.557437408| 656138.748740318|\n",
      "+--------------------+----------------+-----------------+\n",
      "only showing top 20 rows\n",
      "\n",
      "<class 'pyspark.sql.dataframe.DataFrame'>\n"
     ]
    },
    {
     "data": {
      "text/plain": [
       "DataFrame[features: vector, unitPrice: double, prediction: double]"
      ]
     },
     "execution_count": 37,
     "metadata": {},
     "output_type": "execute_result"
    }
   ],
   "source": [
    "# yPred = stack.predict(xDf)\n",
    "yPred = lr_model.transform(data)\n",
    "yPred.show()\n",
    "print(type(yPred))\n",
    "yPred"
   ]
  },
  {
   "cell_type": "code",
   "execution_count": 38,
   "metadata": {},
   "outputs": [],
   "source": [
    "dfNew = dfDrop.withColumnRenamed('unitPrice','unitPriceOrigin')"
   ]
  },
  {
   "cell_type": "code",
   "execution_count": 39,
   "metadata": {},
   "outputs": [],
   "source": [
    "from pyspark.sql import SQLContext"
   ]
  },
  {
   "cell_type": "code",
   "execution_count": 40,
   "metadata": {
    "id": "A5YoiESKhXyM",
    "outputId": "28577c3a-077e-4350-f1a3-8fa98cad9395",
    "scrolled": true
   },
   "outputs": [
    {
     "name": "stdout",
     "output_type": "stream",
     "text": [
      "+-------------------------+------+------+----------+----+--------------------+---------------+--------+----+----+----+------+------------+-----------+---------+----------------+------+-----+----------+---------+------------+--------+----------+-----------+--------+-----------+--------+-----------+-------------+-------------+-------------+------------+---------+---------+-----------+--------+--------+--------+--------+--------+--------+------------+------------+----------+--------+------+--------+-----------+----------+--------------------+----------------+------------------+\n",
      "|                  Address|  Area|    St|交易年月日|year|            交易標的|     交易筆棟數|建物型態|廳數|房數|衛數|隔間數|有無管理組織|     總價元|   總坪數| unitPriceOrigin|車位數|floor|EightCount|ParkCount|FuneralCount|GasCount|CrimeCount|PoliceCount|busCount|subwayCount|govCount|clinicCount|hospitalCount|pharmacyCount|fireareaCount|firewayCount|martCount|mallCount|cinemaCount|土地面積|總人口數|男性人數|女性人數|人口密度|每戶人數|每戶成年人數|所得收入總計|可支配所得|消費支出|  儲蓄|所得總額|  Lontitude|  Latitude|            features|       unitPrice|        prediction|\n",
      "+-------------------------+------+------+----------+----+--------------------+---------------+--------+----+----+----+------+------------+-----------+---------+----------------+------+-----+----------+---------+------------+--------+----------+-----------+--------+-----------+--------+-----------+-------------+-------------+-------------+------------+---------+---------+-----------+--------+--------+--------+--------+--------+--------+------------+------------+----------+--------+------+--------+-----------+----------+--------------------+----------------+------------------+\n",
      "| 臺北市中山區一江街1~30號|中山區|一江街|   1041208|2015|     房地(土地+建物)|土地1建物1車位0|    華廈|   2|   5|   3|    有|          無|     1.68E7|68.132075|246580.260178484|     0|    7|        77|        8|         132|       7|       904|         13|     280|          8|      33|        486|            4|           98|           80|          18|       11|        6|          5| 13.6821|  224707|  104138|  120569|   16423|    2.89|        2.51|     1614178|   1339702| 1071429|268273| 1720988|121.5315679|25.0507038|[2.0,5.0,3.0,7.0,...|246580.260178484| 577350.8278474931|\n",
      "| 臺北市中山區一江街1~30號|中山區|一江街|   1080827|2019|     房地(土地+建物)|土地2建物1車位0|    華廈|   2|   2|   2|    有|          無|      2.3E7| 32.22835|713658.438145298|     0|    7|        77|        8|         132|       7|       904|         13|     280|          8|      33|        486|            4|           98|           80|          18|       11|        6|          5| 13.6821|  224707|  104138|  120569|   16423|    2.89|        2.51|     1614178|   1339702| 1071429|268273| 1720988|121.5315679|25.0507038|[2.0,2.0,2.0,7.0,...|713658.438145298| 634726.5933615589|\n",
      "| 臺北市中山區一江街1~30號|中山區|一江街|   1031218|2014|     房地(土地+建物)|土地2建物1車位0|    華廈|   0|   0|   0|    無|          無|     1.75E7|66.782925|262043.416225031|     0|    7|        77|        8|         132|       7|       904|         13|     280|          8|      33|        486|            4|           98|           80|          18|       11|        6|          5| 13.6821|  224707|  104138|  120569|   16423|    2.89|        2.51|     1614178|   1339702| 1071429|268273| 1720988|121.5315679|25.0507038|[0.0,0.0,0.0,7.0,...|262043.416225031| 677550.9041190771|\n",
      "| 臺北市中山區一江街1~30號|中山區|一江街|   1020729|2013|     房地(土地+建物)|土地1建物1車位0|    華廈|   1|   1|   1|    有|          無|      1.3E7|17.475425|743902.890773758|     0|    7|        77|        8|         132|       7|       904|         13|     280|          8|      33|        486|            4|           98|           80|          18|       11|        6|          5| 13.6821|  224707|  104138|  120569|   16423|    2.89|        2.51|     1614178|   1339702| 1071429|268273| 1720988|121.5315679|25.0507038|[1.0,1.0,1.0,7.0,...|743902.890773758|  656138.748740318|\n",
      "|臺北市中山區一江街31~60號|中山區|一江街|   1041022|2015|     房地(土地+建物)|土地1建物1車位0|    公寓|   0|   0|   0|    無|          無|  9300000.0| 6.924225| 1343112.5819135|     0|    5|        77|        8|         132|       7|       904|         13|     280|          8|      33|        486|            4|           98|           80|          18|       11|        6|          5| 13.6821|  224707|  104138|  120569|   16423|    2.89|        2.51|     1614178|   1339702| 1071429|268273| 1720988|121.5316034|25.0533504|[0.0,0.0,0.0,5.0,...| 1343112.5819135| 666724.2282359721|\n",
      "|臺北市中山區一江街31~60號|中山區|一江街|   1030102|2014|     房地(土地+建物)|土地1建物1車位0|    華廈|   1|   1|   1|    有|          無|    1.283E7|18.074375|709845.785774059|     0|    7|        77|        8|         132|       7|       904|         13|     280|          8|      33|        486|            4|           98|           80|          18|       11|        6|          5| 13.6821|  224707|  104138|  120569|   16423|    2.89|        2.51|     1614178|   1339702| 1071429|268273| 1720988|121.5316034|25.0533504|[1.0,1.0,1.0,7.0,...|709845.785774059|  656138.748740318|\n",
      "|臺北市中山區一江街31~60號|中山區|一江街|   1061016|2017|房地(土地+建物)+車位|土地1建物1車位1|住宅大樓|   2|   4|   2|    有|          有|     5.72E7|67.363725|849122.942206655|     1|   11|        77|        8|         132|       7|       904|         13|     280|          8|      33|        486|            4|           98|           80|          18|       11|        6|          5| 13.6821|  224707|  104138|  120569|   16423|    2.89|        2.51|     1614178|   1339702| 1071429|268273| 1720988|121.5316034|25.0533504|[2.0,4.0,2.0,11.0...|849122.942206655| 600457.3431009385|\n",
      "|臺北市中山區一江街31~60號|中山區|一江街|   1040514|2015|房地(土地+建物)+車位|土地1建物1車位2|住宅大樓|   2|   4|   2|    有|          有|1.6528883E7|86.578525|190912.323582579|     2|   11|        77|        8|         132|       7|       904|         13|     280|          8|      33|        486|            4|           98|           80|          18|       11|        6|          5| 13.6821|  224707|  104138|  120569|   16423|    2.89|        2.51|     1614178|   1339702| 1071429|268273| 1720988|121.5316034|25.0533504|[2.0,4.0,2.0,11.0...|190912.323582579| 600457.3431009385|\n",
      "|臺北市中山區一江街31~60號|中山區|一江街|   1090103|2020|     房地(土地+建物)|土地1建物1車位0|    華廈|   2|   3|   2|    有|          有|      2.5E7| 39.25845|636806.518723994|     0|    7|        77|        8|         132|       7|       904|         13|     280|          8|      33|        486|            4|           98|           80|          18|       11|        6|          5| 13.6821|  224707|  104138|  120569|   16423|    2.89|        2.51|     1614178|   1339702| 1071429|268273| 1720988|121.5316034|25.0533504|[2.0,3.0,2.0,7.0,...|636806.518723994| 606765.2923481439|\n",
      "|臺北市中山區一江街31~60號|中山區|一江街|   1040508|2015|     房地(土地+建物)|土地1建物1車位0|    華廈|   0|   0|   0|    無|          無|     1.95E7|  10.5754|1843904.60526316|     0|    7|        77|        8|         132|       7|       904|         13|     280|          8|      33|        486|            4|           98|           80|          18|       11|        6|          5| 13.6821|  224707|  104138|  120569|   16423|    2.89|        2.51|     1614178|   1339702| 1071429|268273| 1720988|121.5316034|25.0533504|[0.0,0.0,0.0,7.0,...|1843904.60526316| 677550.9041190771|\n",
      "|臺北市中山區一江街31~60號|中山區|一江街|   1030413|2014|房地(土地+建物)+車位|土地1建物1車位2|住宅大樓|   2|   4|   2|    有|          有|     6.04E7| 77.15565|782834.297812279|     2|   11|        77|        8|         132|       7|       904|         13|     280|          8|      33|        486|            4|           98|           80|          18|       11|        6|          5| 13.6821|  224707|  104138|  120569|   16423|    2.89|        2.51|     1614178|   1339702| 1071429|268273| 1720988|121.5316034|25.0533504|[2.0,4.0,2.0,11.0...|782834.297812279| 600457.3431009385|\n",
      "|臺北市中山區一江街31~60號|中山區|一江街|   1071104|2018|     房地(土地+建物)|土地1建物1車位0|    華廈|   2|   3|   1|    有|          無|     1.29E7| 18.42225|700241.231527094|     0|    7|        77|        8|         132|       7|       904|         13|     280|          8|      33|        486|            4|           98|           80|          18|       11|        6|          5| 13.6821|  224707|  104138|  120569|   16423|    2.89|        2.51|     1614178|   1339702| 1071429|268273| 1720988|121.5316034|25.0533504|[2.0,3.0,1.0,7.0,...|700241.231527094| 580257.1548219644|\n",
      "| 臺北市中山區中原街1~30號|中山區|中原街|   1081111|2019|     房地(土地+建物)|土地1建物1車位0|    華廈|   0|   0|   0|    無|          有|  4500000.0|  9.16575|490958.910891089|     0|    7|        77|        8|         132|       7|       904|         13|     280|          8|      33|        486|            4|           98|           80|          18|       11|        6|          5| 13.6821|  224707|  104138|  120569|   16423|    2.89|        2.51|     1614178|   1339702| 1071429|268273| 1720988|121.5289176|25.0551651|[2.0,3.0,1.0,4.0,...|490958.910891089| 670445.2324053643|\n",
      "| 臺北市中山區中原街1~30號|中山區|中原街|   1081111|2019|     房地(土地+建物)|土地1建物1車位0|    華廈|   0|   0|   0|    無|          有|  4500000.0|  9.16575|490958.910891089|     0|    7|        77|        8|         132|       7|       904|         13|     280|          8|      33|        486|            4|           98|           80|          18|       11|        6|          5| 13.6821|  224707|  104138|  120569|   16423|    2.89|        2.51|     1614178|   1339702| 1071429|268273| 1720988|121.5289176|25.0551651|[2.0,3.0,2.0,5.0,...|490958.910891089| 513224.4768408933|\n",
      "| 臺北市中山區中原街1~30號|中山區|中原街|   1081111|2019|     房地(土地+建物)|土地1建物1車位0|    華廈|   0|   0|   0|    無|          有|  4500000.0|  9.16575|490958.910891089|     0|    7|        77|        8|         132|       7|       904|         13|     280|          8|      33|        486|            4|           98|           80|          18|       11|        6|          5| 13.6821|  224707|  104138|  120569|   16423|    2.89|        2.51|     1614178|   1339702| 1071429|268273| 1720988|121.5289176|25.0551651|[2.0,2.0,2.0,11.0...|490958.910891089| 498882.4494342555|\n",
      "| 臺北市中山區中原街1~30號|中山區|中原街|   1081111|2019|     房地(土地+建物)|土地1建物1車位0|    華廈|   0|   0|   0|    無|          有|  4500000.0|  9.16575|490958.910891089|     0|    7|        77|        8|         132|       7|       904|         13|     280|          8|      33|        486|            4|           98|           80|          18|       11|        6|          5| 13.6821|  224707|  104138|  120569|   16423|    2.89|        2.51|     1614178|   1339702| 1071429|268273| 1720988|121.5289176|25.0551651|[2.0,2.0,1.0,5.0,...|490958.910891089|482753.98915329506|\n",
      "| 臺北市中山區中原街1~30號|中山區|中原街|   1081111|2019|     房地(土地+建物)|土地1建物1車位0|    華廈|   0|   0|   0|    無|          有|  4500000.0|  9.16575|490958.910891089|     0|    7|        77|        8|         132|       7|       904|         13|     280|          8|      33|        486|            4|           98|           80|          18|       11|        6|          5| 13.6821|  224707|  104138|  120569|   16423|    2.89|        2.51|     1614178|   1339702| 1071429|268273| 1720988|121.5289176|25.0551651|[0.0,0.0,0.0,7.0,...|490958.910891089| 677550.9041190771|\n",
      "| 臺北市中山區中原街1~30號|中山區|中原街|   1030107|2014|     房地(土地+建物)|土地1建物1車位0|    套房|   1|   1|   1|    有|          有|  2970000.0| 6.791125|437336.138084633|     0|    7|        77|        8|         132|       7|       904|         13|     280|          8|      33|        486|            4|           98|           80|          18|       11|        6|          5| 13.6821|  224707|  104138|  120569|   16423|    2.89|        2.51|     1614178|   1339702| 1071429|268273| 1720988|121.5289176|25.0551651|[1.0,1.0,1.0,7.0,...|437336.138084633|  656138.748740318|\n",
      "| 臺北市中山區中原街1~30號|中山區|中原街|   1030825|2014|     房地(土地+建物)|土地1建物1車位0|    店面|   2|   2|   2|    有|          無|     3.98E7|  24.8897|1599057.38940204|     0|    5|        77|        8|         132|       7|       904|         13|     280|          8|      33|        486|            4|           98|           80|          18|       11|        6|          5| 13.6821|  224707|  104138|  120569|   16423|    2.89|        2.51|     1614178|   1339702| 1071429|268273| 1720988|121.5289176|25.0551651|[2.0,2.0,2.0,5.0,...|1599057.38940204| 623899.9174784541|\n",
      "| 臺北市中山區中原街1~30號|中山區|中原街|   1040708|2015|     房地(土地+建物)|土地1建物1車位0|    套房|   1|   1|   1|    有|          有|  5050000.0|  10.4423|483610.646002317|     0|    7|        77|        8|         132|       7|       904|         13|     280|          8|      33|        486|            4|           98|           80|          18|       11|        6|          5| 13.6821|  224707|  104138|  120569|   16423|    2.89|        2.51|     1614178|   1339702| 1071429|268273| 1720988|121.5289176|25.0551651|[1.0,1.0,1.0,7.0,...|483610.646002317|  656138.748740318|\n",
      "+-------------------------+------+------+----------+----+--------------------+---------------+--------+----+----+----+------+------------+-----------+---------+----------------+------+-----+----------+---------+------------+--------+----------+-----------+--------+-----------+--------+-----------+-------------+-------------+-------------+------------+---------+---------+-----------+--------+--------+--------+--------+--------+--------+------------+------------+----------+--------+------+--------+-----------+----------+--------------------+----------------+------------------+\n",
      "only showing top 20 rows\n",
      "\n"
     ]
    }
   ],
   "source": [
    "result = df\n",
    "SQLContext.registerDataFrameAsTable(dfNew,dfNew,\"X\")\n",
    "SQLContext.registerDataFrameAsTable(yPred, yPred, \"y\")\n",
    "result = spark.sql(\"select * from X join y on X.unitPriceOrigin=y.unitPrice\")\n",
    "result.show()"
   ]
  },
  {
   "cell_type": "code",
   "execution_count": 43,
   "metadata": {},
   "outputs": [],
   "source": [
    "import pyspark.sql.functions as F\n",
    "from pyspark.sql.types import *\n",
    "\n",
    "def updown(unit,pred):\n",
    "    return round(unit-pred, 2)\n",
    "    \n",
    "#convert to a UDF Function by passing in the function and return type of function\n",
    "udfud = F.udf(updown, DoubleType())\n",
    "\n",
    "result = result.withColumn(\"漲跌\", udfud(\"unitPrice\",\"prediction\"))"
   ]
  },
  {
   "cell_type": "code",
   "execution_count": 44,
   "metadata": {},
   "outputs": [
    {
     "name": "stdout",
     "output_type": "stream",
     "text": [
      "root\n",
      " |-- Area: string (nullable = true)\n",
      " |-- avg(交易年月日): double (nullable = true)\n",
      " |-- avg(year): double (nullable = true)\n",
      " |-- avg(廳數): double (nullable = true)\n",
      " |-- avg(房數): double (nullable = true)\n",
      " |-- avg(衛數): double (nullable = true)\n",
      " |-- avg(總價元): double (nullable = true)\n",
      " |-- avg(總坪數): double (nullable = true)\n",
      " |-- avg(unitPriceOrigin): double (nullable = true)\n",
      " |-- avg(車位數): double (nullable = true)\n",
      " |-- avg(floor): double (nullable = true)\n",
      " |-- avg(EightCount): double (nullable = true)\n",
      " |-- avg(ParkCount): double (nullable = true)\n",
      " |-- avg(FuneralCount): double (nullable = true)\n",
      " |-- avg(GasCount): double (nullable = true)\n",
      " |-- avg(CrimeCount): double (nullable = true)\n",
      " |-- avg(PoliceCount): double (nullable = true)\n",
      " |-- avg(busCount): double (nullable = true)\n",
      " |-- avg(subwayCount): double (nullable = true)\n",
      " |-- avg(govCount): double (nullable = true)\n",
      " |-- avg(clinicCount): double (nullable = true)\n",
      " |-- avg(hospitalCount): double (nullable = true)\n",
      " |-- avg(pharmacyCount): double (nullable = true)\n",
      " |-- avg(fireareaCount): double (nullable = true)\n",
      " |-- avg(firewayCount): double (nullable = true)\n",
      " |-- avg(martCount): double (nullable = true)\n",
      " |-- avg(mallCount): double (nullable = true)\n",
      " |-- avg(cinemaCount): double (nullable = true)\n",
      " |-- avg(土地面積): double (nullable = true)\n",
      " |-- avg(總人口數): double (nullable = true)\n",
      " |-- avg(男性人數): double (nullable = true)\n",
      " |-- avg(女性人數): double (nullable = true)\n",
      " |-- avg(人口密度): double (nullable = true)\n",
      " |-- avg(每戶人數): double (nullable = true)\n",
      " |-- avg(每戶成年人數): double (nullable = true)\n",
      " |-- avg(所得收入總計): double (nullable = true)\n",
      " |-- avg(可支配所得): double (nullable = true)\n",
      " |-- avg(消費支出): double (nullable = true)\n",
      " |-- avg(儲蓄): double (nullable = true)\n",
      " |-- avg(所得總額): double (nullable = true)\n",
      " |-- avg(Lontitude): double (nullable = true)\n",
      " |-- avg(Latitude): double (nullable = true)\n",
      " |-- avg(unitPrice): double (nullable = true)\n",
      " |-- avg(prediction): double (nullable = true)\n",
      " |-- avg(漲跌): double (nullable = true)\n",
      "\n"
     ]
    }
   ],
   "source": [
    "updown = result.groupby(['Area']).mean()\n",
    "updown.printSchema()"
   ]
  },
  {
   "cell_type": "code",
   "execution_count": 45,
   "metadata": {},
   "outputs": [
    {
     "data": {
      "text/plain": [
       "DataFrame[Area: string, avg(unitPrice): double, avg(prediction): double, avg(漲跌): double]"
      ]
     },
     "execution_count": 45,
     "metadata": {},
     "output_type": "execute_result"
    }
   ],
   "source": [
    "updown = updown.select('Area', 'avg(unitPrice)','avg(prediction)','avg(漲跌)')\n",
    "# updown.show()\n",
    "updown"
   ]
  },
  {
   "cell_type": "code",
   "execution_count": 46,
   "metadata": {},
   "outputs": [
    {
     "name": "stdout",
     "output_type": "stream",
     "text": [
      "root\n",
      " |-- Area: string (nullable = true)\n",
      " |-- avg(unitPrice): double (nullable = true)\n",
      " |-- avg(prediction): double (nullable = true)\n",
      " |-- avg(漲跌): double (nullable = true)\n",
      "\n"
     ]
    }
   ],
   "source": [
    "updown.printSchema()"
   ]
  },
  {
   "cell_type": "code",
   "execution_count": 48,
   "metadata": {
    "id": "ZexE7vMvhXyN",
    "outputId": "1ec8aa93-9263-4314-f476-180f2055ae57"
   },
   "outputs": [
    {
     "name": "stdout",
     "output_type": "stream",
     "text": [
      "+------+------------------+------------------+-------------------+\n",
      "|  Area|    avg(unitPrice)|   avg(prediction)|          avg(漲跌)|\n",
      "+------+------------------+------------------+-------------------+\n",
      "|文山區| 470894.2001388704|  536434.855348447| -65540.65520864162|\n",
      "|南港區| 526077.3259428595| 553319.4645386441|-27242.138618055582|\n",
      "|松山區| 688876.4291906786| 716081.6069487213|-27205.177789736503|\n",
      "|北投區| 472527.7286182643| 494101.4705440427| -21573.74191439992|\n",
      "|萬華區| 470096.7236820338|479295.68741015287| -9198.963718944091|\n",
      "|內湖區|523306.69566241343| 527113.3103269787|-3806.6146562483023|\n",
      "|中山區| 636868.5271113187|  639622.115295151| -2753.588183292158|\n",
      "|士林區| 564129.9154914799|  565590.933153442|-1461.0177016582136|\n",
      "|中正區| 727578.6470990789| 723769.3232256584|  3809.323894919107|\n",
      "|信義區| 686091.2646814411| 677952.2462552729|  8139.018386486895|\n",
      "|大安區|  816875.841215338| 806399.4869502825| 10476.354311393823|\n",
      "|大同區|  552593.240185469| 524063.5813984793| 28529.658851199136|\n",
      "+------+------------------+------------------+-------------------+\n",
      "\n",
      "CPU times: user 2.04 ms, sys: 17 ms, total: 19.1 ms\n",
      "Wall time: 3.19 s\n"
     ]
    },
    {
     "data": {
      "text/plain": [
       "12"
      ]
     },
     "execution_count": 48,
     "metadata": {},
     "output_type": "execute_result"
    }
   ],
   "source": [
    "%%time\n",
    "# Standalone Mode\n",
    "updown.orderBy('avg(漲跌)').show()"
   ]
  },
  {
   "cell_type": "code",
   "execution_count": null,
   "metadata": {},
   "outputs": [],
   "source": [
    "spark.stop()"
   ]
  }
 ],
 "metadata": {
  "colab": {
   "name": "Model_RegEnsemBoost.ipynb",
   "provenance": []
  },
  "kernelspec": {
   "display_name": "Python 3",
   "language": "python",
   "name": "python3"
  },
  "language_info": {
   "codemirror_mode": {
    "name": "ipython",
    "version": 3
   },
   "file_extension": ".py",
   "mimetype": "text/x-python",
   "name": "python",
   "nbconvert_exporter": "python",
   "pygments_lexer": "ipython3",
   "version": "3.8.5"
  },
  "toc": {
   "base_numbering": 1,
   "nav_menu": {},
   "number_sections": true,
   "sideBar": true,
   "skip_h1_title": false,
   "title_cell": "Table of Contents",
   "title_sidebar": "Contents",
   "toc_cell": false,
   "toc_position": {},
   "toc_section_display": true,
   "toc_window_display": true
  },
  "varInspector": {
   "cols": {
    "lenName": 16,
    "lenType": 16,
    "lenVar": 40
   },
   "kernels_config": {
    "python": {
     "delete_cmd_postfix": "",
     "delete_cmd_prefix": "del ",
     "library": "var_list.py",
     "varRefreshCmd": "print(var_dic_list())"
    },
    "r": {
     "delete_cmd_postfix": ") ",
     "delete_cmd_prefix": "rm(",
     "library": "var_list.r",
     "varRefreshCmd": "cat(var_dic_list()) "
    }
   },
   "types_to_exclude": [
    "module",
    "function",
    "builtin_function_or_method",
    "instance",
    "_Feature"
   ],
   "window_display": false
  }
 },
 "nbformat": 4,
 "nbformat_minor": 1
}
