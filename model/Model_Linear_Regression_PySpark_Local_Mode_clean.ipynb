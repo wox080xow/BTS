{
 "cells": [
  {
   "cell_type": "code",
   "execution_count": 1,
   "metadata": {},
   "outputs": [],
   "source": [
    "import pyspark\n",
    "import sys\n",
    "\n",
    "import pyspark.sql.functions as fn\n",
    "\n",
    "from pyspark.sql import SparkSession\n",
    "\n",
    "from pyspark.ml.classification import LogisticRegression\n",
    "from pyspark.ml.evaluation import MulticlassClassificationEvaluator\n",
    "from pyspark.ml.feature import VectorAssembler, StringIndexer"
   ]
  },
  {
   "cell_type": "code",
   "execution_count": 7,
   "metadata": {},
   "outputs": [],
   "source": [
    "# Lightweight PySpark local mode\n",
    "spark = SparkSession \\\n",
    "        .builder \\\n",
    "        .appName(\"LocalMode\") \\\n",
    "        .getOrCreate()"
   ]
  },
  {
   "cell_type": "code",
   "execution_count": 8,
   "metadata": {},
   "outputs": [],
   "source": [
    "spark.stop()"
   ]
  },
  {
   "cell_type": "code",
   "execution_count": 2,
   "metadata": {},
   "outputs": [
    {
     "data": {
      "text/plain": [
       "'PySparkShell'"
      ]
     },
     "execution_count": 2,
     "metadata": {},
     "output_type": "execute_result"
    }
   ],
   "source": [
    "spark.sparkContext.appName"
   ]
  },
  {
   "cell_type": "code",
   "execution_count": 3,
   "metadata": {},
   "outputs": [],
   "source": [
    "spark.conf.set(\"spark.sql.execution.arrow.pyspark.enabled\", True)"
   ]
  },
  {
   "cell_type": "code",
   "execution_count": 4,
   "metadata": {},
   "outputs": [
    {
     "data": {
      "text/plain": [
       "'3.8.5 (default, Jul 28 2020, 12:59:40) \\n[GCC 9.3.0]'"
      ]
     },
     "execution_count": 4,
     "metadata": {},
     "output_type": "execute_result"
    }
   ],
   "source": [
    "sys.version"
   ]
  },
  {
   "cell_type": "code",
   "execution_count": 5,
   "metadata": {},
   "outputs": [
    {
     "data": {
      "text/plain": [
       "'3.0.1'"
      ]
     },
     "execution_count": 5,
     "metadata": {},
     "output_type": "execute_result"
    }
   ],
   "source": [
    "spark.version"
   ]
  },
  {
   "cell_type": "markdown",
   "metadata": {
    "id": "ymcVQjYShXyA"
   },
   "source": [
    "# Load Data"
   ]
  },
  {
   "cell_type": "code",
   "execution_count": 6,
   "metadata": {},
   "outputs": [
    {
     "name": "stdout",
     "output_type": "stream",
     "text": [
      "CPU times: user 572 µs, sys: 2.24 ms, total: 2.81 ms\n",
      "Wall time: 6.46 s\n"
     ]
    },
    {
     "data": {
      "text/plain": [
       "DataFrame[Address: string, Area: string, St: string, 交易年月日: int, year: int, 交易標的: string, 交易筆棟數: string, 建物型態: string, 建物現況格局.廳: int, 建物現況格局.房: int, 建物現況格局.衛: int, 建物現況格局.隔間: string, 有無管理組織: string, 總價元: double, 總坪數: double, 單價元坪: double, 車位數: int, floor: int, EightCount: int, ParkCount: int, FuneralCount: int, GasCount: int, CrimeCount: int, PoliceCount: int, busCount: int, subwayCount: int, govCount: int, clinicCount: int, hospitalCount: int, pharmacyCount: int, fireareaCount: int, firewayCount: int, martCount: int, mallCount: int, cinemaCount: int, 土地面積: double, 總人口數: int, 男性人數: int, 女性人數: int, 人口密度: int, 每戶人數: double, 每戶成年人數: double, 所得收入總計: int, 可支配所得: int, 消費支出: int, 儲蓄: int, 所得總額: int, Lontitude: double, Latitude: double]"
      ]
     },
     "execution_count": 6,
     "metadata": {},
     "output_type": "execute_result"
    }
   ],
   "source": [
    "%%time\n",
    "# Local Mode讀取本機檔案\n",
    "df = spark.read.csv('HouseVarCoFinal.csv', header=True, inferSchema=True)\n",
    "# df = spark.read.csv('HouseVarCoFinal.csv', inferSchema=True)\n",
    "df"
   ]
  },
  {
   "cell_type": "code",
   "execution_count": 7,
   "metadata": {
    "id": "ZbIppwDChXyC",
    "outputId": "472885be-43e2-4244-bf75-e29d6f5e6bea"
   },
   "outputs": [
    {
     "name": "stdout",
     "output_type": "stream",
     "text": [
      "+-------+-----------------------------+------+------+------------------+------------------+--------------------+---------------+--------+------------------+------------------+------------------+-----------------+------------+--------------------+-----------------+------------------+------------------+----------------+------------------+-----------------+-----------------+------------------+------------------+------------------+------------------+-----------------+-----------------+------------------+------------------+------------------+------------------+------------------+-----------------+------------------+------------------+------------------+-----------------+------------------+------------------+------------------+-------------------+-------------------+------------------+------------------+------------------+------------------+------------------+------------------+--------------------+\n",
      "|summary|                      Address|  Area|    St|        交易年月日|              year|            交易標的|     交易筆棟數|建物型態|   建物現況格局.廳|   建物現況格局.房|   建物現況格局.衛|建物現況格局.隔間|有無管理組織|              總價元|           總坪數|          單價元坪|            車位數|           floor|        EightCount|        ParkCount|     FuneralCount|          GasCount|        CrimeCount|       PoliceCount|          busCount|      subwayCount|         govCount|       clinicCount|     hospitalCount|     pharmacyCount|     fireareaCount|      firewayCount|        martCount|         mallCount|       cinemaCount|          土地面積|         總人口數|          男性人數|          女性人數|          人口密度|           每戶人數|       每戶成年人數|      所得收入總計|        可支配所得|          消費支出|              儲蓄|          所得總額|         Lontitude|            Latitude|\n",
      "+-------+-----------------------------+------+------+------------------+------------------+--------------------+---------------+--------+------------------+------------------+------------------+-----------------+------------+--------------------+-----------------+------------------+------------------+----------------+------------------+-----------------+-----------------+------------------+------------------+------------------+------------------+-----------------+-----------------+------------------+------------------+------------------+------------------+------------------+-----------------+------------------+------------------+------------------+-----------------+------------------+------------------+------------------+-------------------+-------------------+------------------+------------------+------------------+------------------+------------------+------------------+--------------------+\n",
      "|  count|                       121820|121820|121820|            121820|            121820|              121820|         121820|  121820|            121820|            121820|            121820|           121820|      121820|              121820|           121820|            121820|            121820|          121820|            121820|           121820|           121820|            121820|            121820|            121820|            121820|           121820|           121820|            121820|            121820|            121820|            121820|            121820|           121820|            121820|            121820|            121820|           121820|            121820|            121820|            121820|             121820|             121820|            121820|            121820|            121820|            121820|            121820|            121820|              121820|\n",
      "|   mean|                         null|  null|  null| 1052471.433065178|2016.1769578065998|                null|           null|    null|1.4949351502216386|2.3638975537678544|1.4978164505007387|             null|        null| 2.631220807222952E7|42.39872926859287| 605283.7952334896|0.4800361188638976| 9.2995895583648|17.424248891807586|5.116360203579051|37.61614677392875| 6.831078640617304|471.18329502544736|10.784747988835987|283.15049252996226|5.509013298308981|33.05342308323756| 332.7773846659005|3.3032835330815957| 73.05510589394189| 36.50896404531276| 22.32641602364144|7.302569364636349|3.0527007059596127|2.6871285503201445|24.179244435235827|232142.1230914464|110182.67657199147|121959.44651945493|14519.220062387129| 3.0894455754374963| 2.6496629453301397|1710187.6155967822|1411904.0812428172|1145929.8599244787|265973.98073386966|1825575.4051797735| 121.5436021723726|  25.055839344835267|\n",
      "| stddev|                         null|  null|  null|22645.088251089495| 2.271997455794448|                null|           null|    null|0.8196334176380499|1.6655095743365211|1.1481311053799268|             null|        null|1.0636614562607577E8|129.3228797702195| 665428.3879489581|2.6624120937500635|5.18821193398241|25.684921969547776|2.347885985011106|47.50310086603552|3.9716133921811134| 213.7515517456578|3.1203693630688054|122.92593479061377|2.313648014464394|8.779474784367439|202.67407687509336|1.8555147264384952|17.586001437890328|25.824138155113335|11.918720813814133|2.861259621426815| 2.576153059769747|2.3977958859656234|18.391385749599763|52951.88919389231| 24791.49024216825|28272.962531669193| 7479.249368064973|0.14977096796797715|0.11766782347955065|131161.26758574133|102316.01916998049| 86002.18826328592|51400.391331876104|150926.45135918664|0.0313939955632067|0.036468778555014555|\n",
      "|    min|     臺北市中山區一江街1~30號|中山區|一壽街|                 1|              1911|                建物|土地0建物0車位0|住宅大樓|                 0|                 0|                 0|               有|          有|                 0.0|         0.003025|               0.0|                 0|               0|                 0|                1|                0|                 1|               240|                 4|               118|                1|               18|                83|                 0|                35|                 3|                 2|                0|                 0|                 0|            5.6815|           119036|             58064|             60972|              4410|               2.83|               2.39|           1492804|           1234736|           1010475|            165349|           1572599|        121.464129|          24.9588245|\n",
      "|    max|臺北市萬華區齊東街82巷31~60號|萬華區|龍泉街|           1090716|              2020|房地(土地+建物)+車位|土地9建物2車位1|  透天厝|                80|               168|               174|               無|          無|     2.7033999999E10|     20910.472825|2.07225807428571E8|               439|              42|                77|                9|              132|                16|               904|                17|               578|                9|               58|               862|                 6|                98|                80|                42|               11|                 8|                 9|           62.3682|           303209|            141137|            162072|             26688|                3.3|               2.82|           1961348|           1590202|           1299939|            338391|           2109095|       121.6242235|          25.1707585|\n",
      "+-------+-----------------------------+------+------+------------------+------------------+--------------------+---------------+--------+------------------+------------------+------------------+-----------------+------------+--------------------+-----------------+------------------+------------------+----------------+------------------+-----------------+-----------------+------------------+------------------+------------------+------------------+-----------------+-----------------+------------------+------------------+------------------+------------------+------------------+-----------------+------------------+------------------+------------------+-----------------+------------------+------------------+------------------+-------------------+-------------------+------------------+------------------+------------------+------------------+------------------+------------------+--------------------+\n",
      "\n",
      "CPU times: user 741 µs, sys: 2.93 ms, total: 3.67 ms\n",
      "Wall time: 9.78 s\n"
     ]
    }
   ],
   "source": [
    "%%time\n",
    "df.describe().show()"
   ]
  },
  {
   "cell_type": "code",
   "execution_count": 8,
   "metadata": {},
   "outputs": [
    {
     "name": "stdout",
     "output_type": "stream",
     "text": [
      "root\n",
      " |-- Address: string (nullable = true)\n",
      " |-- Area: string (nullable = true)\n",
      " |-- St: string (nullable = true)\n",
      " |-- 交易年月日: integer (nullable = true)\n",
      " |-- year: integer (nullable = true)\n",
      " |-- 交易標的: string (nullable = true)\n",
      " |-- 交易筆棟數: string (nullable = true)\n",
      " |-- 建物型態: string (nullable = true)\n",
      " |-- 建物現況格局.廳: integer (nullable = true)\n",
      " |-- 建物現況格局.房: integer (nullable = true)\n",
      " |-- 建物現況格局.衛: integer (nullable = true)\n",
      " |-- 建物現況格局.隔間: string (nullable = true)\n",
      " |-- 有無管理組織: string (nullable = true)\n",
      " |-- 總價元: double (nullable = true)\n",
      " |-- 總坪數: double (nullable = true)\n",
      " |-- 單價元坪: double (nullable = true)\n",
      " |-- 車位數: integer (nullable = true)\n",
      " |-- floor: integer (nullable = true)\n",
      " |-- EightCount: integer (nullable = true)\n",
      " |-- ParkCount: integer (nullable = true)\n",
      " |-- FuneralCount: integer (nullable = true)\n",
      " |-- GasCount: integer (nullable = true)\n",
      " |-- CrimeCount: integer (nullable = true)\n",
      " |-- PoliceCount: integer (nullable = true)\n",
      " |-- busCount: integer (nullable = true)\n",
      " |-- subwayCount: integer (nullable = true)\n",
      " |-- govCount: integer (nullable = true)\n",
      " |-- clinicCount: integer (nullable = true)\n",
      " |-- hospitalCount: integer (nullable = true)\n",
      " |-- pharmacyCount: integer (nullable = true)\n",
      " |-- fireareaCount: integer (nullable = true)\n",
      " |-- firewayCount: integer (nullable = true)\n",
      " |-- martCount: integer (nullable = true)\n",
      " |-- mallCount: integer (nullable = true)\n",
      " |-- cinemaCount: integer (nullable = true)\n",
      " |-- 土地面積: double (nullable = true)\n",
      " |-- 總人口數: integer (nullable = true)\n",
      " |-- 男性人數: integer (nullable = true)\n",
      " |-- 女性人數: integer (nullable = true)\n",
      " |-- 人口密度: integer (nullable = true)\n",
      " |-- 每戶人數: double (nullable = true)\n",
      " |-- 每戶成年人數: double (nullable = true)\n",
      " |-- 所得收入總計: integer (nullable = true)\n",
      " |-- 可支配所得: integer (nullable = true)\n",
      " |-- 消費支出: integer (nullable = true)\n",
      " |-- 儲蓄: integer (nullable = true)\n",
      " |-- 所得總額: integer (nullable = true)\n",
      " |-- Lontitude: double (nullable = true)\n",
      " |-- Latitude: double (nullable = true)\n",
      "\n",
      "CPU times: user 317 µs, sys: 1.27 ms, total: 1.58 ms\n",
      "Wall time: 2.89 ms\n"
     ]
    }
   ],
   "source": [
    "%%time\n",
    "df.printSchema()"
   ]
  },
  {
   "cell_type": "code",
   "execution_count": 9,
   "metadata": {},
   "outputs": [
    {
     "data": {
      "text/plain": [
       "DataFrame[Address: string, Area: string, St: string, 交易年月日: int, year: int, 交易標的: string, 交易筆棟數: string, 建物型態: string, 廳數: int, 房數: int, 衛數: int, 隔間數: string, 有無管理組織: string, 總價元: double, 總坪數: double, unitPrice: double, 車位數: int, floor: int, EightCount: int, ParkCount: int, FuneralCount: int, GasCount: int, CrimeCount: int, PoliceCount: int, busCount: int, subwayCount: int, govCount: int, clinicCount: int, hospitalCount: int, pharmacyCount: int, fireareaCount: int, firewayCount: int, martCount: int, mallCount: int, cinemaCount: int, 土地面積: double, 總人口數: int, 男性人數: int, 女性人數: int, 人口密度: int, 每戶人數: double, 每戶成年人數: double, 所得收入總計: int, 可支配所得: int, 消費支出: int, 儲蓄: int, 所得總額: int, Lontitude: double, Latitude: double]"
      ]
     },
     "execution_count": 9,
     "metadata": {},
     "output_type": "execute_result"
    }
   ],
   "source": [
    "# 句點會造成AnalysisException，所以要修改欄位名稱\n",
    "# table.columns，如果欄位名稱是中文也會導致AnalysisException\n",
    "dfDrop = df\n",
    "dfDrop = dfDrop.withColumnRenamed(\"建物現況格局.廳\",\"廳數\")\n",
    "dfDrop = dfDrop.withColumnRenamed(\"建物現況格局.房\",\"房數\")\n",
    "dfDrop = dfDrop.withColumnRenamed(\"建物現況格局.衛\",\"衛數\")\n",
    "dfDrop = dfDrop.withColumnRenamed(\"建物現況格局.隔間\",\"隔間數\")\n",
    "dfDrop = dfDrop.withColumnRenamed(\"單價元坪\",\"unitPrice\")\n",
    "\n",
    "dfDrop"
   ]
  },
  {
   "cell_type": "code",
   "execution_count": 10,
   "metadata": {
    "id": "_HP6X1iBhXyC",
    "outputId": "4e5c5cdc-3524-4482-a370-9572d4cb7c44"
   },
   "outputs": [
    {
     "name": "stdout",
     "output_type": "stream",
     "text": [
      "+----+----+----+----------------+-----+---------+--------+--------+-------------+------------+---------+--------+--------+\n",
      "|廳數|房數|衛數|       unitPrice|floor|ParkCount|GasCount|govCount|hospitalCount|firewayCount|martCount|每戶人數|所得總額|\n",
      "+----+----+----+----------------+-----+---------+--------+--------+-------------+------------+---------+--------+--------+\n",
      "|   2|   5|   3|246580.260178484|    7|        8|       7|      33|            4|          18|       11|    2.89| 1720988|\n",
      "|   2|   2|   2|713658.438145298|    7|        8|       7|      33|            4|          18|       11|    2.89| 1720988|\n",
      "|   0|   0|   0|262043.416225031|    7|        8|       7|      33|            4|          18|       11|    2.89| 1720988|\n",
      "|   1|   1|   1|743902.890773758|    7|        8|       7|      33|            4|          18|       11|    2.89| 1720988|\n",
      "|   0|   0|   0| 1343112.5819135|    5|        8|       7|      33|            4|          18|       11|    2.89| 1720988|\n",
      "|   1|   1|   1|709845.785774059|    7|        8|       7|      33|            4|          18|       11|    2.89| 1720988|\n",
      "|   2|   4|   2|849122.942206655|   11|        8|       7|      33|            4|          18|       11|    2.89| 1720988|\n",
      "|   2|   4|   2|190912.323582579|   11|        8|       7|      33|            4|          18|       11|    2.89| 1720988|\n",
      "|   2|   3|   2|636806.518723994|    7|        8|       7|      33|            4|          18|       11|    2.89| 1720988|\n",
      "|   0|   0|   0|1843904.60526316|    7|        8|       7|      33|            4|          18|       11|    2.89| 1720988|\n",
      "|   2|   4|   2|782834.297812279|   11|        8|       7|      33|            4|          18|       11|    2.89| 1720988|\n",
      "|   2|   3|   1|700241.231527094|    7|        8|       7|      33|            4|          18|       11|    2.89| 1720988|\n",
      "|   0|   0|   0|490958.910891089|    7|        8|       7|      33|            4|          18|       11|    2.89| 1720988|\n",
      "|   1|   1|   1|437336.138084633|    7|        8|       7|      33|            4|          18|       11|    2.89| 1720988|\n",
      "|   2|   2|   2|1599057.38940204|    5|        8|       7|      33|            4|          18|       11|    2.89| 1720988|\n",
      "|   1|   1|   1|483610.646002317|    7|        8|       7|      33|            4|          18|       11|    2.89| 1720988|\n",
      "|   1|   1|   1|479778.371681416|    7|        8|       7|      33|            4|          18|       11|    2.89| 1720988|\n",
      "|   2|   4|   3| 573314.55026455|    7|        8|       7|      33|            4|          18|       11|    2.89| 1720988|\n",
      "|   1|   1|   1|557896.440625959|    7|        8|       7|      33|            4|          18|       11|    2.89| 1720988|\n",
      "|   1|   1|   1|407746.557437408|    7|        8|       7|      33|            4|          18|       11|    2.89| 1720988|\n",
      "+----+----+----+----------------+-----+---------+--------+--------+-------------+------------+---------+--------+--------+\n",
      "only showing top 20 rows\n",
      "\n"
     ]
    }
   ],
   "source": [
    "dfDrop2 = dfDrop.select(\"廳數\",\"房數\",\"衛數\",\"unitPrice\",\"floor\",\"ParkCount\",\"GasCount\",\"govCount\",\"hospitalCount\",\"firewayCount\",\"martCount\",\"每戶人數\",\"所得總額\")\n",
    "dfDrop2.show()"
   ]
  },
  {
   "cell_type": "code",
   "execution_count": 11,
   "metadata": {},
   "outputs": [],
   "source": [
    "yDf = dfDrop2.select(\"unitPrice\")\n",
    "xDf = dfDrop2.select(\"廳數\",\"房數\",\"衛數\",\"floor\",\"ParkCount\",\"GasCount\",\"govCount\",\"hospitalCount\",\"firewayCount\",\"martCount\",\"每戶人數\",\"所得總額\")"
   ]
  },
  {
   "cell_type": "markdown",
   "metadata": {
    "id": "flpmUFbuhXyD"
   },
   "source": [
    "# Train and Test Data"
   ]
  },
  {
   "cell_type": "code",
   "execution_count": 12,
   "metadata": {},
   "outputs": [
    {
     "data": {
      "text/plain": [
       "['廳數',\n",
       " '房數',\n",
       " '衛數',\n",
       " 'floor',\n",
       " 'ParkCount',\n",
       " 'GasCount',\n",
       " 'govCount',\n",
       " 'hospitalCount',\n",
       " 'firewayCount',\n",
       " 'martCount',\n",
       " '每戶人數',\n",
       " '所得總額']"
      ]
     },
     "execution_count": 12,
     "metadata": {},
     "output_type": "execute_result"
    }
   ],
   "source": [
    "dfDrop2.columns\n",
    "xDf.columns"
   ]
  },
  {
   "cell_type": "code",
   "execution_count": 13,
   "metadata": {},
   "outputs": [],
   "source": [
    "# vectorize all numerical columns into a single feature column\n",
    "feature_cols = xDf.columns\n",
    "assembler = VectorAssembler(inputCols=feature_cols, outputCol='features')\n",
    "dfDrop2 = assembler.transform(dfDrop2)"
   ]
  },
  {
   "cell_type": "markdown",
   "metadata": {},
   "source": [
    "# convert text labels into indices\n",
    "data = dfDrop2.select(['features', '單價元坪'])\n",
    "label_indexer = StringIndexer(inputCol='單價元坪', outputCol='label').fit(data)\n",
    "data = label_indexer.transform(data)"
   ]
  },
  {
   "cell_type": "code",
   "execution_count": 14,
   "metadata": {},
   "outputs": [
    {
     "name": "stdout",
     "output_type": "stream",
     "text": [
      "root\n",
      " |-- 廳數: integer (nullable = true)\n",
      " |-- 房數: integer (nullable = true)\n",
      " |-- 衛數: integer (nullable = true)\n",
      " |-- unitPrice: double (nullable = true)\n",
      " |-- floor: integer (nullable = true)\n",
      " |-- ParkCount: integer (nullable = true)\n",
      " |-- GasCount: integer (nullable = true)\n",
      " |-- govCount: integer (nullable = true)\n",
      " |-- hospitalCount: integer (nullable = true)\n",
      " |-- firewayCount: integer (nullable = true)\n",
      " |-- martCount: integer (nullable = true)\n",
      " |-- 每戶人數: double (nullable = true)\n",
      " |-- 所得總額: integer (nullable = true)\n",
      " |-- features: vector (nullable = true)\n",
      "\n"
     ]
    }
   ],
   "source": [
    "# validate the presence of dense vectors \n",
    "dfDrop2.printSchema()"
   ]
  },
  {
   "cell_type": "code",
   "execution_count": 15,
   "metadata": {},
   "outputs": [
    {
     "name": "stdout",
     "output_type": "stream",
     "text": [
      "+-----------------------------------------------------------+\n",
      "|features                                                   |\n",
      "+-----------------------------------------------------------+\n",
      "|[2.0,5.0,3.0,7.0,8.0,7.0,33.0,4.0,18.0,11.0,2.89,1720988.0]|\n",
      "|[2.0,2.0,2.0,7.0,8.0,7.0,33.0,4.0,18.0,11.0,2.89,1720988.0]|\n",
      "|[0.0,0.0,0.0,7.0,8.0,7.0,33.0,4.0,18.0,11.0,2.89,1720988.0]|\n",
      "|[1.0,1.0,1.0,7.0,8.0,7.0,33.0,4.0,18.0,11.0,2.89,1720988.0]|\n",
      "|[0.0,0.0,0.0,5.0,8.0,7.0,33.0,4.0,18.0,11.0,2.89,1720988.0]|\n",
      "+-----------------------------------------------------------+\n",
      "only showing top 5 rows\n",
      "\n"
     ]
    }
   ],
   "source": [
    "# view the details of dense vector\n",
    "dfDrop2.select('features').show(5,False)"
   ]
  },
  {
   "cell_type": "code",
   "execution_count": 16,
   "metadata": {},
   "outputs": [
    {
     "name": "stdout",
     "output_type": "stream",
     "text": [
      "+--------------------+----------------+\n",
      "|            features|       unitPrice|\n",
      "+--------------------+----------------+\n",
      "|[2.0,5.0,3.0,7.0,...|246580.260178484|\n",
      "|[2.0,2.0,2.0,7.0,...|713658.438145298|\n",
      "|[0.0,0.0,0.0,7.0,...|262043.416225031|\n",
      "|[1.0,1.0,1.0,7.0,...|743902.890773758|\n",
      "|[0.0,0.0,0.0,5.0,...| 1343112.5819135|\n",
      "|[1.0,1.0,1.0,7.0,...|709845.785774059|\n",
      "|[2.0,4.0,2.0,11.0...|849122.942206655|\n",
      "|[2.0,4.0,2.0,11.0...|190912.323582579|\n",
      "|[2.0,3.0,2.0,7.0,...|636806.518723994|\n",
      "|[0.0,0.0,0.0,7.0,...|1843904.60526316|\n",
      "+--------------------+----------------+\n",
      "only showing top 10 rows\n",
      "\n"
     ]
    }
   ],
   "source": [
    "# only select the features and label column\n",
    "data = dfDrop2.select(['features', 'unitPrice'])\n",
    "data.show(10)"
   ]
  },
  {
   "cell_type": "code",
   "execution_count": 17,
   "metadata": {},
   "outputs": [
    {
     "data": {
      "text/plain": [
       "(121820, 2)"
      ]
     },
     "execution_count": 17,
     "metadata": {},
     "output_type": "execute_result"
    }
   ],
   "source": [
    "# size of model df\n",
    "data.count(), len(data.columns)"
   ]
  },
  {
   "cell_type": "code",
   "execution_count": 18,
   "metadata": {},
   "outputs": [],
   "source": [
    "# use Logistic Regression to train on the training set\n",
    "train, test = data.randomSplit([0.80, 0.20], seed=40)"
   ]
  },
  {
   "cell_type": "code",
   "execution_count": 19,
   "metadata": {},
   "outputs": [
    {
     "data": {
      "text/plain": [
       "(97325, 2)"
      ]
     },
     "execution_count": 19,
     "metadata": {},
     "output_type": "execute_result"
    }
   ],
   "source": [
    "train.count(), len(train.columns)"
   ]
  },
  {
   "cell_type": "code",
   "execution_count": 20,
   "metadata": {},
   "outputs": [
    {
     "data": {
      "text/plain": [
       "(24495, 2)"
      ]
     },
     "execution_count": 20,
     "metadata": {},
     "output_type": "execute_result"
    }
   ],
   "source": [
    "test.count(), len(test.columns)"
   ]
  },
  {
   "cell_type": "markdown",
   "metadata": {
    "id": "1mfyUUHihXyE"
   },
   "source": [
    "# Regression Model"
   ]
  },
  {
   "cell_type": "markdown",
   "metadata": {
    "id": "VADwIoebhXyE"
   },
   "source": [
    "## Linear Regression"
   ]
  },
  {
   "cell_type": "code",
   "execution_count": 21,
   "metadata": {},
   "outputs": [],
   "source": [
    "# Build Linear Regression model \n",
    "from pyspark.ml.regression import LinearRegression\n",
    "lin_Reg=LinearRegression(labelCol='unitPrice')"
   ]
  },
  {
   "cell_type": "code",
   "execution_count": 22,
   "metadata": {},
   "outputs": [
    {
     "name": "stdout",
     "output_type": "stream",
     "text": [
      "CPU times: user 0 ns, sys: 9.13 ms, total: 9.13 ms\n",
      "Wall time: 2.95 s\n"
     ]
    },
    {
     "data": {
      "text/plain": [
       "LinearRegressionModel: uid=LinearRegression_124adc01ff7a, numFeatures=12"
      ]
     },
     "execution_count": 22,
     "metadata": {},
     "output_type": "execute_result"
    }
   ],
   "source": [
    "%%time\n",
    "# fit the linear regression model on training data set \n",
    "lr_model=lin_Reg.fit(train)\n",
    "lr_model"
   ]
  },
  {
   "cell_type": "code",
   "execution_count": 23,
   "metadata": {},
   "outputs": [
    {
     "data": {
      "text/plain": [
       "624414.5378985564"
      ]
     },
     "execution_count": 23,
     "metadata": {},
     "output_type": "execute_result"
    }
   ],
   "source": [
    "lr_model.intercept"
   ]
  },
  {
   "cell_type": "code",
   "execution_count": 24,
   "metadata": {},
   "outputs": [
    {
     "data": {
      "text/plain": [
       "DenseVector([-17688.0852, -28887.8065, 27288.1996, 5439.9844, 5116.7124, -4057.657, -1530.4889, 2652.8833, 28.4652, 579.8327, -400740.8756, 0.6911])"
      ]
     },
     "execution_count": 24,
     "metadata": {},
     "output_type": "execute_result"
    }
   ],
   "source": [
    "lr_model.coefficients"
   ]
  },
  {
   "cell_type": "code",
   "execution_count": 25,
   "metadata": {},
   "outputs": [
    {
     "data": {
      "text/plain": [
       "<pyspark.ml.regression.LinearRegressionSummary at 0x7f54c80f60d0>"
      ]
     },
     "execution_count": 25,
     "metadata": {},
     "output_type": "execute_result"
    }
   ],
   "source": [
    "training_predictions=lr_model.evaluate(train)\n",
    "training_predictions"
   ]
  },
  {
   "cell_type": "code",
   "execution_count": 26,
   "metadata": {},
   "outputs": [
    {
     "name": "stdout",
     "output_type": "stream",
     "text": [
      "MSE:\t 513629190518.81384\n",
      "RMSE:\t 716679.2800959253\n",
      "R2:\t 0.03170599571459565\n"
     ]
    }
   ],
   "source": [
    "print('MSE:\\t',training_predictions.meanSquaredError)\n",
    "print('RMSE:\\t',training_predictions.meanSquaredError ** 0.5)\n",
    "print('R2:\\t',training_predictions.r2)"
   ]
  },
  {
   "cell_type": "code",
   "execution_count": 27,
   "metadata": {},
   "outputs": [
    {
     "data": {
      "text/plain": [
       "DataFrame[features: vector, unitPrice: double]"
      ]
     },
     "execution_count": 27,
     "metadata": {},
     "output_type": "execute_result"
    }
   ],
   "source": [
    "data"
   ]
  },
  {
   "cell_type": "code",
   "execution_count": 28,
   "metadata": {},
   "outputs": [
    {
     "data": {
      "text/plain": [
       "DataFrame[features: vector]"
      ]
     },
     "execution_count": 28,
     "metadata": {},
     "output_type": "execute_result"
    }
   ],
   "source": [
    "data.select('features')"
   ]
  },
  {
   "cell_type": "code",
   "execution_count": 29,
   "metadata": {},
   "outputs": [],
   "source": [
    "lr_predictions = lr_model.transform(test)"
   ]
  },
  {
   "cell_type": "code",
   "execution_count": 30,
   "metadata": {},
   "outputs": [
    {
     "name": "stdout",
     "output_type": "stream",
     "text": [
      "+--------------------+------------------+\n",
      "|            features|         unitPrice|\n",
      "+--------------------+------------------+\n",
      "|[0.0,0.0,0.0,0.0,...|  621318.992307692|\n",
      "|[0.0,0.0,0.0,0.0,...|          826447.5|\n",
      "|[0.0,0.0,0.0,0.0,...|  1845231.87272727|\n",
      "|[0.0,0.0,0.0,0.0,...|  1890255.12763354|\n",
      "|[0.0,0.0,0.0,0.0,...|  2003509.09090909|\n",
      "|[0.0,0.0,0.0,0.0,...|  3138093.67718639|\n",
      "|[0.0,0.0,0.0,0.0,...|  1233039.17762504|\n",
      "|[0.0,0.0,0.0,0.0,...|         4671225.0|\n",
      "|[0.0,0.0,0.0,1.0,...|  1289.66622222222|\n",
      "|[0.0,0.0,0.0,1.0,...|  4048094.80770616|\n",
      "|[0.0,0.0,0.0,1.0,...|  4247479.18326693|\n",
      "|[0.0,0.0,0.0,1.0,...|  2310873.73189401|\n",
      "|[0.0,0.0,0.0,1.0,...|  3392120.06651885|\n",
      "|[0.0,0.0,0.0,1.0,...|1.61050667481989E7|\n",
      "|[0.0,0.0,0.0,2.0,...|  1800113.59223301|\n",
      "|[0.0,0.0,0.0,2.0,...|  263147.462686567|\n",
      "|[0.0,0.0,0.0,2.0,...|  633293.103448276|\n",
      "|[0.0,0.0,0.0,2.0,...|  748763.306908267|\n",
      "|[0.0,0.0,0.0,2.0,...|  948738.438072471|\n",
      "|[0.0,0.0,0.0,2.0,...|  282235.164802475|\n",
      "+--------------------+------------------+\n",
      "only showing top 20 rows\n",
      "\n"
     ]
    },
    {
     "data": {
      "text/plain": [
       "24495"
      ]
     },
     "execution_count": 30,
     "metadata": {},
     "output_type": "execute_result"
    }
   ],
   "source": [
    "test.show()\n",
    "test.count()"
   ]
  },
  {
   "cell_type": "code",
   "execution_count": 31,
   "metadata": {},
   "outputs": [
    {
     "name": "stdout",
     "output_type": "stream",
     "text": [
      "+------------------+------------------+--------------------+\n",
      "|        prediction|         unitPrice|            features|\n",
      "+------------------+------------------+--------------------+\n",
      "|478902.89242850046|  621318.992307692|[0.0,0.0,0.0,0.0,...|\n",
      "|478902.89242850046|          826447.5|[0.0,0.0,0.0,0.0,...|\n",
      "|478902.89242850046|  1845231.87272727|[0.0,0.0,0.0,0.0,...|\n",
      "|478902.89242850046|  1890255.12763354|[0.0,0.0,0.0,0.0,...|\n",
      "|478902.89242850046|  2003509.09090909|[0.0,0.0,0.0,0.0,...|\n",
      "|478902.89242850046|  3138093.67718639|[0.0,0.0,0.0,0.0,...|\n",
      "| 580648.2882496977|  1233039.17762504|[0.0,0.0,0.0,0.0,...|\n",
      "| 580648.2882496977|         4671225.0|[0.0,0.0,0.0,0.0,...|\n",
      "|  752175.547722879|  1289.66622222222|[0.0,0.0,0.0,1.0,...|\n",
      "|  484342.876838517|  4048094.80770616|[0.0,0.0,0.0,1.0,...|\n",
      "|  484342.876838517|  4247479.18326693|[0.0,0.0,0.0,1.0,...|\n",
      "| 640619.6161194312|  2310873.73189401|[0.0,0.0,0.0,1.0,...|\n",
      "| 640619.6161194312|  3392120.06651885|[0.0,0.0,0.0,1.0,...|\n",
      "| 640619.6161194312|1.61050667481989E7|[0.0,0.0,0.0,1.0,...|\n",
      "| 757615.5321328955|  1800113.59223301|[0.0,0.0,0.0,2.0,...|\n",
      "|  709860.935714221|  263147.462686567|[0.0,0.0,0.0,2.0,...|\n",
      "|  709860.935714221|  633293.103448276|[0.0,0.0,0.0,2.0,...|\n",
      "|  709860.935714221|  748763.306908267|[0.0,0.0,0.0,2.0,...|\n",
      "| 534195.9451049819|  948738.438072471|[0.0,0.0,0.0,2.0,...|\n",
      "| 489782.8612485336|  282235.164802475|[0.0,0.0,0.0,2.0,...|\n",
      "+------------------+------------------+--------------------+\n",
      "only showing top 20 rows\n",
      "\n"
     ]
    },
    {
     "data": {
      "text/plain": [
       "24495"
      ]
     },
     "execution_count": 31,
     "metadata": {},
     "output_type": "execute_result"
    }
   ],
   "source": [
    "lr_predictions.select(\"prediction\", \"unitPrice\", \"features\").show()\n",
    "lr_predictions.select(\"prediction\", \"unitPrice\", \"features\").count()"
   ]
  },
  {
   "cell_type": "markdown",
   "metadata": {
    "id": "n3gJhMvahXyL"
   },
   "source": [
    "# Predict"
   ]
  },
  {
   "cell_type": "code",
   "execution_count": 32,
   "metadata": {},
   "outputs": [
    {
     "name": "stdout",
     "output_type": "stream",
     "text": [
      "+--------------------+----------------+\n",
      "|            features|       unitPrice|\n",
      "+--------------------+----------------+\n",
      "|[2.0,5.0,3.0,7.0,...|246580.260178484|\n",
      "|[2.0,2.0,2.0,7.0,...|713658.438145298|\n",
      "|[0.0,0.0,0.0,7.0,...|262043.416225031|\n",
      "|[1.0,1.0,1.0,7.0,...|743902.890773758|\n",
      "|[0.0,0.0,0.0,5.0,...| 1343112.5819135|\n",
      "|[1.0,1.0,1.0,7.0,...|709845.785774059|\n",
      "|[2.0,4.0,2.0,11.0...|849122.942206655|\n",
      "|[2.0,4.0,2.0,11.0...|190912.323582579|\n",
      "|[2.0,3.0,2.0,7.0,...|636806.518723994|\n",
      "|[0.0,0.0,0.0,7.0,...|1843904.60526316|\n",
      "|[2.0,4.0,2.0,11.0...|782834.297812279|\n",
      "|[2.0,3.0,1.0,7.0,...|700241.231527094|\n",
      "|[0.0,0.0,0.0,7.0,...|490958.910891089|\n",
      "|[1.0,1.0,1.0,7.0,...|437336.138084633|\n",
      "|[2.0,2.0,2.0,5.0,...|1599057.38940204|\n",
      "|[1.0,1.0,1.0,7.0,...|483610.646002317|\n",
      "|[1.0,1.0,1.0,7.0,...|479778.371681416|\n",
      "|[2.0,4.0,3.0,7.0,...| 573314.55026455|\n",
      "|[1.0,1.0,1.0,7.0,...|557896.440625959|\n",
      "|[1.0,1.0,1.0,7.0,...|407746.557437408|\n",
      "+--------------------+----------------+\n",
      "only showing top 20 rows\n",
      "\n"
     ]
    }
   ],
   "source": [
    "data.show()"
   ]
  },
  {
   "cell_type": "code",
   "execution_count": 33,
   "metadata": {
    "id": "v4xut24vhXyM"
   },
   "outputs": [
    {
     "name": "stdout",
     "output_type": "stream",
     "text": [
      "+--------------------+----------------+-----------------+\n",
      "|            features|       unitPrice|       prediction|\n",
      "+--------------------+----------------+-----------------+\n",
      "|[2.0,5.0,3.0,7.0,...|246580.260178484|575308.9187140829|\n",
      "|[2.0,2.0,2.0,7.0,...|713658.438145298|634684.1384578639|\n",
      "|[0.0,0.0,0.0,7.0,...|262043.416225031|673259.5225795308|\n",
      "|[1.0,1.0,1.0,7.0,...|743902.890773758|653971.8305186973|\n",
      "|[0.0,0.0,0.0,5.0,...| 1343112.5819135|662379.5537594975|\n",
      "|[1.0,1.0,1.0,7.0,...|709845.785774059|653971.8305186973|\n",
      "|[2.0,4.0,2.0,11.0...|849122.942206655| 598668.463186538|\n",
      "|[2.0,4.0,2.0,11.0...|190912.323582579| 598668.463186538|\n",
      "|[2.0,3.0,2.0,7.0,...|636806.518723994|605796.3320021677|\n",
      "|[0.0,0.0,0.0,7.0,...|1843904.60526316|673259.5225795308|\n",
      "|[2.0,4.0,2.0,11.0...|782834.297812279| 598668.463186538|\n",
      "|[2.0,3.0,1.0,7.0,...|700241.231527094|578508.1323788603|\n",
      "|[0.0,0.0,0.0,7.0,...|490958.910891089|673259.5225795308|\n",
      "|[1.0,1.0,1.0,7.0,...|437336.138084633|653971.8305186973|\n",
      "|[2.0,2.0,2.0,5.0,...|1599057.38940204|623804.1696378306|\n",
      "|[1.0,1.0,1.0,7.0,...|483610.646002317|653971.8305186973|\n",
      "|[1.0,1.0,1.0,7.0,...|479778.371681416|653971.8305186973|\n",
      "|[2.0,4.0,3.0,7.0,...| 573314.55026455|604196.7251697789|\n",
      "|[1.0,1.0,1.0,7.0,...|557896.440625959|653971.8305186973|\n",
      "|[1.0,1.0,1.0,7.0,...|407746.557437408|653971.8305186973|\n",
      "+--------------------+----------------+-----------------+\n",
      "only showing top 20 rows\n",
      "\n"
     ]
    },
    {
     "data": {
      "text/plain": [
       "pyspark.sql.dataframe.DataFrame"
      ]
     },
     "execution_count": 33,
     "metadata": {},
     "output_type": "execute_result"
    }
   ],
   "source": [
    "# yPred = stack.predict(xDf)\n",
    "yPred = lr_model.transform(data)\n",
    "yPred.show()\n",
    "type(yPred)"
   ]
  },
  {
   "cell_type": "code",
   "execution_count": 34,
   "metadata": {},
   "outputs": [],
   "source": [
    "dfNew = dfDrop.withColumnRenamed('unitPrice','unitPriceOrigin')"
   ]
  },
  {
   "cell_type": "code",
   "execution_count": 35,
   "metadata": {},
   "outputs": [],
   "source": [
    "from pyspark.sql import SQLContext"
   ]
  },
  {
   "cell_type": "code",
   "execution_count": 36,
   "metadata": {
    "id": "A5YoiESKhXyM",
    "outputId": "28577c3a-077e-4350-f1a3-8fa98cad9395",
    "scrolled": true
   },
   "outputs": [
    {
     "name": "stdout",
     "output_type": "stream",
     "text": [
      "+-------------------------+------+------+----------+----+--------------------+---------------+--------+----+----+----+------+------------+-----------+---------+----------------+------+-----+----------+---------+------------+--------+----------+-----------+--------+-----------+--------+-----------+-------------+-------------+-------------+------------+---------+---------+-----------+--------+--------+--------+--------+--------+--------+------------+------------+----------+--------+------+--------+-----------+----------+--------------------+----------------+------------------+\n",
      "|                  Address|  Area|    St|交易年月日|year|            交易標的|     交易筆棟數|建物型態|廳數|房數|衛數|隔間數|有無管理組織|     總價元|   總坪數| unitPriceOrigin|車位數|floor|EightCount|ParkCount|FuneralCount|GasCount|CrimeCount|PoliceCount|busCount|subwayCount|govCount|clinicCount|hospitalCount|pharmacyCount|fireareaCount|firewayCount|martCount|mallCount|cinemaCount|土地面積|總人口數|男性人數|女性人數|人口密度|每戶人數|每戶成年人數|所得收入總計|可支配所得|消費支出|  儲蓄|所得總額|  Lontitude|  Latitude|            features|       unitPrice|        prediction|\n",
      "+-------------------------+------+------+----------+----+--------------------+---------------+--------+----+----+----+------+------------+-----------+---------+----------------+------+-----+----------+---------+------------+--------+----------+-----------+--------+-----------+--------+-----------+-------------+-------------+-------------+------------+---------+---------+-----------+--------+--------+--------+--------+--------+--------+------------+------------+----------+--------+------+--------+-----------+----------+--------------------+----------------+------------------+\n",
      "| 臺北市中山區一江街1~30號|中山區|一江街|   1041208|2015|     房地(土地+建物)|土地1建物1車位0|    華廈|   2|   5|   3|    有|          無|     1.68E7|68.132075|246580.260178484|     0|    7|        77|        8|         132|       7|       904|         13|     280|          8|      33|        486|            4|           98|           80|          18|       11|        6|          5| 13.6821|  224707|  104138|  120569|   16423|    2.89|        2.51|     1614178|   1339702| 1071429|268273| 1720988|121.5315679|25.0507038|[2.0,5.0,3.0,7.0,...|246580.260178484| 575308.9187140829|\n",
      "| 臺北市中山區一江街1~30號|中山區|一江街|   1080827|2019|     房地(土地+建物)|土地2建物1車位0|    華廈|   2|   2|   2|    有|          無|      2.3E7| 32.22835|713658.438145298|     0|    7|        77|        8|         132|       7|       904|         13|     280|          8|      33|        486|            4|           98|           80|          18|       11|        6|          5| 13.6821|  224707|  104138|  120569|   16423|    2.89|        2.51|     1614178|   1339702| 1071429|268273| 1720988|121.5315679|25.0507038|[2.0,2.0,2.0,7.0,...|713658.438145298| 634684.1384578639|\n",
      "| 臺北市中山區一江街1~30號|中山區|一江街|   1031218|2014|     房地(土地+建物)|土地2建物1車位0|    華廈|   0|   0|   0|    無|          無|     1.75E7|66.782925|262043.416225031|     0|    7|        77|        8|         132|       7|       904|         13|     280|          8|      33|        486|            4|           98|           80|          18|       11|        6|          5| 13.6821|  224707|  104138|  120569|   16423|    2.89|        2.51|     1614178|   1339702| 1071429|268273| 1720988|121.5315679|25.0507038|[0.0,0.0,0.0,7.0,...|262043.416225031| 673259.5225795308|\n",
      "| 臺北市中山區一江街1~30號|中山區|一江街|   1020729|2013|     房地(土地+建物)|土地1建物1車位0|    華廈|   1|   1|   1|    有|          無|      1.3E7|17.475425|743902.890773758|     0|    7|        77|        8|         132|       7|       904|         13|     280|          8|      33|        486|            4|           98|           80|          18|       11|        6|          5| 13.6821|  224707|  104138|  120569|   16423|    2.89|        2.51|     1614178|   1339702| 1071429|268273| 1720988|121.5315679|25.0507038|[1.0,1.0,1.0,7.0,...|743902.890773758| 653971.8305186973|\n",
      "|臺北市中山區一江街31~60號|中山區|一江街|   1041022|2015|     房地(土地+建物)|土地1建物1車位0|    公寓|   0|   0|   0|    無|          無|  9300000.0| 6.924225| 1343112.5819135|     0|    5|        77|        8|         132|       7|       904|         13|     280|          8|      33|        486|            4|           98|           80|          18|       11|        6|          5| 13.6821|  224707|  104138|  120569|   16423|    2.89|        2.51|     1614178|   1339702| 1071429|268273| 1720988|121.5316034|25.0533504|[0.0,0.0,0.0,5.0,...| 1343112.5819135| 662379.5537594975|\n",
      "|臺北市中山區一江街31~60號|中山區|一江街|   1030102|2014|     房地(土地+建物)|土地1建物1車位0|    華廈|   1|   1|   1|    有|          無|    1.283E7|18.074375|709845.785774059|     0|    7|        77|        8|         132|       7|       904|         13|     280|          8|      33|        486|            4|           98|           80|          18|       11|        6|          5| 13.6821|  224707|  104138|  120569|   16423|    2.89|        2.51|     1614178|   1339702| 1071429|268273| 1720988|121.5316034|25.0533504|[1.0,1.0,1.0,7.0,...|709845.785774059| 653971.8305186973|\n",
      "|臺北市中山區一江街31~60號|中山區|一江街|   1061016|2017|房地(土地+建物)+車位|土地1建物1車位1|住宅大樓|   2|   4|   2|    有|          有|     5.72E7|67.363725|849122.942206655|     1|   11|        77|        8|         132|       7|       904|         13|     280|          8|      33|        486|            4|           98|           80|          18|       11|        6|          5| 13.6821|  224707|  104138|  120569|   16423|    2.89|        2.51|     1614178|   1339702| 1071429|268273| 1720988|121.5316034|25.0533504|[2.0,4.0,2.0,11.0...|849122.942206655|  598668.463186538|\n",
      "|臺北市中山區一江街31~60號|中山區|一江街|   1040514|2015|房地(土地+建物)+車位|土地1建物1車位2|住宅大樓|   2|   4|   2|    有|          有|1.6528883E7|86.578525|190912.323582579|     2|   11|        77|        8|         132|       7|       904|         13|     280|          8|      33|        486|            4|           98|           80|          18|       11|        6|          5| 13.6821|  224707|  104138|  120569|   16423|    2.89|        2.51|     1614178|   1339702| 1071429|268273| 1720988|121.5316034|25.0533504|[2.0,4.0,2.0,11.0...|190912.323582579|  598668.463186538|\n",
      "|臺北市中山區一江街31~60號|中山區|一江街|   1090103|2020|     房地(土地+建物)|土地1建物1車位0|    華廈|   2|   3|   2|    有|          有|      2.5E7| 39.25845|636806.518723994|     0|    7|        77|        8|         132|       7|       904|         13|     280|          8|      33|        486|            4|           98|           80|          18|       11|        6|          5| 13.6821|  224707|  104138|  120569|   16423|    2.89|        2.51|     1614178|   1339702| 1071429|268273| 1720988|121.5316034|25.0533504|[2.0,3.0,2.0,7.0,...|636806.518723994| 605796.3320021677|\n",
      "|臺北市中山區一江街31~60號|中山區|一江街|   1040508|2015|     房地(土地+建物)|土地1建物1車位0|    華廈|   0|   0|   0|    無|          無|     1.95E7|  10.5754|1843904.60526316|     0|    7|        77|        8|         132|       7|       904|         13|     280|          8|      33|        486|            4|           98|           80|          18|       11|        6|          5| 13.6821|  224707|  104138|  120569|   16423|    2.89|        2.51|     1614178|   1339702| 1071429|268273| 1720988|121.5316034|25.0533504|[0.0,0.0,0.0,7.0,...|1843904.60526316| 673259.5225795308|\n",
      "|臺北市中山區一江街31~60號|中山區|一江街|   1030413|2014|房地(土地+建物)+車位|土地1建物1車位2|住宅大樓|   2|   4|   2|    有|          有|     6.04E7| 77.15565|782834.297812279|     2|   11|        77|        8|         132|       7|       904|         13|     280|          8|      33|        486|            4|           98|           80|          18|       11|        6|          5| 13.6821|  224707|  104138|  120569|   16423|    2.89|        2.51|     1614178|   1339702| 1071429|268273| 1720988|121.5316034|25.0533504|[2.0,4.0,2.0,11.0...|782834.297812279|  598668.463186538|\n",
      "|臺北市中山區一江街31~60號|中山區|一江街|   1071104|2018|     房地(土地+建物)|土地1建物1車位0|    華廈|   2|   3|   1|    有|          無|     1.29E7| 18.42225|700241.231527094|     0|    7|        77|        8|         132|       7|       904|         13|     280|          8|      33|        486|            4|           98|           80|          18|       11|        6|          5| 13.6821|  224707|  104138|  120569|   16423|    2.89|        2.51|     1614178|   1339702| 1071429|268273| 1720988|121.5316034|25.0533504|[2.0,3.0,1.0,7.0,...|700241.231527094| 578508.1323788603|\n",
      "| 臺北市中山區中原街1~30號|中山區|中原街|   1081111|2019|     房地(土地+建物)|土地1建物1車位0|    華廈|   0|   0|   0|    無|          有|  4500000.0|  9.16575|490958.910891089|     0|    7|        77|        8|         132|       7|       904|         13|     280|          8|      33|        486|            4|           98|           80|          18|       11|        6|          5| 13.6821|  224707|  104138|  120569|   16423|    2.89|        2.51|     1614178|   1339702| 1071429|268273| 1720988|121.5289176|25.0551651|[2.0,3.0,1.0,4.0,...|490958.910891089| 671710.3608635281|\n",
      "| 臺北市中山區中原街1~30號|中山區|中原街|   1081111|2019|     房地(土地+建物)|土地1建物1車位0|    華廈|   0|   0|   0|    無|          有|  4500000.0|  9.16575|490958.910891089|     0|    7|        77|        8|         132|       7|       904|         13|     280|          8|      33|        486|            4|           98|           80|          18|       11|        6|          5| 13.6821|  224707|  104138|  120569|   16423|    2.89|        2.51|     1614178|   1339702| 1071429|268273| 1720988|121.5289176|25.0551651|[2.0,3.0,2.0,5.0,...|490958.910891089| 516002.1982380649|\n",
      "| 臺北市中山區中原街1~30號|中山區|中原街|   1081111|2019|     房地(土地+建物)|土地1建物1車位0|    華廈|   0|   0|   0|    無|          有|  4500000.0|  9.16575|490958.910891089|     0|    7|        77|        8|         132|       7|       904|         13|     280|          8|      33|        486|            4|           98|           80|          18|       11|        6|          5| 13.6821|  224707|  104138|  120569|   16423|    2.89|        2.51|     1614178|   1339702| 1071429|268273| 1720988|121.5289176|25.0551651|[2.0,2.0,2.0,11.0...|490958.910891089|500167.33681701624|\n",
      "| 臺北市中山區中原街1~30號|中山區|中原街|   1081111|2019|     房地(土地+建物)|土地1建物1車位0|    華廈|   0|   0|   0|    無|          有|  4500000.0|  9.16575|490958.910891089|     0|    7|        77|        8|         132|       7|       904|         13|     280|          8|      33|        486|            4|           98|           80|          18|       11|        6|          5| 13.6821|  224707|  104138|  120569|   16423|    2.89|        2.51|     1614178|   1339702| 1071429|268273| 1720988|121.5289176|25.0551651|[2.0,2.0,1.0,5.0,...|490958.910891089| 484652.3145900575|\n",
      "| 臺北市中山區中原街1~30號|中山區|中原街|   1081111|2019|     房地(土地+建物)|土地1建物1車位0|    華廈|   0|   0|   0|    無|          有|  4500000.0|  9.16575|490958.910891089|     0|    7|        77|        8|         132|       7|       904|         13|     280|          8|      33|        486|            4|           98|           80|          18|       11|        6|          5| 13.6821|  224707|  104138|  120569|   16423|    2.89|        2.51|     1614178|   1339702| 1071429|268273| 1720988|121.5289176|25.0551651|[0.0,0.0,0.0,7.0,...|490958.910891089| 673259.5225795308|\n",
      "| 臺北市中山區中原街1~30號|中山區|中原街|   1030107|2014|     房地(土地+建物)|土地1建物1車位0|    套房|   1|   1|   1|    有|          有|  2970000.0| 6.791125|437336.138084633|     0|    7|        77|        8|         132|       7|       904|         13|     280|          8|      33|        486|            4|           98|           80|          18|       11|        6|          5| 13.6821|  224707|  104138|  120569|   16423|    2.89|        2.51|     1614178|   1339702| 1071429|268273| 1720988|121.5289176|25.0551651|[1.0,1.0,1.0,7.0,...|437336.138084633| 653971.8305186973|\n",
      "| 臺北市中山區中原街1~30號|中山區|中原街|   1030825|2014|     房地(土地+建物)|土地1建物1車位0|    店面|   2|   2|   2|    有|          無|     3.98E7|  24.8897|1599057.38940204|     0|    5|        77|        8|         132|       7|       904|         13|     280|          8|      33|        486|            4|           98|           80|          18|       11|        6|          5| 13.6821|  224707|  104138|  120569|   16423|    2.89|        2.51|     1614178|   1339702| 1071429|268273| 1720988|121.5289176|25.0551651|[2.0,2.0,2.0,5.0,...|1599057.38940204| 623804.1696378306|\n",
      "| 臺北市中山區中原街1~30號|中山區|中原街|   1040708|2015|     房地(土地+建物)|土地1建物1車位0|    套房|   1|   1|   1|    有|          有|  5050000.0|  10.4423|483610.646002317|     0|    7|        77|        8|         132|       7|       904|         13|     280|          8|      33|        486|            4|           98|           80|          18|       11|        6|          5| 13.6821|  224707|  104138|  120569|   16423|    2.89|        2.51|     1614178|   1339702| 1071429|268273| 1720988|121.5289176|25.0551651|[1.0,1.0,1.0,7.0,...|483610.646002317| 653971.8305186973|\n",
      "+-------------------------+------+------+----------+----+--------------------+---------------+--------+----+----+----+------+------------+-----------+---------+----------------+------+-----+----------+---------+------------+--------+----------+-----------+--------+-----------+--------+-----------+-------------+-------------+-------------+------------+---------+---------+-----------+--------+--------+--------+--------+--------+--------+------------+------------+----------+--------+------+--------+-----------+----------+--------------------+----------------+------------------+\n",
      "only showing top 20 rows\n",
      "\n"
     ]
    }
   ],
   "source": [
    "result = df\n",
    "\n",
    "SQLContext.registerDataFrameAsTable(dfNew,dfNew,\"X\")\n",
    "SQLContext.registerDataFrameAsTable(yPred, yPred, \"y\")\n",
    "\n",
    "result = spark.sql(\"select * from X join y on X.unitPriceOrigin=y.unitPrice\")\n",
    "result.show()"
   ]
  },
  {
   "cell_type": "code",
   "execution_count": 37,
   "metadata": {},
   "outputs": [
    {
     "name": "stdout",
     "output_type": "stream",
     "text": [
      "+-------------------------+------+------+----------+----+--------------------+---------------+--------+----+----+----+------+------------+-----------+---------+----------------+------+-----+----------+---------+------------+--------+----------+-----------+--------+-----------+--------+-----------+-------------+-------------+-------------+------------+---------+---------+-----------+--------+--------+--------+--------+--------+--------+------------+------------+----------+--------+------+--------+-----------+----------+--------------------+----------------+------------------+----------+\n",
      "|                  Address|  Area|    St|交易年月日|year|            交易標的|     交易筆棟數|建物型態|廳數|房數|衛數|隔間數|有無管理組織|     總價元|   總坪數| unitPriceOrigin|車位數|floor|EightCount|ParkCount|FuneralCount|GasCount|CrimeCount|PoliceCount|busCount|subwayCount|govCount|clinicCount|hospitalCount|pharmacyCount|fireareaCount|firewayCount|martCount|mallCount|cinemaCount|土地面積|總人口數|男性人數|女性人數|人口密度|每戶人數|每戶成年人數|所得收入總計|可支配所得|消費支出|  儲蓄|所得總額|  Lontitude|  Latitude|            features|       unitPrice|        prediction|      漲跌|\n",
      "+-------------------------+------+------+----------+----+--------------------+---------------+--------+----+----+----+------+------------+-----------+---------+----------------+------+-----+----------+---------+------------+--------+----------+-----------+--------+-----------+--------+-----------+-------------+-------------+-------------+------------+---------+---------+-----------+--------+--------+--------+--------+--------+--------+------------+------------+----------+--------+------+--------+-----------+----------+--------------------+----------------+------------------+----------+\n",
      "| 臺北市中山區一江街1~30號|中山區|一江街|   1041208|2015|     房地(土地+建物)|土地1建物1車位0|    華廈|   2|   5|   3|    有|          無|     1.68E7|68.132075|246580.260178484|     0|    7|        77|        8|         132|       7|       904|         13|     280|          8|      33|        486|            4|           98|           80|          18|       11|        6|          5| 13.6821|  224707|  104138|  120569|   16423|    2.89|        2.51|     1614178|   1339702| 1071429|268273| 1720988|121.5315679|25.0507038|[2.0,5.0,3.0,7.0,...|246580.260178484| 575308.9187140829|-328728.66|\n",
      "| 臺北市中山區一江街1~30號|中山區|一江街|   1080827|2019|     房地(土地+建物)|土地2建物1車位0|    華廈|   2|   2|   2|    有|          無|      2.3E7| 32.22835|713658.438145298|     0|    7|        77|        8|         132|       7|       904|         13|     280|          8|      33|        486|            4|           98|           80|          18|       11|        6|          5| 13.6821|  224707|  104138|  120569|   16423|    2.89|        2.51|     1614178|   1339702| 1071429|268273| 1720988|121.5315679|25.0507038|[2.0,2.0,2.0,7.0,...|713658.438145298| 634684.1384578639|   78974.3|\n",
      "| 臺北市中山區一江街1~30號|中山區|一江街|   1031218|2014|     房地(土地+建物)|土地2建物1車位0|    華廈|   0|   0|   0|    無|          無|     1.75E7|66.782925|262043.416225031|     0|    7|        77|        8|         132|       7|       904|         13|     280|          8|      33|        486|            4|           98|           80|          18|       11|        6|          5| 13.6821|  224707|  104138|  120569|   16423|    2.89|        2.51|     1614178|   1339702| 1071429|268273| 1720988|121.5315679|25.0507038|[0.0,0.0,0.0,7.0,...|262043.416225031| 673259.5225795308|-411216.11|\n",
      "| 臺北市中山區一江街1~30號|中山區|一江街|   1020729|2013|     房地(土地+建物)|土地1建物1車位0|    華廈|   1|   1|   1|    有|          無|      1.3E7|17.475425|743902.890773758|     0|    7|        77|        8|         132|       7|       904|         13|     280|          8|      33|        486|            4|           98|           80|          18|       11|        6|          5| 13.6821|  224707|  104138|  120569|   16423|    2.89|        2.51|     1614178|   1339702| 1071429|268273| 1720988|121.5315679|25.0507038|[1.0,1.0,1.0,7.0,...|743902.890773758| 653971.8305186973|  89931.06|\n",
      "|臺北市中山區一江街31~60號|中山區|一江街|   1041022|2015|     房地(土地+建物)|土地1建物1車位0|    公寓|   0|   0|   0|    無|          無|  9300000.0| 6.924225| 1343112.5819135|     0|    5|        77|        8|         132|       7|       904|         13|     280|          8|      33|        486|            4|           98|           80|          18|       11|        6|          5| 13.6821|  224707|  104138|  120569|   16423|    2.89|        2.51|     1614178|   1339702| 1071429|268273| 1720988|121.5316034|25.0533504|[0.0,0.0,0.0,5.0,...| 1343112.5819135| 662379.5537594975| 680733.03|\n",
      "|臺北市中山區一江街31~60號|中山區|一江街|   1030102|2014|     房地(土地+建物)|土地1建物1車位0|    華廈|   1|   1|   1|    有|          無|    1.283E7|18.074375|709845.785774059|     0|    7|        77|        8|         132|       7|       904|         13|     280|          8|      33|        486|            4|           98|           80|          18|       11|        6|          5| 13.6821|  224707|  104138|  120569|   16423|    2.89|        2.51|     1614178|   1339702| 1071429|268273| 1720988|121.5316034|25.0533504|[1.0,1.0,1.0,7.0,...|709845.785774059| 653971.8305186973|  55873.96|\n",
      "|臺北市中山區一江街31~60號|中山區|一江街|   1061016|2017|房地(土地+建物)+車位|土地1建物1車位1|住宅大樓|   2|   4|   2|    有|          有|     5.72E7|67.363725|849122.942206655|     1|   11|        77|        8|         132|       7|       904|         13|     280|          8|      33|        486|            4|           98|           80|          18|       11|        6|          5| 13.6821|  224707|  104138|  120569|   16423|    2.89|        2.51|     1614178|   1339702| 1071429|268273| 1720988|121.5316034|25.0533504|[2.0,4.0,2.0,11.0...|849122.942206655|  598668.463186538| 250454.48|\n",
      "|臺北市中山區一江街31~60號|中山區|一江街|   1040514|2015|房地(土地+建物)+車位|土地1建物1車位2|住宅大樓|   2|   4|   2|    有|          有|1.6528883E7|86.578525|190912.323582579|     2|   11|        77|        8|         132|       7|       904|         13|     280|          8|      33|        486|            4|           98|           80|          18|       11|        6|          5| 13.6821|  224707|  104138|  120569|   16423|    2.89|        2.51|     1614178|   1339702| 1071429|268273| 1720988|121.5316034|25.0533504|[2.0,4.0,2.0,11.0...|190912.323582579|  598668.463186538|-407756.14|\n",
      "|臺北市中山區一江街31~60號|中山區|一江街|   1090103|2020|     房地(土地+建物)|土地1建物1車位0|    華廈|   2|   3|   2|    有|          有|      2.5E7| 39.25845|636806.518723994|     0|    7|        77|        8|         132|       7|       904|         13|     280|          8|      33|        486|            4|           98|           80|          18|       11|        6|          5| 13.6821|  224707|  104138|  120569|   16423|    2.89|        2.51|     1614178|   1339702| 1071429|268273| 1720988|121.5316034|25.0533504|[2.0,3.0,2.0,7.0,...|636806.518723994| 605796.3320021677|  31010.19|\n",
      "|臺北市中山區一江街31~60號|中山區|一江街|   1040508|2015|     房地(土地+建物)|土地1建物1車位0|    華廈|   0|   0|   0|    無|          無|     1.95E7|  10.5754|1843904.60526316|     0|    7|        77|        8|         132|       7|       904|         13|     280|          8|      33|        486|            4|           98|           80|          18|       11|        6|          5| 13.6821|  224707|  104138|  120569|   16423|    2.89|        2.51|     1614178|   1339702| 1071429|268273| 1720988|121.5316034|25.0533504|[0.0,0.0,0.0,7.0,...|1843904.60526316| 673259.5225795308|1170645.08|\n",
      "|臺北市中山區一江街31~60號|中山區|一江街|   1030413|2014|房地(土地+建物)+車位|土地1建物1車位2|住宅大樓|   2|   4|   2|    有|          有|     6.04E7| 77.15565|782834.297812279|     2|   11|        77|        8|         132|       7|       904|         13|     280|          8|      33|        486|            4|           98|           80|          18|       11|        6|          5| 13.6821|  224707|  104138|  120569|   16423|    2.89|        2.51|     1614178|   1339702| 1071429|268273| 1720988|121.5316034|25.0533504|[2.0,4.0,2.0,11.0...|782834.297812279|  598668.463186538| 184165.83|\n",
      "|臺北市中山區一江街31~60號|中山區|一江街|   1071104|2018|     房地(土地+建物)|土地1建物1車位0|    華廈|   2|   3|   1|    有|          無|     1.29E7| 18.42225|700241.231527094|     0|    7|        77|        8|         132|       7|       904|         13|     280|          8|      33|        486|            4|           98|           80|          18|       11|        6|          5| 13.6821|  224707|  104138|  120569|   16423|    2.89|        2.51|     1614178|   1339702| 1071429|268273| 1720988|121.5316034|25.0533504|[2.0,3.0,1.0,7.0,...|700241.231527094| 578508.1323788603|  121733.1|\n",
      "| 臺北市中山區中原街1~30號|中山區|中原街|   1081111|2019|     房地(土地+建物)|土地1建物1車位0|    華廈|   0|   0|   0|    無|          有|  4500000.0|  9.16575|490958.910891089|     0|    7|        77|        8|         132|       7|       904|         13|     280|          8|      33|        486|            4|           98|           80|          18|       11|        6|          5| 13.6821|  224707|  104138|  120569|   16423|    2.89|        2.51|     1614178|   1339702| 1071429|268273| 1720988|121.5289176|25.0551651|[2.0,3.0,1.0,4.0,...|490958.910891089| 671710.3608635281|-180751.45|\n",
      "| 臺北市中山區中原街1~30號|中山區|中原街|   1081111|2019|     房地(土地+建物)|土地1建物1車位0|    華廈|   0|   0|   0|    無|          有|  4500000.0|  9.16575|490958.910891089|     0|    7|        77|        8|         132|       7|       904|         13|     280|          8|      33|        486|            4|           98|           80|          18|       11|        6|          5| 13.6821|  224707|  104138|  120569|   16423|    2.89|        2.51|     1614178|   1339702| 1071429|268273| 1720988|121.5289176|25.0551651|[2.0,3.0,2.0,5.0,...|490958.910891089| 516002.1982380649| -25043.29|\n",
      "| 臺北市中山區中原街1~30號|中山區|中原街|   1081111|2019|     房地(土地+建物)|土地1建物1車位0|    華廈|   0|   0|   0|    無|          有|  4500000.0|  9.16575|490958.910891089|     0|    7|        77|        8|         132|       7|       904|         13|     280|          8|      33|        486|            4|           98|           80|          18|       11|        6|          5| 13.6821|  224707|  104138|  120569|   16423|    2.89|        2.51|     1614178|   1339702| 1071429|268273| 1720988|121.5289176|25.0551651|[2.0,2.0,2.0,11.0...|490958.910891089|500167.33681701624|  -9208.43|\n",
      "| 臺北市中山區中原街1~30號|中山區|中原街|   1081111|2019|     房地(土地+建物)|土地1建物1車位0|    華廈|   0|   0|   0|    無|          有|  4500000.0|  9.16575|490958.910891089|     0|    7|        77|        8|         132|       7|       904|         13|     280|          8|      33|        486|            4|           98|           80|          18|       11|        6|          5| 13.6821|  224707|  104138|  120569|   16423|    2.89|        2.51|     1614178|   1339702| 1071429|268273| 1720988|121.5289176|25.0551651|[2.0,2.0,1.0,5.0,...|490958.910891089| 484652.3145900575|    6306.6|\n",
      "| 臺北市中山區中原街1~30號|中山區|中原街|   1081111|2019|     房地(土地+建物)|土地1建物1車位0|    華廈|   0|   0|   0|    無|          有|  4500000.0|  9.16575|490958.910891089|     0|    7|        77|        8|         132|       7|       904|         13|     280|          8|      33|        486|            4|           98|           80|          18|       11|        6|          5| 13.6821|  224707|  104138|  120569|   16423|    2.89|        2.51|     1614178|   1339702| 1071429|268273| 1720988|121.5289176|25.0551651|[0.0,0.0,0.0,7.0,...|490958.910891089| 673259.5225795308|-182300.61|\n",
      "| 臺北市中山區中原街1~30號|中山區|中原街|   1030107|2014|     房地(土地+建物)|土地1建物1車位0|    套房|   1|   1|   1|    有|          有|  2970000.0| 6.791125|437336.138084633|     0|    7|        77|        8|         132|       7|       904|         13|     280|          8|      33|        486|            4|           98|           80|          18|       11|        6|          5| 13.6821|  224707|  104138|  120569|   16423|    2.89|        2.51|     1614178|   1339702| 1071429|268273| 1720988|121.5289176|25.0551651|[1.0,1.0,1.0,7.0,...|437336.138084633| 653971.8305186973|-216635.69|\n",
      "| 臺北市中山區中原街1~30號|中山區|中原街|   1030825|2014|     房地(土地+建物)|土地1建物1車位0|    店面|   2|   2|   2|    有|          無|     3.98E7|  24.8897|1599057.38940204|     0|    5|        77|        8|         132|       7|       904|         13|     280|          8|      33|        486|            4|           98|           80|          18|       11|        6|          5| 13.6821|  224707|  104138|  120569|   16423|    2.89|        2.51|     1614178|   1339702| 1071429|268273| 1720988|121.5289176|25.0551651|[2.0,2.0,2.0,5.0,...|1599057.38940204| 623804.1696378306| 975253.22|\n",
      "| 臺北市中山區中原街1~30號|中山區|中原街|   1040708|2015|     房地(土地+建物)|土地1建物1車位0|    套房|   1|   1|   1|    有|          有|  5050000.0|  10.4423|483610.646002317|     0|    7|        77|        8|         132|       7|       904|         13|     280|          8|      33|        486|            4|           98|           80|          18|       11|        6|          5| 13.6821|  224707|  104138|  120569|   16423|    2.89|        2.51|     1614178|   1339702| 1071429|268273| 1720988|121.5289176|25.0551651|[1.0,1.0,1.0,7.0,...|483610.646002317| 653971.8305186973|-170361.18|\n",
      "+-------------------------+------+------+----------+----+--------------------+---------------+--------+----+----+----+------+------------+-----------+---------+----------------+------+-----+----------+---------+------------+--------+----------+-----------+--------+-----------+--------+-----------+-------------+-------------+-------------+------------+---------+---------+-----------+--------+--------+--------+--------+--------+--------+------------+------------+----------+--------+------+--------+-----------+----------+--------------------+----------------+------------------+----------+\n",
      "only showing top 20 rows\n",
      "\n"
     ]
    }
   ],
   "source": [
    "import pyspark.sql.functions as F\n",
    "from pyspark.sql.types import *\n",
    "\n",
    "def updown(unit,pred):\n",
    "    return round(unit-pred, 2)\n",
    "    \n",
    "#convert to a UDF Function by passing in the function and return type of function\n",
    "udfud = F.udf(updown, DoubleType())\n",
    "\n",
    "result = result.withColumn(\"漲跌\", udfud(\"unitPrice\",\"prediction\"))\n",
    "result.show()"
   ]
  },
  {
   "cell_type": "code",
   "execution_count": 38,
   "metadata": {},
   "outputs": [
    {
     "name": "stdout",
     "output_type": "stream",
     "text": [
      "root\n",
      " |-- Address: string (nullable = true)\n",
      " |-- Area: string (nullable = true)\n",
      " |-- St: string (nullable = true)\n",
      " |-- 交易年月日: integer (nullable = true)\n",
      " |-- year: integer (nullable = true)\n",
      " |-- 交易標的: string (nullable = true)\n",
      " |-- 交易筆棟數: string (nullable = true)\n",
      " |-- 建物型態: string (nullable = true)\n",
      " |-- 廳數: integer (nullable = true)\n",
      " |-- 房數: integer (nullable = true)\n",
      " |-- 衛數: integer (nullable = true)\n",
      " |-- 隔間數: string (nullable = true)\n",
      " |-- 有無管理組織: string (nullable = true)\n",
      " |-- 總價元: double (nullable = true)\n",
      " |-- 總坪數: double (nullable = true)\n",
      " |-- unitPriceOrigin: double (nullable = true)\n",
      " |-- 車位數: integer (nullable = true)\n",
      " |-- floor: integer (nullable = true)\n",
      " |-- EightCount: integer (nullable = true)\n",
      " |-- ParkCount: integer (nullable = true)\n",
      " |-- FuneralCount: integer (nullable = true)\n",
      " |-- GasCount: integer (nullable = true)\n",
      " |-- CrimeCount: integer (nullable = true)\n",
      " |-- PoliceCount: integer (nullable = true)\n",
      " |-- busCount: integer (nullable = true)\n",
      " |-- subwayCount: integer (nullable = true)\n",
      " |-- govCount: integer (nullable = true)\n",
      " |-- clinicCount: integer (nullable = true)\n",
      " |-- hospitalCount: integer (nullable = true)\n",
      " |-- pharmacyCount: integer (nullable = true)\n",
      " |-- fireareaCount: integer (nullable = true)\n",
      " |-- firewayCount: integer (nullable = true)\n",
      " |-- martCount: integer (nullable = true)\n",
      " |-- mallCount: integer (nullable = true)\n",
      " |-- cinemaCount: integer (nullable = true)\n",
      " |-- 土地面積: double (nullable = true)\n",
      " |-- 總人口數: integer (nullable = true)\n",
      " |-- 男性人數: integer (nullable = true)\n",
      " |-- 女性人數: integer (nullable = true)\n",
      " |-- 人口密度: integer (nullable = true)\n",
      " |-- 每戶人數: double (nullable = true)\n",
      " |-- 每戶成年人數: double (nullable = true)\n",
      " |-- 所得收入總計: integer (nullable = true)\n",
      " |-- 可支配所得: integer (nullable = true)\n",
      " |-- 消費支出: integer (nullable = true)\n",
      " |-- 儲蓄: integer (nullable = true)\n",
      " |-- 所得總額: integer (nullable = true)\n",
      " |-- Lontitude: double (nullable = true)\n",
      " |-- Latitude: double (nullable = true)\n",
      " |-- features: vector (nullable = true)\n",
      " |-- unitPrice: double (nullable = true)\n",
      " |-- prediction: double (nullable = false)\n",
      " |-- 漲跌: double (nullable = true)\n",
      "\n"
     ]
    }
   ],
   "source": [
    "result.printSchema()"
   ]
  },
  {
   "cell_type": "code",
   "execution_count": 39,
   "metadata": {
    "id": "L8-zOTKphXyM",
    "outputId": "9a6db4fb-231e-466d-fbc7-6becbd9dc6ff"
   },
   "outputs": [
    {
     "data": {
      "text/plain": [
       "[Row(Address='臺北市中山區一江街1~30號', Area='中山區', St='一江街', 交易年月日=1041208, year=2015, 交易標的='房地(土地+建物)', 交易筆棟數='土地1建物1車位0', 建物型態='華廈', 廳數=2, 房數=5, 衛數=3, 隔間數='有', 有無管理組織='無', 總價元=16800000.0, 總坪數=68.132075, unitPriceOrigin=246580.260178484, 車位數=0, floor=7, EightCount=77, ParkCount=8, FuneralCount=132, GasCount=7, CrimeCount=904, PoliceCount=13, busCount=280, subwayCount=8, govCount=33, clinicCount=486, hospitalCount=4, pharmacyCount=98, fireareaCount=80, firewayCount=18, martCount=11, mallCount=6, cinemaCount=5, 土地面積=13.6821, 總人口數=224707, 男性人數=104138, 女性人數=120569, 人口密度=16423, 每戶人數=2.89, 每戶成年人數=2.51, 所得收入總計=1614178, 可支配所得=1339702, 消費支出=1071429, 儲蓄=268273, 所得總額=1720988, Lontitude=121.5315679, Latitude=25.0507038, features=DenseVector([2.0, 5.0, 3.0, 7.0, 8.0, 7.0, 33.0, 4.0, 18.0, 11.0, 2.89, 1720988.0]), unitPrice=246580.260178484, prediction=575308.9187140829, 漲跌=-328728.66),\n",
       " Row(Address='臺北市中山區一江街1~30號', Area='中山區', St='一江街', 交易年月日=1080827, year=2019, 交易標的='房地(土地+建物)', 交易筆棟數='土地2建物1車位0', 建物型態='華廈', 廳數=2, 房數=2, 衛數=2, 隔間數='有', 有無管理組織='無', 總價元=23000000.0, 總坪數=32.22835, unitPriceOrigin=713658.438145298, 車位數=0, floor=7, EightCount=77, ParkCount=8, FuneralCount=132, GasCount=7, CrimeCount=904, PoliceCount=13, busCount=280, subwayCount=8, govCount=33, clinicCount=486, hospitalCount=4, pharmacyCount=98, fireareaCount=80, firewayCount=18, martCount=11, mallCount=6, cinemaCount=5, 土地面積=13.6821, 總人口數=224707, 男性人數=104138, 女性人數=120569, 人口密度=16423, 每戶人數=2.89, 每戶成年人數=2.51, 所得收入總計=1614178, 可支配所得=1339702, 消費支出=1071429, 儲蓄=268273, 所得總額=1720988, Lontitude=121.5315679, Latitude=25.0507038, features=DenseVector([2.0, 2.0, 2.0, 7.0, 8.0, 7.0, 33.0, 4.0, 18.0, 11.0, 2.89, 1720988.0]), unitPrice=713658.438145298, prediction=634684.1384578639, 漲跌=78974.3)]"
      ]
     },
     "execution_count": 39,
     "metadata": {},
     "output_type": "execute_result"
    }
   ],
   "source": [
    "result.head(2)"
   ]
  },
  {
   "cell_type": "code",
   "execution_count": 40,
   "metadata": {},
   "outputs": [
    {
     "name": "stdout",
     "output_type": "stream",
     "text": [
      "root\n",
      " |-- Area: string (nullable = true)\n",
      " |-- avg(交易年月日): double (nullable = true)\n",
      " |-- avg(year): double (nullable = true)\n",
      " |-- avg(廳數): double (nullable = true)\n",
      " |-- avg(房數): double (nullable = true)\n",
      " |-- avg(衛數): double (nullable = true)\n",
      " |-- avg(總價元): double (nullable = true)\n",
      " |-- avg(總坪數): double (nullable = true)\n",
      " |-- avg(unitPriceOrigin): double (nullable = true)\n",
      " |-- avg(車位數): double (nullable = true)\n",
      " |-- avg(floor): double (nullable = true)\n",
      " |-- avg(EightCount): double (nullable = true)\n",
      " |-- avg(ParkCount): double (nullable = true)\n",
      " |-- avg(FuneralCount): double (nullable = true)\n",
      " |-- avg(GasCount): double (nullable = true)\n",
      " |-- avg(CrimeCount): double (nullable = true)\n",
      " |-- avg(PoliceCount): double (nullable = true)\n",
      " |-- avg(busCount): double (nullable = true)\n",
      " |-- avg(subwayCount): double (nullable = true)\n",
      " |-- avg(govCount): double (nullable = true)\n",
      " |-- avg(clinicCount): double (nullable = true)\n",
      " |-- avg(hospitalCount): double (nullable = true)\n",
      " |-- avg(pharmacyCount): double (nullable = true)\n",
      " |-- avg(fireareaCount): double (nullable = true)\n",
      " |-- avg(firewayCount): double (nullable = true)\n",
      " |-- avg(martCount): double (nullable = true)\n",
      " |-- avg(mallCount): double (nullable = true)\n",
      " |-- avg(cinemaCount): double (nullable = true)\n",
      " |-- avg(土地面積): double (nullable = true)\n",
      " |-- avg(總人口數): double (nullable = true)\n",
      " |-- avg(男性人數): double (nullable = true)\n",
      " |-- avg(女性人數): double (nullable = true)\n",
      " |-- avg(人口密度): double (nullable = true)\n",
      " |-- avg(每戶人數): double (nullable = true)\n",
      " |-- avg(每戶成年人數): double (nullable = true)\n",
      " |-- avg(所得收入總計): double (nullable = true)\n",
      " |-- avg(可支配所得): double (nullable = true)\n",
      " |-- avg(消費支出): double (nullable = true)\n",
      " |-- avg(儲蓄): double (nullable = true)\n",
      " |-- avg(所得總額): double (nullable = true)\n",
      " |-- avg(Lontitude): double (nullable = true)\n",
      " |-- avg(Latitude): double (nullable = true)\n",
      " |-- avg(unitPrice): double (nullable = true)\n",
      " |-- avg(prediction): double (nullable = true)\n",
      " |-- avg(漲跌): double (nullable = true)\n",
      "\n"
     ]
    }
   ],
   "source": [
    "updown = result.groupby(['Area']).mean()\n",
    "updown.printSchema()"
   ]
  },
  {
   "cell_type": "code",
   "execution_count": 41,
   "metadata": {},
   "outputs": [
    {
     "name": "stdout",
     "output_type": "stream",
     "text": [
      "+------+------------------+-----------------+-------------------+\n",
      "|  Area|    avg(unitPrice)|  avg(prediction)|          avg(漲跌)|\n",
      "+------+------------------+-----------------+-------------------+\n",
      "|南港區| 526077.3259428595|555030.1649174213|-28952.838981944456|\n",
      "|北投區|472527.72861826356|493762.2551277943|-21234.526502513792|\n",
      "|內湖區| 523306.6956624151|528032.3343385347| -4725.638680766488|\n",
      "|萬華區|470096.72368203645|480465.0293231422|-10368.305678571442|\n",
      "|文山區|470894.20013887255|537407.0058019717| -66512.80569517576|\n",
      "|松山區| 688876.4291906742|717199.8266238418|-28323.397467711307|\n",
      "|信義區| 686091.2646814411|676752.0335638351|   9339.23110389612|\n",
      "|大同區|  552593.240185469|525934.3036345702| 26658.936528421895|\n",
      "|中正區| 727578.6470990784|728087.6818519549|  -509.034730946867|\n",
      "|中山區| 636868.5271113252|638104.9373317077|-1236.4102416614692|\n",
      "|大安區| 816875.8412153312|807816.6971096632|  9059.144127488886|\n",
      "|士林區| 564129.9154914792|566750.4101115301| -2620.494688226875|\n",
      "+------+------------------+-----------------+-------------------+\n",
      "\n"
     ]
    }
   ],
   "source": [
    "updown = updown.select('Area', 'avg(unitPrice)','avg(prediction)','avg(漲跌)')\n",
    "updown.show()"
   ]
  },
  {
   "cell_type": "code",
   "execution_count": 44,
   "metadata": {
    "id": "ZexE7vMvhXyN",
    "outputId": "1ec8aa93-9263-4314-f476-180f2055ae57"
   },
   "outputs": [
    {
     "name": "stdout",
     "output_type": "stream",
     "text": [
      "+------+------------------+-----------------+-------------------+\n",
      "|  Area|    avg(unitPrice)|  avg(prediction)|          avg(漲跌)|\n",
      "+------+------------------+-----------------+-------------------+\n",
      "|文山區|470894.20013887255|537407.0058019717| -66512.80569517576|\n",
      "|南港區| 526077.3259428595|555030.1649174213|-28952.838981944456|\n",
      "|松山區| 688876.4291906742|717199.8266238418|-28323.397467711307|\n",
      "|北投區|472527.72861826356|493762.2551277943|-21234.526502513792|\n",
      "|萬華區|470096.72368203645|480465.0293231422|-10368.305678571442|\n",
      "|內湖區| 523306.6956624151|528032.3343385347| -4725.638680766488|\n",
      "|士林區| 564129.9154914792|566750.4101115301| -2620.494688226875|\n",
      "|中山區| 636868.5271113252|638104.9373317077|-1236.4102416614692|\n",
      "|中正區| 727578.6470990784|728087.6818519549|  -509.034730946867|\n",
      "|大安區| 816875.8412153312|807816.6971096632|  9059.144127488886|\n",
      "|信義區| 686091.2646814411|676752.0335638351|   9339.23110389612|\n",
      "|大同區|  552593.240185469|525934.3036345702| 26658.936528421895|\n",
      "+------+------------------+-----------------+-------------------+\n",
      "\n",
      "CPU times: user 4.11 ms, sys: 13 ms, total: 17.1 ms\n",
      "Wall time: 2.38 s\n"
     ]
    }
   ],
   "source": [
    "%%time\n",
    "#Local Mode\n",
    "updown.orderBy('avg(漲跌)').show()"
   ]
  },
  {
   "cell_type": "code",
   "execution_count": null,
   "metadata": {},
   "outputs": [],
   "source": [
    "spark.stop()"
   ]
  }
 ],
 "metadata": {
  "colab": {
   "name": "Model_RegEnsemBoost.ipynb",
   "provenance": []
  },
  "kernelspec": {
   "display_name": "Python 3",
   "language": "python",
   "name": "python3"
  },
  "language_info": {
   "codemirror_mode": {
    "name": "ipython",
    "version": 3
   },
   "file_extension": ".py",
   "mimetype": "text/x-python",
   "name": "python",
   "nbconvert_exporter": "python",
   "pygments_lexer": "ipython3",
   "version": "3.8.5"
  },
  "toc": {
   "base_numbering": 1,
   "nav_menu": {},
   "number_sections": true,
   "sideBar": true,
   "skip_h1_title": false,
   "title_cell": "Table of Contents",
   "title_sidebar": "Contents",
   "toc_cell": false,
   "toc_position": {},
   "toc_section_display": true,
   "toc_window_display": true
  },
  "varInspector": {
   "cols": {
    "lenName": 16,
    "lenType": 16,
    "lenVar": 40
   },
   "kernels_config": {
    "python": {
     "delete_cmd_postfix": "",
     "delete_cmd_prefix": "del ",
     "library": "var_list.py",
     "varRefreshCmd": "print(var_dic_list())"
    },
    "r": {
     "delete_cmd_postfix": ") ",
     "delete_cmd_prefix": "rm(",
     "library": "var_list.r",
     "varRefreshCmd": "cat(var_dic_list()) "
    }
   },
   "types_to_exclude": [
    "module",
    "function",
    "builtin_function_or_method",
    "instance",
    "_Feature"
   ],
   "window_display": false
  }
 },
 "nbformat": 4,
 "nbformat_minor": 1
}
