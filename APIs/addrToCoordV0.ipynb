{
 "cells": [
  {
   "cell_type": "code",
   "execution_count": null,
   "metadata": {},
   "outputs": [],
   "source": [
    "# chinese address to coordinate\n",
    "import requests\n",
    "import csv\n",
    "import json\n",
    "\n",
    "dirty = pd.read_csv('/Users/10905八大清冊.csv')\n",
    "\n",
    "# enter your key here\n",
    "key_code = '你的金鑰'\n",
    "result_list = []\n",
    "\n",
    "# select the csv file\n",
    "temp = dirty['Address'].values.tolist()\n",
    "\n",
    "# print(temp)\n",
    "\n",
    "# with open('address.csv') as csvfile:\n",
    "#     /csv.reader(csvfile)\n",
    "for row in temp:\n",
    "#     print(row)\n",
    "    try:\n",
    "        addr = 'https://maps.googleapis.com/maps/api/geocode/json?address=' + row + '&language=zh-TW&key=' + key_code\n",
    "#         print(addr)\n",
    "        result = requests.get(addr)\n",
    "        obj = json.loads(result.text)\n",
    "        address = row        \n",
    "        lng = obj['results'][0]['geometry']['location']['lng']\n",
    "        lat = obj['results'][0]['geometry']['location']['lat']\n",
    "        data = [lng, lat, address]\n",
    "        result_list.append(data)\n",
    "    except:\n",
    "        print(row)\n",
    "        print(addr)\n",
    "    break #先測試，沒問題再把break拿掉\n",
    "# export to result.csv\n",
    "with open('DirtyResult.csv', 'a', newline='') as csvfile2:\n",
    "    writer = csv.writer(csvfile2)\n",
    "    writer.writerows(result_list)\n",
    "print('done')"
   ]
  }
 ],
 "metadata": {
  "kernelspec": {
   "display_name": "Python 3",
   "language": "python",
   "name": "python3"
  },
  "language_info": {
   "codemirror_mode": {
    "name": "ipython",
    "version": 3
   },
   "file_extension": ".py",
   "mimetype": "text/x-python",
   "name": "python",
   "nbconvert_exporter": "python",
   "pygments_lexer": "ipython3",
   "version": "3.7.6"
  }
 },
 "nbformat": 4,
 "nbformat_minor": 4
}
