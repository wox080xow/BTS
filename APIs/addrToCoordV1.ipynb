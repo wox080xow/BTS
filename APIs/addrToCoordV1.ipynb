{
 "cells": [
  {
   "cell_type": "code",
   "execution_count": null,
   "metadata": {},
   "outputs": [],
   "source": [
    "# coordinate to chinese address without post_id\n",
    "import requests\n",
    "import csv\n",
    "import re\n",
    "import json\n",
    "\n",
    "\n",
    "# enter your key here\n",
    "key_code = 'YOUR_KEY'\n",
    "result_list = []\n",
    "\n",
    "with open('location.csv') as csvfile:\n",
    "    rows = csv.reader(csvfile)\n",
    "    for row in rows:\n",
    "        try:\n",
    "            lat = row[1]\n",
    "            lng = row[0]\n",
    "            addr = 'https://maps.googleapis.com/maps/api/geocode/json?latlng=' + lat + ',' + lng + '&language=zh-TW&key=' + key_code\n",
    "            result = requests.get(addr)\n",
    "            obj = json.loads(result.text)\n",
    "            # get the data from json and remove the postid\n",
    "            address = obj['results'][0]['formatted_address']\n",
    "            regex = r'([0-9]+)(.*)'\n",
    "            match = re.match(regex, address)\n",
    "            data = [lng, lat, match[2]]\n",
    "            result_list.append(data)\n",
    "            break #先測試，沒問題再把break拿掉\n",
    "        except:\n",
    "            print('ERROR!')\n",
    "            print(addr)\n",
    "\n",
    "with open('result.csv', 'a', newline='') as csvfile2:\n",
    "    writer = csv.writer(csvfile2)\n",
    "    writer.writerows(result_list)\n",
    "print('done')"
   ]
  }
 ],
 "metadata": {
  "kernelspec": {
   "display_name": "Python 3",
   "language": "python",
   "name": "python3"
  },
  "language_info": {
   "codemirror_mode": {
    "name": "ipython",
    "version": 3
   },
   "file_extension": ".py",
   "mimetype": "text/x-python",
   "name": "python",
   "nbconvert_exporter": "python",
   "pygments_lexer": "ipython3",
   "version": "3.7.6"
  }
 },
 "nbformat": 4,
 "nbformat_minor": 4
}
