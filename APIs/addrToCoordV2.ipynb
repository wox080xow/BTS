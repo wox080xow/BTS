{
 "cells": [
  {
   "cell_type": "code",
   "execution_count": null,
   "metadata": {},
   "outputs": [],
   "source": [
    "# release_note 20201215\n",
    "# 1. 改為即時寫入檔案，避免程序中斷造成list存在記憶體資料遺失\n",
    "# 2. 加入try，避免google服務查詢失敗導致程序中斷，查不到會將經緯度設為error\n",
    "# 3. 代碼簡化\n",
    "import requests\n",
    "import csv\n",
    "import json\n",
    "# enter your key here\n",
    "key_code = ''\n",
    "# select the csv file\n",
    "with open('house2020.csv', encoding=\"utf-8\") as csvfile:\n",
    "    rows = csv.reader(csvfile)\n",
    "    with open('house2020_result.csv', 'a', encoding=\"utf-8\") as csvfile2:\n",
    "        writer = csv.writer(csvfile2)\n",
    "        for row in rows:\n",
    "            try:\n",
    "                addr = 'https://maps.googleapis.com/maps/api/geocode/json?address=' + row[0] + '&language=zh-TW&key=' + key_code\n",
    "                result = requests.get(addr)\n",
    "                obj = json.loads(result.text)\n",
    "                address = row[0]        \n",
    "                lng = obj['results'][0]['geometry']['location']['lng']\n",
    "                lat = obj['results'][0]['geometry']['location']['lat']\n",
    "                writer.writerow([lng, lat, address])\n",
    "            except:\n",
    "                print(addr)\n",
    "                writer.writerow(['error','error',row[0]]) ＃視需求加入\n",
    "print('done')"
   ]
  }
 ],
 "metadata": {
  "kernelspec": {
   "display_name": "Python 3",
   "language": "python",
   "name": "python3"
  },
  "language_info": {
   "codemirror_mode": {
    "name": "ipython",
    "version": 3
   },
   "file_extension": ".py",
   "mimetype": "text/x-python",
   "name": "python",
   "nbconvert_exporter": "python",
   "pygments_lexer": "ipython3",
   "version": "3.7.6"
  }
 },
 "nbformat": 4,
 "nbformat_minor": 4
}
